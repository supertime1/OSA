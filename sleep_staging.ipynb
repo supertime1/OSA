{
  "nbformat": 4,
  "nbformat_minor": 0,
  "metadata": {
    "kernelspec": {
      "display_name": "Python 3",
      "language": "python",
      "name": "python3"
    },
    "language_info": {
      "codemirror_mode": {
        "name": "ipython",
        "version": 3
      },
      "file_extension": ".py",
      "mimetype": "text/x-python",
      "name": "python",
      "nbconvert_exporter": "python",
      "pygments_lexer": "ipython3",
      "version": "3.7.6"
    },
    "colab": {
      "name": "sleep_staging.ipynb",
      "provenance": [],
      "collapsed_sections": [
        "uR8fFRT-VRXp"
      ],
      "toc_visible": true,
      "machine_shape": "hm",
      "include_colab_link": true
    },
    "accelerator": "GPU"
  },
  "cells": [
    {
      "cell_type": "markdown",
      "metadata": {
        "id": "view-in-github",
        "colab_type": "text"
      },
      "source": [
        "<a href=\"https://colab.research.google.com/github/supertime1/OSA/blob/main/sleep_staging.ipynb\" target=\"_parent\"><img src=\"https://colab.research.google.com/assets/colab-badge.svg\" alt=\"Open In Colab\"/></a>"
      ]
    },
    {
      "cell_type": "markdown",
      "metadata": {
        "id": "Qenih5OC1WGZ"
      },
      "source": [
        "#1.Import Dependency"
      ]
    },
    {
      "cell_type": "code",
      "metadata": {
        "colab": {
          "base_uri": "https://localhost:8080/"
        },
        "id": "w6pBcyjuo_S9",
        "outputId": "0a941cbe-f9eb-466b-e7a9-be85290af72e"
      },
      "source": [
        "!pip install mne"
      ],
      "execution_count": 1,
      "outputs": [
        {
          "output_type": "stream",
          "text": [
            "Requirement already satisfied: mne in /usr/local/lib/python3.7/dist-packages (0.22.0)\n",
            "Requirement already satisfied: numpy>=1.11.3 in /usr/local/lib/python3.7/dist-packages (from mne) (1.19.5)\n",
            "Requirement already satisfied: scipy>=0.17.1 in /usr/local/lib/python3.7/dist-packages (from mne) (1.4.1)\n"
          ],
          "name": "stdout"
        }
      ]
    },
    {
      "cell_type": "code",
      "metadata": {
        "id": "MF9Qp1QZL7co"
      },
      "source": [
        "import os\n",
        "import mne\n",
        "import matplotlib.pyplot as plt\n",
        "import pandas as pd\n",
        "import numpy as np\n",
        "import glob\n",
        "import pickle\n",
        "import tensorflow as tf\n",
        "import sklearn\n",
        "from sklearn import metrics\n",
        "import itertools\n",
        "import io\n",
        "import datetime\n",
        "from tensorflow import keras\n",
        "from tensorflow.keras import Model\n",
        "from tensorflow.keras.models import load_model \n",
        "from tensorflow.keras.callbacks import TensorBoard, ModelCheckpoint\n",
        "from tensorflow.keras.layers import Conv1D, BatchNormalization, Input, Add, Activation,\\\n",
        "MaxPooling1D,Dropout,Flatten,TimeDistributed,Bidirectional,Dense,LSTM, ZeroPadding1D, \\\n",
        "AveragePooling1D,GlobalMaxPooling1D, Concatenate, Permute, Dot, Multiply, RepeatVector,\\\n",
        "Lambda, Average, Softmax\n",
        "from tensorflow.keras.initializers import glorot_uniform\n",
        "import tensorflow_datasets as tfds\n",
        "\n",
        "# Load the TensorBoard notebook extension\n",
        "%load_ext tensorboard"
      ],
      "execution_count": 1,
      "outputs": []
    },
    {
      "cell_type": "markdown",
      "metadata": {
        "id": "bGh3-bNv4ChP"
      },
      "source": [
        "###TPU"
      ]
    },
    {
      "cell_type": "code",
      "metadata": {
        "id": "FuMfXVe3fac8"
      },
      "source": [
        "try:\r\n",
        "  tpu = tf.distribute.cluster_resolver.TPUClusterResolver()  # TPU detection\r\n",
        "  print('Running on TPU ', tpu.cluster_spec().as_dict()['worker'])\r\n",
        "except ValueError:\r\n",
        "  raise BaseException('ERROR: Not connected to a TPU runtime; please see the previous cell in this notebook for instructions!')\r\n",
        "\r\n",
        "tf.config.experimental_connect_to_cluster(tpu)\r\n",
        "tf.tpu.experimental.initialize_tpu_system(tpu)\r\n",
        "tpu_strategy = tf.distribute.TPUStrategy(tpu)"
      ],
      "execution_count": null,
      "outputs": []
    },
    {
      "cell_type": "markdown",
      "metadata": {
        "id": "UObAIRxo4Elr"
      },
      "source": [
        "###GPU"
      ]
    },
    {
      "cell_type": "code",
      "metadata": {
        "id": "FN6YFa203lH7",
        "outputId": "b0a4d40f-1f5d-45e3-fe1e-bb854dcaf352",
        "colab": {
          "base_uri": "https://localhost:8080/"
        }
      },
      "source": [
        "mirrored_strategy = tf.distribute.MirroredStrategy()"
      ],
      "execution_count": 2,
      "outputs": [
        {
          "output_type": "stream",
          "text": [
            "INFO:tensorflow:Using MirroredStrategy with devices ('/job:localhost/replica:0/task:0/device:GPU:0',)\n"
          ],
          "name": "stdout"
        }
      ]
    },
    {
      "cell_type": "markdown",
      "metadata": {
        "id": "1Ivd9p141UMC"
      },
      "source": [
        "#2.Process the data"
      ]
    },
    {
      "cell_type": "markdown",
      "metadata": {
        "id": "uR8fFRT-VRXp"
      },
      "source": [
        "##2.1 Local preprocess"
      ]
    },
    {
      "cell_type": "code",
      "metadata": {
        "id": "VI6ZHOcPL7c2"
      },
      "source": [
        "def load_data(file_path, sf=128, epoch_duration=30):\n",
        "\n",
        "    ecg_samples = []\n",
        "    ecg_labels = []\n",
        "    total_epoches = 0\n",
        "    \n",
        "    for signal_file in glob.glob(file_path + '*[0-9].edf'):\n",
        "        \n",
        "        ecg_epoches = []\n",
        "        \n",
        "        data = mne.io.read_raw_edf(signal_file)\n",
        "        ecg_ch = [i for i, v in enumerate(data.info.ch_names) if v == 'ECG']\n",
        "        ecg_signal = data.get_data()[ecg_ch[0]]\n",
        "        \n",
        "        num_of_sample_per_epoch = sf * epoch_duration\n",
        "        num_of_epoches = len(ecg_signal) // (num_of_sample_per_epoch)\n",
        "        total_epoches += num_of_epoches\n",
        "        \n",
        "        print(f'{signal_file[-12:]} has {num_of_epoches} epoches')\n",
        "\n",
        "        for i in range(num_of_epoches):\n",
        "            ecg_epoch = ecg_signal[i*num_of_sample_per_epoch : (i+1)*num_of_sample_per_epoch]\n",
        "            ecg_epoches.append(ecg_epoch)\n",
        "        ecg_samples.append(ecg_epoches)\n",
        "    \n",
        "    for label_file in glob.glob(file_path + '*stage.txt'):\n",
        "        print(f'reading {label_file}')\n",
        "        ecg_labels.append(np.loadtxt(label_file))\n",
        "        \n",
        "    assert len(ecg_samples) == len(ecg_labels)\n",
        "\n",
        "    for i in range(len(ecg_samples)):\n",
        "        new_length = len(ecg_labels[i])\n",
        "        ecg_samples[i] = ecg_samples[i][:new_length]\n",
        "    \n",
        "    return ecg_samples, ecg_labels, total_epoches\n",
        "\n",
        "fp = \"C:/Users/57lzhang.US04WW4008/Downloads/ucd/files/\"\n",
        "ecg_samples, ecg_labels, total_epoches = load_data(fp, 128, 30)"
      ],
      "execution_count": 7,
      "outputs": []
    },
    {
      "cell_type": "code",
      "metadata": {
        "colab": {
          "base_uri": "https://localhost:8080/",
          "height": 223
        },
        "id": "tcCZ0XlUPpOQ",
        "outputId": "290e7d81-2eb9-40be-c792-6ae0e196bdd9"
      },
      "source": [
        "with open(\"C:/Users/57lzhang.US04WW4008/Downloads/ucd/files/processed_data/ecg_samples.pkl\", \"wb\") as fp:\r\n",
        "    pickle.dump(ecg_samples, fp)\r\n",
        "\r\n",
        "with open(\"C:/Users/57lzhang.US04WW4008/Downloads/ucd/files/processed_data/ecg_labels.pkl\", \"wb\") as fp:\r\n",
        "    pickle.dump(ecg_labels, fp)"
      ],
      "execution_count": 8,
      "outputs": [
        {
          "output_type": "error",
          "ename": "FileNotFoundError",
          "evalue": "ignored",
          "traceback": [
            "\u001b[0;31m---------------------------------------------------------------------------\u001b[0m",
            "\u001b[0;31mFileNotFoundError\u001b[0m                         Traceback (most recent call last)",
            "\u001b[0;32m<ipython-input-8-999fb8c11cb5>\u001b[0m in \u001b[0;36m<module>\u001b[0;34m()\u001b[0m\n\u001b[0;32m----> 1\u001b[0;31m \u001b[0;32mwith\u001b[0m \u001b[0mopen\u001b[0m\u001b[0;34m(\u001b[0m\u001b[0;34m\"C:/Users/57lzhang.US04WW4008/Downloads/ucd/files/processed_data/ecg_samples.pkl\"\u001b[0m\u001b[0;34m,\u001b[0m \u001b[0;34m\"wb\"\u001b[0m\u001b[0;34m)\u001b[0m \u001b[0;32mas\u001b[0m \u001b[0mfp\u001b[0m\u001b[0;34m:\u001b[0m\u001b[0;34m\u001b[0m\u001b[0;34m\u001b[0m\u001b[0m\n\u001b[0m\u001b[1;32m      2\u001b[0m     \u001b[0mpickle\u001b[0m\u001b[0;34m.\u001b[0m\u001b[0mdump\u001b[0m\u001b[0;34m(\u001b[0m\u001b[0mecg_samples\u001b[0m\u001b[0;34m,\u001b[0m \u001b[0mfp\u001b[0m\u001b[0;34m)\u001b[0m\u001b[0;34m\u001b[0m\u001b[0;34m\u001b[0m\u001b[0m\n\u001b[1;32m      3\u001b[0m \u001b[0;34m\u001b[0m\u001b[0m\n\u001b[1;32m      4\u001b[0m \u001b[0;32mwith\u001b[0m \u001b[0mopen\u001b[0m\u001b[0;34m(\u001b[0m\u001b[0;34m\"C:/Users/57lzhang.US04WW4008/Downloads/ucd/files/processed_data/ecg_labels.pkl\"\u001b[0m\u001b[0;34m,\u001b[0m \u001b[0;34m\"wb\"\u001b[0m\u001b[0;34m)\u001b[0m \u001b[0;32mas\u001b[0m \u001b[0mfp\u001b[0m\u001b[0;34m:\u001b[0m\u001b[0;34m\u001b[0m\u001b[0;34m\u001b[0m\u001b[0m\n\u001b[1;32m      5\u001b[0m     \u001b[0mpickle\u001b[0m\u001b[0;34m.\u001b[0m\u001b[0mdump\u001b[0m\u001b[0;34m(\u001b[0m\u001b[0mecg_labels\u001b[0m\u001b[0;34m,\u001b[0m \u001b[0mfp\u001b[0m\u001b[0;34m)\u001b[0m\u001b[0;34m\u001b[0m\u001b[0;34m\u001b[0m\u001b[0m\n",
            "\u001b[0;31mFileNotFoundError\u001b[0m: [Errno 2] No such file or directory: 'C:/Users/57lzhang.US04WW4008/Downloads/ucd/files/processed_data/ecg_samples.pkl'"
          ]
        }
      ]
    },
    {
      "cell_type": "markdown",
      "metadata": {
        "id": "gyIcQ2ThVVj5"
      },
      "source": [
        "##2.2 Load data from Cloud"
      ]
    },
    {
      "cell_type": "code",
      "metadata": {
        "colab": {
          "base_uri": "https://localhost:8080/"
        },
        "id": "rScUZtnMVaAj",
        "outputId": "b412dc9e-55b6-4466-8fe9-40f5270a5e12"
      },
      "source": [
        "from google.colab import drive\r\n",
        "drive.mount('/content/drive')\r\n",
        "\r\n",
        "file_path = '/content/drive/MyDrive/osa/ecg_samples.pkl'\r\n",
        "\r\n",
        "with open('/content/drive/MyDrive/osa/ecg_samples.pkl', \"rb\") as fp:\r\n",
        "    ecg_samples = pickle.load(fp)\r\n",
        "\r\n",
        "with open('/content/drive/MyDrive/osa/ecg_labels.pkl', \"rb\") as fp:\r\n",
        "    ecg_labels = pickle.load(fp)"
      ],
      "execution_count": 3,
      "outputs": [
        {
          "output_type": "stream",
          "text": [
            "Drive already mounted at /content/drive; to attempt to forcibly remount, call drive.mount(\"/content/drive\", force_remount=True).\n"
          ],
          "name": "stdout"
        }
      ]
    },
    {
      "cell_type": "code",
      "metadata": {
        "id": "6uMXE-6lL7c6",
        "colab": {
          "base_uri": "https://localhost:8080/"
        },
        "outputId": "d426572b-e368-4ac6-c048-5386cdf0d561"
      },
      "source": [
        "# split by patient id \r\n",
        "def split_data(ecg_samples, ecg_labels, train_ratio, test_ratio):\r\n",
        "    test_num = round(len(ecg_samples) * test_ratio)\r\n",
        "    train_num = round((len(ecg_samples) - test_num) * train_ratio)\r\n",
        "    val_num = len(ecg_samples) - test_num - train_num\r\n",
        "\r\n",
        "    np.random.seed(seed=7)\r\n",
        "    np.random.shuffle(ecg_samples)\r\n",
        "    train_samples = ecg_samples[:train_num]\r\n",
        "    val_samples = ecg_samples[train_num:train_num+val_num]\r\n",
        "    test_samples = ecg_samples[-test_num:]\r\n",
        "\r\n",
        "    np.random.seed(seed=7)\r\n",
        "    np.random.shuffle(ecg_labels)\r\n",
        "    train_labels = ecg_labels[:train_num]\r\n",
        "    val_labels = ecg_labels[train_num:train_num+val_num]\r\n",
        "    test_labels = ecg_labels[-test_num:]\r\n",
        "\r\n",
        "    return train_samples, train_labels, val_samples, val_labels, test_samples, test_labels \r\n",
        "\r\n",
        "train_samples, train_labels, val_samples, val_labels, test_samples, test_labels = split_data(ecg_samples, ecg_labels, 0.8, 0.12)\r\n",
        "print(f'There are {len(train_samples)} subjects in training dataset')\r\n",
        "print(f'There are {len(val_samples)} subjects in validation dataset')\r\n",
        "print(f'There are {len(test_samples)} subjects in testing dataset')"
      ],
      "execution_count": 4,
      "outputs": [
        {
          "output_type": "stream",
          "text": [
            "There are 18 subjects in training dataset\n",
            "There are 4 subjects in validation dataset\n",
            "There are 3 subjects in testing dataset\n"
          ],
          "name": "stdout"
        }
      ]
    },
    {
      "cell_type": "code",
      "metadata": {
        "id": "liakZ4jYL7c7"
      },
      "source": [
        "def preprocess_data(num_epoch, epoch_duration, sf, ecg_samples, ecg_labels, oversample=True):\n",
        "    \"\"\"\n",
        "    preprocess data with the matched dimension for training\n",
        "    [num_epoch, 30*sampling_frequency, 1]\n",
        "\n",
        "    params:\n",
        "    epoch - number of epoches for each training sample\n",
        "    sf - sampling frequency of ECG signal\n",
        "    file_path - file path of raw EDF file\n",
        "    \"\"\"\n",
        "    model_signal_input = []\n",
        "    model_label_input = []\n",
        "\n",
        "    num_of_sample_per_epoch = sf * epoch_duration\n",
        "\n",
        "    for i in range(len(ecg_samples)):\n",
        "        ecg_samples[i] = sklearn.preprocessing.minmax_scale(ecg_samples[i])\n",
        "        if oversample:\n",
        "            overlap = int(0.9 * num_epoch)\n",
        "            for j in range(len(ecg_samples[i])):\n",
        "                signal_segment = np.asarray(ecg_samples[i][j*(num_epoch - overlap): j*(num_epoch - overlap) + num_epoch])\n",
        "                if len(signal_segment) == num_epoch:\n",
        "                    new_signal_seg = np.reshape(signal_segment, (num_epoch, num_of_sample_per_epoch, 1))\n",
        "                    model_signal_input.append(new_signal_seg)\n",
        "                \n",
        "                # apply to labels as well\n",
        "                label_segment = np.asarray(ecg_labels[i][j*(num_epoch - overlap): j*(num_epoch - overlap) + num_epoch])\n",
        "                if len(label_segment) == num_epoch:\n",
        "                    model_label_input.append(label_segment)\n",
        "        \n",
        "        else:\n",
        "            for j in range(len(ecg_samples[i])):\n",
        "                signal_segment = np.asarray(ecg_samples[i][j*num_epoch: (j+1)*num_epoch]) \n",
        "                if len(signal_segment) == num_epoch:\n",
        "                    new_signal_seg = np.reshape(signal_segment, (num_epoch, num_of_sample_per_epoch, 1))\n",
        "                    model_signal_input.append(new_signal_seg)\n",
        "\n",
        "                # apply to labels as well\n",
        "                label_segment = np.asarray(ecg_labels[i][j*num_epoch: (j+1)*num_epoch])\n",
        "                if len(label_segment) == num_epoch:\n",
        "                    model_label_input.append(label_segment)\n",
        "        \n",
        "    print(f'shape of processed signal data: {np.asarray(model_signal_input).shape}')\n",
        "    print(f'shape of processed label data: {np.asarray(model_label_input).shape}')\n",
        "\n",
        "    return np.asarray(model_signal_input), np.asarray(model_label_input)"
      ],
      "execution_count": 5,
      "outputs": []
    },
    {
      "cell_type": "code",
      "metadata": {
        "colab": {
          "base_uri": "https://localhost:8080/"
        },
        "id": "9DyRhHbEyoT4",
        "outputId": "a63c2440-5f34-4fe1-a453-789393fbc087"
      },
      "source": [
        "def helper(samples, labels):\r\n",
        "    for i in range(len(samples)):\r\n",
        "        print(f'{len(samples[i])}, {len(labels[i])}')\r\n",
        "\r\n",
        "helper(ecg_samples, ecg_labels)"
      ],
      "execution_count": 6,
      "outputs": [
        {
          "output_type": "stream",
          "text": [
            "882, 882\n",
            "768, 768\n",
            "774, 774\n",
            "789, 789\n",
            "826, 826\n",
            "711, 711\n",
            "864, 864\n",
            "752, 752\n",
            "916, 916\n",
            "748, 748\n",
            "893, 893\n",
            "925, 925\n",
            "908, 908\n",
            "913, 913\n",
            "721, 721\n",
            "811, 811\n",
            "787, 787\n",
            "900, 900\n",
            "822, 822\n",
            "907, 907\n",
            "861, 861\n",
            "808, 808\n",
            "838, 838\n",
            "813, 813\n",
            "852, 852\n"
          ],
          "name": "stdout"
        }
      ]
    },
    {
      "cell_type": "code",
      "metadata": {
        "colab": {
          "base_uri": "https://localhost:8080/"
        },
        "id": "E_sRNpmNbsjB",
        "outputId": "ac158ab6-b7d7-4741-8150-5fc938ed8a59"
      },
      "source": [
        "train_signal_input, train_label_input = preprocess_data(50, 30, 128, train_samples, train_labels, oversample=True)\r\n",
        "val_signal_input, val_label_input = preprocess_data(50, 30, 128, val_samples, val_labels, oversample=True)\r\n",
        "test_signal_input, test_label_input = preprocess_data(50, 30, 128, test_samples, test_labels, oversample=False)"
      ],
      "execution_count": 7,
      "outputs": [
        {
          "output_type": "stream",
          "text": [
            "shape of processed signal data: (2808, 50, 3840, 1)\n",
            "shape of processed label data: (2808, 50)\n",
            "shape of processed signal data: (642, 50, 3840, 1)\n",
            "shape of processed label data: (642, 50)\n",
            "shape of processed signal data: (49, 50, 3840, 1)\n",
            "shape of processed label data: (49, 50)\n"
          ],
          "name": "stdout"
        }
      ]
    },
    {
      "cell_type": "code",
      "metadata": {
        "colab": {
          "base_uri": "https://localhost:8080/"
        },
        "id": "o362XJUmsMHa",
        "outputId": "165a600b-104e-4deb-cd3a-10af045eb97d"
      },
      "source": [
        "def print_label(label_input):\r\n",
        "    print(f'There are {len(label_input[label_input == 0])} wake labels')\r\n",
        "    print(f'There are {len(label_input[label_input == 1])} REM labels')\r\n",
        "    print(f'There are {len(label_input[label_input == 2])} Stage_1 labels')\r\n",
        "    print(f'There are {len(label_input[label_input == 3])} Stage_2 labels')\r\n",
        "    print(f'There are {len(label_input[label_input == 4])} Stage_3 labels')\r\n",
        "    print(f'There are {len(label_input[label_input == 5])} Stage_4 labels')\r\n",
        "    print(f'There are {len(label_input[label_input == 6])} Artifact labels')\r\n",
        "    print(f'There are {len(label_input[label_input == 7])} Indeterminate labels \\n')\r\n",
        "\r\n",
        "print_label(train_label_input)\r\n",
        "print_label(val_label_input)\r\n",
        "print_label(test_label_input)"
      ],
      "execution_count": 8,
      "outputs": [
        {
          "output_type": "stream",
          "text": [
            "There are 30608 wake labels\n",
            "There are 19753 REM labels\n",
            "There are 25226 Stage_1 labels\n",
            "There are 48120 Stage_2 labels\n",
            "There are 4476 Stage_3 labels\n",
            "There are 12083 Stage_4 labels\n",
            "There are 0 Artifact labels\n",
            "There are 0 Indeterminate labels \n",
            "\n",
            "There are 6510 wake labels\n",
            "There are 4283 REM labels\n",
            "There are 5639 Stage_1 labels\n",
            "There are 10350 Stage_2 labels\n",
            "There are 1018 Stage_3 labels\n",
            "There are 4300 Stage_4 labels\n",
            "There are 0 Artifact labels\n",
            "There are 0 Indeterminate labels \n",
            "\n",
            "There are 256 wake labels\n",
            "There are 536 REM labels\n",
            "There are 189 Stage_1 labels\n",
            "There are 1007 Stage_2 labels\n",
            "There are 115 Stage_3 labels\n",
            "There are 347 Stage_4 labels\n",
            "There are 0 Artifact labels\n",
            "There are 0 Indeterminate labels \n",
            "\n"
          ],
          "name": "stdout"
        }
      ]
    },
    {
      "cell_type": "code",
      "metadata": {
        "id": "GBhTjlajO0JY"
      },
      "source": [
        "def join_labels(label_input):\r\n",
        "    for i in range(len(label_input)):\r\n",
        "        label_input[label_input > 1] = 2\r\n",
        "    print(f'There are {len(label_input[label_input == 0])} wake labels')\r\n",
        "    print(f'There are {len(label_input[label_input == 1])} REM labels')\r\n",
        "    print(f'There are {len(label_input[label_input == 2])} NREM labels \\n')\r\n",
        "    return label_input"
      ],
      "execution_count": 9,
      "outputs": []
    },
    {
      "cell_type": "code",
      "metadata": {
        "colab": {
          "base_uri": "https://localhost:8080/"
        },
        "id": "hfBTo1DySxHh",
        "outputId": "0f59f508-7ad6-48f4-cac0-5ad5d48146ee"
      },
      "source": [
        "train_label_input_join = join_labels(train_label_input)\r\n",
        "val_label_input_join = join_labels(val_label_input)\r\n",
        "test_label_input_join = join_labels(test_label_input)"
      ],
      "execution_count": 10,
      "outputs": [
        {
          "output_type": "stream",
          "text": [
            "There are 30608 wake labels\n",
            "There are 19753 REM labels\n",
            "There are 90039 NREM labels \n",
            "\n",
            "There are 6510 wake labels\n",
            "There are 4283 REM labels\n",
            "There are 21307 NREM labels \n",
            "\n",
            "There are 256 wake labels\n",
            "There are 536 REM labels\n",
            "There are 1658 NREM labels \n",
            "\n"
          ],
          "name": "stdout"
        }
      ]
    },
    {
      "cell_type": "code",
      "metadata": {
        "id": "5XeavEnYttea"
      },
      "source": [
        "def oversample_label(train_signal_input, train_label_input_join):\r\n",
        "    os_train_signal_input = []\r\n",
        "    os_train_label_input_join = []\r\n",
        "    \r\n",
        "    for i in range(len(train_label_input_join)):\r\n",
        "        if len(train_label_input_join[i][train_label_input_join[i] == 1]) > 20:\r\n",
        "            for _ in range(4):\r\n",
        "                os_train_signal_input.append(train_signal_input[i])\r\n",
        "                os_train_label_input_join.append(train_label_input_join[i])\r\n",
        "        \r\n",
        "        os_train_signal_input.append(train_signal_input[i])\r\n",
        "        os_train_label_input_join.append(train_label_input_join[i])\r\n",
        "\r\n",
        "    os_train_signal = np.asarray(os_train_signal_input)\r\n",
        "    os_train_label = np.asarray(os_train_label_input_join)\r\n",
        "\r\n",
        "    print(f'There are {len(os_train_label[os_train_label == 0])} wake labels')\r\n",
        "    print(f'There are {len(os_train_label[os_train_label == 1])} REM labels')\r\n",
        "    print(f'There are {len(os_train_label[os_train_label == 2])} NREM labels \\n')\r\n",
        "    print(f'shape of input signal {os_train_signal.shape}')\r\n",
        "    return os_train_signal, os_train_label"
      ],
      "execution_count": 11,
      "outputs": []
    },
    {
      "cell_type": "code",
      "metadata": {
        "id": "-3dPkbW9vRhS",
        "outputId": "cc5d07ef-2346-402f-abc9-aa16dd227e8a",
        "colab": {
          "base_uri": "https://localhost:8080/"
        }
      },
      "source": [
        "os_train_signal, os_train_label = oversample_label(train_signal_input, train_label_input_join)"
      ],
      "execution_count": 12,
      "outputs": [
        {
          "output_type": "stream",
          "text": [
            "There are 35188 wake labels\n",
            "There are 81493 REM labels\n",
            "There are 112719 NREM labels \n",
            "\n",
            "shape of input signal (4588, 50, 3840, 1)\n"
          ],
          "name": "stdout"
        }
      ]
    },
    {
      "cell_type": "markdown",
      "metadata": {
        "id": "ZcFDcYX61O72"
      },
      "source": [
        "#3.Model"
      ]
    },
    {
      "cell_type": "markdown",
      "metadata": {
        "id": "qqvRMtVPTyE5"
      },
      "source": [
        "##3.1 Callbacks"
      ]
    },
    {
      "cell_type": "code",
      "metadata": {
        "id": "wr7CnSvMTqvF"
      },
      "source": [
        "## tensorboard callback\r\n",
        "logdir = os.path.join(\"logs\", datetime.datetime.now().strftime(\"%Y%m%d-%H%M%S\"))\r\n",
        "tensorboard_callback = tf.keras.callbacks.TensorBoard(logdir, histogram_freq=1)\r\n",
        "\r\n",
        "## checkpoint callback\r\n",
        "filepath = os.path.join(\"models\",  \"test-oversample-128Hz-{epoch:02d}-{loss:.4f}\")\r\n",
        "checkpoint = ModelCheckpoint(filepath, monitor='val_loss', verbose=1, \r\n",
        "                             save_best_only=True, mode='auto')\r\n",
        "\r\n",
        "## early stop\r\n",
        "def decay(epoch):\r\n",
        "    if epoch < 50:\r\n",
        "        return 1e-3\r\n",
        "    elif 50 <= epoch < 150:\r\n",
        "        return 1e-4\r\n",
        "    else:\r\n",
        "        return 1e-5\r\n",
        "\r\n",
        "early_stop = tf.keras.callbacks.EarlyStopping(monitor='val_loss', patience=20, \r\n",
        "                                              restore_best_weights=True)\r\n",
        "\r\n",
        "## learning rate decay callback\r\n",
        "lr_schedule = tf.keras.callbacks.LearningRateScheduler(decay)\r\n",
        "\r\n",
        "callbacks_list = [tensorboard_callback, checkpoint, early_stop, lr_schedule]"
      ],
      "execution_count": 19,
      "outputs": []
    },
    {
      "cell_type": "markdown",
      "metadata": {
        "id": "m4t-6PrNT1I5"
      },
      "source": [
        "##3.2 Model"
      ]
    },
    {
      "cell_type": "markdown",
      "metadata": {
        "id": "MxDhnq-R2AOW"
      },
      "source": [
        "###3.2.1 CNN+LSTM"
      ]
    },
    {
      "cell_type": "code",
      "metadata": {
        "id": "ipW3enoc04qm"
      },
      "source": [
        "batch_size = 64\n",
        "\n",
        "train_dataset = tf.data.Dataset.from_tensor_slices((os_train_signal, os_train_label))\n",
        "val_dataset = tf.data.Dataset.from_tensor_slices((val_signal_input, val_label_input_join))\n",
        "\n",
        "train_dataset = train_dataset.cache()\n",
        "train_dataset = train_dataset.shuffle(1024).repeat().batch(batch_size, drop_remainder=True)\n",
        "train_dataset = train_dataset.prefetch(buffer_size=tf.data.experimental.AUTOTUNE)\n",
        "val_dataset = val_dataset.repeat().batch(batch_size, drop_remainder=True)"
      ],
      "execution_count": 17,
      "outputs": []
    },
    {
      "cell_type": "code",
      "metadata": {
        "id": "ltJxzYIr3i3v"
      },
      "source": [
        "def cnn_1d(input_shape=None, dropout=0.2):\r\n",
        "    \r\n",
        "    x_input = Input(shape=input_shape)\r\n",
        "    x = Conv1D(64, 21, strides=5, activation='relu')(x_input)\r\n",
        "    x = BatchNormalization()(x)\r\n",
        "    x = MaxPooling1D(pool_size=2, strides=2)(x)\r\n",
        "    x = Dropout(dropout)(x)\r\n",
        "    # 2nd Conv1D\r\n",
        "    x = Conv1D(128, 5, strides=1, activation='relu')(x)\r\n",
        "    x = BatchNormalization()(x)\r\n",
        "    x = MaxPooling1D(pool_size=2, strides=2)(x)\r\n",
        "    x = Dropout(dropout)(x)\r\n",
        "    # 3rd Conv1D\r\n",
        "    x = Conv1D(256, 5, strides=1, activation='relu')(x)\r\n",
        "    x = BatchNormalization()(x)\r\n",
        "    x = MaxPooling1D(pool_size=2, strides=2)(x)\r\n",
        "    x = Dropout(dropout)(x)\r\n",
        "    # 4th Conv1D\r\n",
        "    x = Conv1D(512, 5, strides=1, activation='relu')(x)\r\n",
        "    x = BatchNormalization()(x)\r\n",
        "    x = MaxPooling1D(pool_size=2, strides=2)(x)\r\n",
        "    x = Dropout(dropout)(x)\r\n",
        "    # 5th Conv1D\r\n",
        "    x = Conv1D(256, 5, strides=1, activation='relu')(x)\r\n",
        "    x = BatchNormalization()(x)\r\n",
        "\r\n",
        "    # Full connection layer\r\n",
        "    out = Flatten()(x)\r\n",
        "\r\n",
        "    model = Model(x_input, out, name='cnn_1d_layer')\r\n",
        "\r\n",
        "    return model"
      ],
      "execution_count": 17,
      "outputs": []
    },
    {
      "cell_type": "code",
      "metadata": {
        "colab": {
          "base_uri": "https://localhost:8080/"
        },
        "id": "0qU6oB2U5Nvw",
        "outputId": "23a3ca79-fd60-4c56-fef5-e1c6b4163a17"
      },
      "source": [
        "def cnn_lstm(input_shape=(50,3840,1), classes=3):\r\n",
        "    cnn = cnn_1d((3840,1))\r\n",
        "    x_input = Input(shape=input_shape)\r\n",
        "    x = TimeDistributed(cnn)(x_input)\r\n",
        "    x = Bidirectional(LSTM(64, return_sequences=True))(x)\r\n",
        "    x = Bidirectional(LSTM(32, return_sequences=True))(x)\r\n",
        "    out = TimeDistributed(Dense(classes))(x)\r\n",
        "    model = Model(x_input, out, name='cnn_lstm')\r\n",
        "\r\n",
        "    return model\r\n",
        "\r\n",
        "model = cnn_lstm(input_shape=(50,3840,1), classes=3)\r\n",
        "model.summary()"
      ],
      "execution_count": 15,
      "outputs": [
        {
          "output_type": "stream",
          "text": [
            "Model: \"cnn_lstm\"\n",
            "_________________________________________________________________\n",
            "Layer (type)                 Output Shape              Param #   \n",
            "=================================================================\n",
            "input_2 (InputLayer)         [(None, 50, 3840, 1)]     0         \n",
            "_________________________________________________________________\n",
            "time_distributed (TimeDistri (None, 50, 10240)         1522944   \n",
            "_________________________________________________________________\n",
            "bidirectional (Bidirectional (None, 50, 128)           5276160   \n",
            "_________________________________________________________________\n",
            "bidirectional_1 (Bidirection (None, 50, 64)            41216     \n",
            "_________________________________________________________________\n",
            "time_distributed_1 (TimeDist (None, 50, 3)             195       \n",
            "=================================================================\n",
            "Total params: 6,840,515\n",
            "Trainable params: 6,838,083\n",
            "Non-trainable params: 2,432\n",
            "_________________________________________________________________\n"
          ],
          "name": "stdout"
        }
      ]
    },
    {
      "cell_type": "markdown",
      "metadata": {
        "id": "WHvDHOP02EkZ"
      },
      "source": [
        "###3.2.2 Attention"
      ]
    },
    {
      "cell_type": "code",
      "metadata": {
        "id": "mmQ0QUIsVGF1"
      },
      "source": [
        "n_a = 32 #Number of pre-LSTM states\n",
        "n_s = 16 #Number of post-LSTM states\n",
        "Tx = 50\n",
        "Ty = 50\n",
        "t_s0 = np.zeros((len(os_train_signal), n_s))\n",
        "t_c0 = np.zeros((len(os_train_signal), n_s))\n",
        "v_s0 = np.zeros((len(val_signal_input), n_s))\n",
        "v_c0 = np.zeros((len(val_signal_input), n_s))"
      ],
      "execution_count": 13,
      "outputs": []
    },
    {
      "cell_type": "code",
      "metadata": {
        "id": "PAmwdJeyXTEQ"
      },
      "source": [
        "batch_size = 32\n",
        "# training data pipeline\n",
        "train_ds = tf.data.Dataset.from_tensor_slices(os_train_signal)\n",
        "train_lb = tf.data.Dataset.from_tensor_slices(os_train_label)\n",
        "train_s0 = tf.data.Dataset.from_tensor_slices(t_s0)\n",
        "train_c0 = tf.data.Dataset.from_tensor_slices(t_c0)\n",
        "train_dataset = tf.data.Dataset.zip(((train_ds,train_s0,train_c0),train_lb))\n",
        "\n",
        "train_dataset = train_dataset.cache()\n",
        "train_dataset = train_dataset.shuffle(1024).repeat().batch(batch_size, drop_remainder=True)\n",
        "train_dataset = train_dataset.prefetch(buffer_size=tf.data.experimental.AUTOTUNE)\n",
        "\n",
        "# validation data pipeline\n",
        "val_ds = tf.data.Dataset.from_tensor_slices(val_signal_input)\n",
        "val_lb = tf.data.Dataset.from_tensor_slices(val_label_input_join)\n",
        "val_s0 = tf.data.Dataset.from_tensor_slices(v_s0)\n",
        "val_c0 = tf.data.Dataset.from_tensor_slices(v_c0)\n",
        "val_dataset = tf.data.Dataset.zip(((val_ds,val_s0,val_c0),val_lb))\n",
        "\n",
        "val_dataset = val_dataset.repeat().batch(batch_size, drop_remainder=True)"
      ],
      "execution_count": 14,
      "outputs": []
    },
    {
      "cell_type": "code",
      "metadata": {
        "id": "7xE7zA3H3HPh",
        "outputId": "c9665d79-ed13-4f5b-9d26-eecc0f4794cb",
        "colab": {
          "base_uri": "https://localhost:8080/"
        }
      },
      "source": [
        "train_dataset"
      ],
      "execution_count": 22,
      "outputs": [
        {
          "output_type": "execute_result",
          "data": {
            "text/plain": [
              "<PrefetchDataset shapes: (((32, 50, 3840, 1), (32, 16), (32, 16)), (32, 50)), types: ((tf.float64, tf.float64, tf.float64), tf.float64)>"
            ]
          },
          "metadata": {
            "tags": []
          },
          "execution_count": 22
        }
      ]
    },
    {
      "cell_type": "code",
      "metadata": {
        "id": "Bllwdvrx2HWW"
      },
      "source": [
        "def one_step_attention(a, s_prev): \r\n",
        "    \"\"\"\r\n",
        "    Performs one step of attention: Outputs a context vector computed as a dot product of the attention weights\r\n",
        "    \"alphas\" and the hidden states \"a\" of the Bi-LSTM.\r\n",
        "\r\n",
        "    Arguments:\r\n",
        "    a -- hidden state output of the Bi-LSTM, numpy-array of shape (m, Tx, 2*n_a)\r\n",
        "    s_prev -- previous hidden state of the (post-attention) LSTM, numpy-array of shape (m, n_s)\r\n",
        "\r\n",
        "    Returns:\r\n",
        "    context -- context vector, input of the next (post-attention) LSTM cell\r\n",
        "    \"\"\"\r\n",
        "    s_prev = RepeatVector(Tx)(s_prev)\r\n",
        "    concat = Concatenate(axis=-1)([a, s_prev])\r\n",
        "    e = Dense(10, activation = \"tanh\")(concat)\r\n",
        "    energies = Dense(1, activation = \"relu\")(e)\r\n",
        "    alphas = tf.nn.softmax(energies,axis=1)\r\n",
        "    context = Dot(axes = 1)([alphas,a])\r\n",
        "\r\n",
        "    return context"
      ],
      "execution_count": 18,
      "outputs": []
    },
    {
      "cell_type": "code",
      "metadata": {
        "id": "QFuGyAkV2_dy",
        "outputId": "459d93b8-33eb-475a-c1fa-fa51ba7cfc98",
        "colab": {
          "base_uri": "https://localhost:8080/"
        }
      },
      "source": [
        "def Resnet18_Attention(Tx, Ty, n_a, n_s, classes, input_image_size):\r\n",
        "\r\n",
        "    X_input = Input(shape = (Tx, input_image_size, 1))\r\n",
        "    \r\n",
        "    cnn = cnn_1d((3840,1))\r\n",
        "\r\n",
        "    #define Resnet-18 \r\n",
        "    X = TimeDistributed(cnn)(X_input)\r\n",
        "\r\n",
        "    s0 = Input(shape = (n_s, ), name = 's0')\r\n",
        "    c0 = Input(shape = (n_s, ), name = 'c0')\r\n",
        "    s = s0\r\n",
        "    c = c0\r\n",
        "\r\n",
        "    #Initialize empty list of outputs\r\n",
        "    outputs = []\r\n",
        "\r\n",
        "    a = Bidirectional(LSTM(n_a, return_sequences=True))(X)\r\n",
        "\r\n",
        "    for t in range(Ty):\r\n",
        "        context = one_step_attention(a, s)\r\n",
        "        s, _, c = LSTM(n_s, return_state=True)(context, initial_state=[s, c])\r\n",
        "        out = Dense(classes)(s)\r\n",
        "        outputs.append(out)\r\n",
        "\r\n",
        "    model = Model(inputs=(X_input, s0, c0), outputs=outputs)\r\n",
        "\r\n",
        "    return model\r\n",
        "\r\n",
        "classes = 3\r\n",
        "input_image_size = 3840\r\n",
        "resnet18_attention = Resnet18_Attention(Tx, Ty, n_a, n_s, classes, input_image_size)\r\n",
        "resnet18_attention.summary()"
      ],
      "execution_count": 32,
      "outputs": [
        {
          "output_type": "stream",
          "text": [
            "Model: \"model_6\"\n",
            "__________________________________________________________________________________________________\n",
            "Layer (type)                    Output Shape         Param #     Connected to                     \n",
            "==================================================================================================\n",
            "input_18 (InputLayer)           [(None, 50, 3840, 1) 0                                            \n",
            "__________________________________________________________________________________________________\n",
            "time_distributed_8 (TimeDistrib (None, 50, 10240)    1522944     input_18[0][0]                   \n",
            "__________________________________________________________________________________________________\n",
            "s0 (InputLayer)                 [(None, 16)]         0                                            \n",
            "__________________________________________________________________________________________________\n",
            "bidirectional_8 (Bidirectional) (None, 50, 64)       2629888     time_distributed_8[0][0]         \n",
            "__________________________________________________________________________________________________\n",
            "repeat_vector_400 (RepeatVector (None, 50, 16)       0           s0[0][0]                         \n",
            "__________________________________________________________________________________________________\n",
            "concatenate_400 (Concatenate)   (None, 50, 80)       0           bidirectional_8[0][0]            \n",
            "                                                                 repeat_vector_400[0][0]          \n",
            "__________________________________________________________________________________________________\n",
            "dense_1200 (Dense)              (None, 50, 10)       810         concatenate_400[0][0]            \n",
            "__________________________________________________________________________________________________\n",
            "dense_1201 (Dense)              (None, 50, 1)        11          dense_1200[0][0]                 \n",
            "__________________________________________________________________________________________________\n",
            "tf.nn.softmax_400 (TFOpLambda)  (None, 50, 1)        0           dense_1201[0][0]                 \n",
            "__________________________________________________________________________________________________\n",
            "dot_400 (Dot)                   (None, 1, 64)        0           tf.nn.softmax_400[0][0]          \n",
            "                                                                 bidirectional_8[0][0]            \n",
            "__________________________________________________________________________________________________\n",
            "c0 (InputLayer)                 [(None, 16)]         0                                            \n",
            "__________________________________________________________________________________________________\n",
            "lstm_409 (LSTM)                 [(None, 16), (None,  5184        dot_400[0][0]                    \n",
            "                                                                 s0[0][0]                         \n",
            "                                                                 c0[0][0]                         \n",
            "__________________________________________________________________________________________________\n",
            "repeat_vector_401 (RepeatVector (None, 50, 16)       0           lstm_409[0][0]                   \n",
            "__________________________________________________________________________________________________\n",
            "concatenate_401 (Concatenate)   (None, 50, 80)       0           bidirectional_8[0][0]            \n",
            "                                                                 repeat_vector_401[0][0]          \n",
            "__________________________________________________________________________________________________\n",
            "dense_1203 (Dense)              (None, 50, 10)       810         concatenate_401[0][0]            \n",
            "__________________________________________________________________________________________________\n",
            "dense_1204 (Dense)              (None, 50, 1)        11          dense_1203[0][0]                 \n",
            "__________________________________________________________________________________________________\n",
            "tf.nn.softmax_401 (TFOpLambda)  (None, 50, 1)        0           dense_1204[0][0]                 \n",
            "__________________________________________________________________________________________________\n",
            "dot_401 (Dot)                   (None, 1, 64)        0           tf.nn.softmax_401[0][0]          \n",
            "                                                                 bidirectional_8[0][0]            \n",
            "__________________________________________________________________________________________________\n",
            "lstm_410 (LSTM)                 [(None, 16), (None,  5184        dot_401[0][0]                    \n",
            "                                                                 lstm_409[0][0]                   \n",
            "                                                                 lstm_409[0][2]                   \n",
            "__________________________________________________________________________________________________\n",
            "repeat_vector_402 (RepeatVector (None, 50, 16)       0           lstm_410[0][0]                   \n",
            "__________________________________________________________________________________________________\n",
            "concatenate_402 (Concatenate)   (None, 50, 80)       0           bidirectional_8[0][0]            \n",
            "                                                                 repeat_vector_402[0][0]          \n",
            "__________________________________________________________________________________________________\n",
            "dense_1206 (Dense)              (None, 50, 10)       810         concatenate_402[0][0]            \n",
            "__________________________________________________________________________________________________\n",
            "dense_1207 (Dense)              (None, 50, 1)        11          dense_1206[0][0]                 \n",
            "__________________________________________________________________________________________________\n",
            "tf.nn.softmax_402 (TFOpLambda)  (None, 50, 1)        0           dense_1207[0][0]                 \n",
            "__________________________________________________________________________________________________\n",
            "dot_402 (Dot)                   (None, 1, 64)        0           tf.nn.softmax_402[0][0]          \n",
            "                                                                 bidirectional_8[0][0]            \n",
            "__________________________________________________________________________________________________\n",
            "lstm_411 (LSTM)                 [(None, 16), (None,  5184        dot_402[0][0]                    \n",
            "                                                                 lstm_410[0][0]                   \n",
            "                                                                 lstm_410[0][2]                   \n",
            "__________________________________________________________________________________________________\n",
            "repeat_vector_403 (RepeatVector (None, 50, 16)       0           lstm_411[0][0]                   \n",
            "__________________________________________________________________________________________________\n",
            "concatenate_403 (Concatenate)   (None, 50, 80)       0           bidirectional_8[0][0]            \n",
            "                                                                 repeat_vector_403[0][0]          \n",
            "__________________________________________________________________________________________________\n",
            "dense_1209 (Dense)              (None, 50, 10)       810         concatenate_403[0][0]            \n",
            "__________________________________________________________________________________________________\n",
            "dense_1210 (Dense)              (None, 50, 1)        11          dense_1209[0][0]                 \n",
            "__________________________________________________________________________________________________\n",
            "tf.nn.softmax_403 (TFOpLambda)  (None, 50, 1)        0           dense_1210[0][0]                 \n",
            "__________________________________________________________________________________________________\n",
            "dot_403 (Dot)                   (None, 1, 64)        0           tf.nn.softmax_403[0][0]          \n",
            "                                                                 bidirectional_8[0][0]            \n",
            "__________________________________________________________________________________________________\n",
            "lstm_412 (LSTM)                 [(None, 16), (None,  5184        dot_403[0][0]                    \n",
            "                                                                 lstm_411[0][0]                   \n",
            "                                                                 lstm_411[0][2]                   \n",
            "__________________________________________________________________________________________________\n",
            "repeat_vector_404 (RepeatVector (None, 50, 16)       0           lstm_412[0][0]                   \n",
            "__________________________________________________________________________________________________\n",
            "concatenate_404 (Concatenate)   (None, 50, 80)       0           bidirectional_8[0][0]            \n",
            "                                                                 repeat_vector_404[0][0]          \n",
            "__________________________________________________________________________________________________\n",
            "dense_1212 (Dense)              (None, 50, 10)       810         concatenate_404[0][0]            \n",
            "__________________________________________________________________________________________________\n",
            "dense_1213 (Dense)              (None, 50, 1)        11          dense_1212[0][0]                 \n",
            "__________________________________________________________________________________________________\n",
            "tf.nn.softmax_404 (TFOpLambda)  (None, 50, 1)        0           dense_1213[0][0]                 \n",
            "__________________________________________________________________________________________________\n",
            "dot_404 (Dot)                   (None, 1, 64)        0           tf.nn.softmax_404[0][0]          \n",
            "                                                                 bidirectional_8[0][0]            \n",
            "__________________________________________________________________________________________________\n",
            "lstm_413 (LSTM)                 [(None, 16), (None,  5184        dot_404[0][0]                    \n",
            "                                                                 lstm_412[0][0]                   \n",
            "                                                                 lstm_412[0][2]                   \n",
            "__________________________________________________________________________________________________\n",
            "repeat_vector_405 (RepeatVector (None, 50, 16)       0           lstm_413[0][0]                   \n",
            "__________________________________________________________________________________________________\n",
            "concatenate_405 (Concatenate)   (None, 50, 80)       0           bidirectional_8[0][0]            \n",
            "                                                                 repeat_vector_405[0][0]          \n",
            "__________________________________________________________________________________________________\n",
            "dense_1215 (Dense)              (None, 50, 10)       810         concatenate_405[0][0]            \n",
            "__________________________________________________________________________________________________\n",
            "dense_1216 (Dense)              (None, 50, 1)        11          dense_1215[0][0]                 \n",
            "__________________________________________________________________________________________________\n",
            "tf.nn.softmax_405 (TFOpLambda)  (None, 50, 1)        0           dense_1216[0][0]                 \n",
            "__________________________________________________________________________________________________\n",
            "dot_405 (Dot)                   (None, 1, 64)        0           tf.nn.softmax_405[0][0]          \n",
            "                                                                 bidirectional_8[0][0]            \n",
            "__________________________________________________________________________________________________\n",
            "lstm_414 (LSTM)                 [(None, 16), (None,  5184        dot_405[0][0]                    \n",
            "                                                                 lstm_413[0][0]                   \n",
            "                                                                 lstm_413[0][2]                   \n",
            "__________________________________________________________________________________________________\n",
            "repeat_vector_406 (RepeatVector (None, 50, 16)       0           lstm_414[0][0]                   \n",
            "__________________________________________________________________________________________________\n",
            "concatenate_406 (Concatenate)   (None, 50, 80)       0           bidirectional_8[0][0]            \n",
            "                                                                 repeat_vector_406[0][0]          \n",
            "__________________________________________________________________________________________________\n",
            "dense_1218 (Dense)              (None, 50, 10)       810         concatenate_406[0][0]            \n",
            "__________________________________________________________________________________________________\n",
            "dense_1219 (Dense)              (None, 50, 1)        11          dense_1218[0][0]                 \n",
            "__________________________________________________________________________________________________\n",
            "tf.nn.softmax_406 (TFOpLambda)  (None, 50, 1)        0           dense_1219[0][0]                 \n",
            "__________________________________________________________________________________________________\n",
            "dot_406 (Dot)                   (None, 1, 64)        0           tf.nn.softmax_406[0][0]          \n",
            "                                                                 bidirectional_8[0][0]            \n",
            "__________________________________________________________________________________________________\n",
            "lstm_415 (LSTM)                 [(None, 16), (None,  5184        dot_406[0][0]                    \n",
            "                                                                 lstm_414[0][0]                   \n",
            "                                                                 lstm_414[0][2]                   \n",
            "__________________________________________________________________________________________________\n",
            "repeat_vector_407 (RepeatVector (None, 50, 16)       0           lstm_415[0][0]                   \n",
            "__________________________________________________________________________________________________\n",
            "concatenate_407 (Concatenate)   (None, 50, 80)       0           bidirectional_8[0][0]            \n",
            "                                                                 repeat_vector_407[0][0]          \n",
            "__________________________________________________________________________________________________\n",
            "dense_1221 (Dense)              (None, 50, 10)       810         concatenate_407[0][0]            \n",
            "__________________________________________________________________________________________________\n",
            "dense_1222 (Dense)              (None, 50, 1)        11          dense_1221[0][0]                 \n",
            "__________________________________________________________________________________________________\n",
            "tf.nn.softmax_407 (TFOpLambda)  (None, 50, 1)        0           dense_1222[0][0]                 \n",
            "__________________________________________________________________________________________________\n",
            "dot_407 (Dot)                   (None, 1, 64)        0           tf.nn.softmax_407[0][0]          \n",
            "                                                                 bidirectional_8[0][0]            \n",
            "__________________________________________________________________________________________________\n",
            "lstm_416 (LSTM)                 [(None, 16), (None,  5184        dot_407[0][0]                    \n",
            "                                                                 lstm_415[0][0]                   \n",
            "                                                                 lstm_415[0][2]                   \n",
            "__________________________________________________________________________________________________\n",
            "repeat_vector_408 (RepeatVector (None, 50, 16)       0           lstm_416[0][0]                   \n",
            "__________________________________________________________________________________________________\n",
            "concatenate_408 (Concatenate)   (None, 50, 80)       0           bidirectional_8[0][0]            \n",
            "                                                                 repeat_vector_408[0][0]          \n",
            "__________________________________________________________________________________________________\n",
            "dense_1224 (Dense)              (None, 50, 10)       810         concatenate_408[0][0]            \n",
            "__________________________________________________________________________________________________\n",
            "dense_1225 (Dense)              (None, 50, 1)        11          dense_1224[0][0]                 \n",
            "__________________________________________________________________________________________________\n",
            "tf.nn.softmax_408 (TFOpLambda)  (None, 50, 1)        0           dense_1225[0][0]                 \n",
            "__________________________________________________________________________________________________\n",
            "dot_408 (Dot)                   (None, 1, 64)        0           tf.nn.softmax_408[0][0]          \n",
            "                                                                 bidirectional_8[0][0]            \n",
            "__________________________________________________________________________________________________\n",
            "lstm_417 (LSTM)                 [(None, 16), (None,  5184        dot_408[0][0]                    \n",
            "                                                                 lstm_416[0][0]                   \n",
            "                                                                 lstm_416[0][2]                   \n",
            "__________________________________________________________________________________________________\n",
            "repeat_vector_409 (RepeatVector (None, 50, 16)       0           lstm_417[0][0]                   \n",
            "__________________________________________________________________________________________________\n",
            "concatenate_409 (Concatenate)   (None, 50, 80)       0           bidirectional_8[0][0]            \n",
            "                                                                 repeat_vector_409[0][0]          \n",
            "__________________________________________________________________________________________________\n",
            "dense_1227 (Dense)              (None, 50, 10)       810         concatenate_409[0][0]            \n",
            "__________________________________________________________________________________________________\n",
            "dense_1228 (Dense)              (None, 50, 1)        11          dense_1227[0][0]                 \n",
            "__________________________________________________________________________________________________\n",
            "tf.nn.softmax_409 (TFOpLambda)  (None, 50, 1)        0           dense_1228[0][0]                 \n",
            "__________________________________________________________________________________________________\n",
            "dot_409 (Dot)                   (None, 1, 64)        0           tf.nn.softmax_409[0][0]          \n",
            "                                                                 bidirectional_8[0][0]            \n",
            "__________________________________________________________________________________________________\n",
            "lstm_418 (LSTM)                 [(None, 16), (None,  5184        dot_409[0][0]                    \n",
            "                                                                 lstm_417[0][0]                   \n",
            "                                                                 lstm_417[0][2]                   \n",
            "__________________________________________________________________________________________________\n",
            "repeat_vector_410 (RepeatVector (None, 50, 16)       0           lstm_418[0][0]                   \n",
            "__________________________________________________________________________________________________\n",
            "concatenate_410 (Concatenate)   (None, 50, 80)       0           bidirectional_8[0][0]            \n",
            "                                                                 repeat_vector_410[0][0]          \n",
            "__________________________________________________________________________________________________\n",
            "dense_1230 (Dense)              (None, 50, 10)       810         concatenate_410[0][0]            \n",
            "__________________________________________________________________________________________________\n",
            "dense_1231 (Dense)              (None, 50, 1)        11          dense_1230[0][0]                 \n",
            "__________________________________________________________________________________________________\n",
            "tf.nn.softmax_410 (TFOpLambda)  (None, 50, 1)        0           dense_1231[0][0]                 \n",
            "__________________________________________________________________________________________________\n",
            "dot_410 (Dot)                   (None, 1, 64)        0           tf.nn.softmax_410[0][0]          \n",
            "                                                                 bidirectional_8[0][0]            \n",
            "__________________________________________________________________________________________________\n",
            "lstm_419 (LSTM)                 [(None, 16), (None,  5184        dot_410[0][0]                    \n",
            "                                                                 lstm_418[0][0]                   \n",
            "                                                                 lstm_418[0][2]                   \n",
            "__________________________________________________________________________________________________\n",
            "repeat_vector_411 (RepeatVector (None, 50, 16)       0           lstm_419[0][0]                   \n",
            "__________________________________________________________________________________________________\n",
            "concatenate_411 (Concatenate)   (None, 50, 80)       0           bidirectional_8[0][0]            \n",
            "                                                                 repeat_vector_411[0][0]          \n",
            "__________________________________________________________________________________________________\n",
            "dense_1233 (Dense)              (None, 50, 10)       810         concatenate_411[0][0]            \n",
            "__________________________________________________________________________________________________\n",
            "dense_1234 (Dense)              (None, 50, 1)        11          dense_1233[0][0]                 \n",
            "__________________________________________________________________________________________________\n",
            "tf.nn.softmax_411 (TFOpLambda)  (None, 50, 1)        0           dense_1234[0][0]                 \n",
            "__________________________________________________________________________________________________\n",
            "dot_411 (Dot)                   (None, 1, 64)        0           tf.nn.softmax_411[0][0]          \n",
            "                                                                 bidirectional_8[0][0]            \n",
            "__________________________________________________________________________________________________\n",
            "lstm_420 (LSTM)                 [(None, 16), (None,  5184        dot_411[0][0]                    \n",
            "                                                                 lstm_419[0][0]                   \n",
            "                                                                 lstm_419[0][2]                   \n",
            "__________________________________________________________________________________________________\n",
            "repeat_vector_412 (RepeatVector (None, 50, 16)       0           lstm_420[0][0]                   \n",
            "__________________________________________________________________________________________________\n",
            "concatenate_412 (Concatenate)   (None, 50, 80)       0           bidirectional_8[0][0]            \n",
            "                                                                 repeat_vector_412[0][0]          \n",
            "__________________________________________________________________________________________________\n",
            "dense_1236 (Dense)              (None, 50, 10)       810         concatenate_412[0][0]            \n",
            "__________________________________________________________________________________________________\n",
            "dense_1237 (Dense)              (None, 50, 1)        11          dense_1236[0][0]                 \n",
            "__________________________________________________________________________________________________\n",
            "tf.nn.softmax_412 (TFOpLambda)  (None, 50, 1)        0           dense_1237[0][0]                 \n",
            "__________________________________________________________________________________________________\n",
            "dot_412 (Dot)                   (None, 1, 64)        0           tf.nn.softmax_412[0][0]          \n",
            "                                                                 bidirectional_8[0][0]            \n",
            "__________________________________________________________________________________________________\n",
            "lstm_421 (LSTM)                 [(None, 16), (None,  5184        dot_412[0][0]                    \n",
            "                                                                 lstm_420[0][0]                   \n",
            "                                                                 lstm_420[0][2]                   \n",
            "__________________________________________________________________________________________________\n",
            "repeat_vector_413 (RepeatVector (None, 50, 16)       0           lstm_421[0][0]                   \n",
            "__________________________________________________________________________________________________\n",
            "concatenate_413 (Concatenate)   (None, 50, 80)       0           bidirectional_8[0][0]            \n",
            "                                                                 repeat_vector_413[0][0]          \n",
            "__________________________________________________________________________________________________\n",
            "dense_1239 (Dense)              (None, 50, 10)       810         concatenate_413[0][0]            \n",
            "__________________________________________________________________________________________________\n",
            "dense_1240 (Dense)              (None, 50, 1)        11          dense_1239[0][0]                 \n",
            "__________________________________________________________________________________________________\n",
            "tf.nn.softmax_413 (TFOpLambda)  (None, 50, 1)        0           dense_1240[0][0]                 \n",
            "__________________________________________________________________________________________________\n",
            "dot_413 (Dot)                   (None, 1, 64)        0           tf.nn.softmax_413[0][0]          \n",
            "                                                                 bidirectional_8[0][0]            \n",
            "__________________________________________________________________________________________________\n",
            "lstm_422 (LSTM)                 [(None, 16), (None,  5184        dot_413[0][0]                    \n",
            "                                                                 lstm_421[0][0]                   \n",
            "                                                                 lstm_421[0][2]                   \n",
            "__________________________________________________________________________________________________\n",
            "repeat_vector_414 (RepeatVector (None, 50, 16)       0           lstm_422[0][0]                   \n",
            "__________________________________________________________________________________________________\n",
            "concatenate_414 (Concatenate)   (None, 50, 80)       0           bidirectional_8[0][0]            \n",
            "                                                                 repeat_vector_414[0][0]          \n",
            "__________________________________________________________________________________________________\n",
            "dense_1242 (Dense)              (None, 50, 10)       810         concatenate_414[0][0]            \n",
            "__________________________________________________________________________________________________\n",
            "dense_1243 (Dense)              (None, 50, 1)        11          dense_1242[0][0]                 \n",
            "__________________________________________________________________________________________________\n",
            "tf.nn.softmax_414 (TFOpLambda)  (None, 50, 1)        0           dense_1243[0][0]                 \n",
            "__________________________________________________________________________________________________\n",
            "dot_414 (Dot)                   (None, 1, 64)        0           tf.nn.softmax_414[0][0]          \n",
            "                                                                 bidirectional_8[0][0]            \n",
            "__________________________________________________________________________________________________\n",
            "lstm_423 (LSTM)                 [(None, 16), (None,  5184        dot_414[0][0]                    \n",
            "                                                                 lstm_422[0][0]                   \n",
            "                                                                 lstm_422[0][2]                   \n",
            "__________________________________________________________________________________________________\n",
            "repeat_vector_415 (RepeatVector (None, 50, 16)       0           lstm_423[0][0]                   \n",
            "__________________________________________________________________________________________________\n",
            "concatenate_415 (Concatenate)   (None, 50, 80)       0           bidirectional_8[0][0]            \n",
            "                                                                 repeat_vector_415[0][0]          \n",
            "__________________________________________________________________________________________________\n",
            "dense_1245 (Dense)              (None, 50, 10)       810         concatenate_415[0][0]            \n",
            "__________________________________________________________________________________________________\n",
            "dense_1246 (Dense)              (None, 50, 1)        11          dense_1245[0][0]                 \n",
            "__________________________________________________________________________________________________\n",
            "tf.nn.softmax_415 (TFOpLambda)  (None, 50, 1)        0           dense_1246[0][0]                 \n",
            "__________________________________________________________________________________________________\n",
            "dot_415 (Dot)                   (None, 1, 64)        0           tf.nn.softmax_415[0][0]          \n",
            "                                                                 bidirectional_8[0][0]            \n",
            "__________________________________________________________________________________________________\n",
            "lstm_424 (LSTM)                 [(None, 16), (None,  5184        dot_415[0][0]                    \n",
            "                                                                 lstm_423[0][0]                   \n",
            "                                                                 lstm_423[0][2]                   \n",
            "__________________________________________________________________________________________________\n",
            "repeat_vector_416 (RepeatVector (None, 50, 16)       0           lstm_424[0][0]                   \n",
            "__________________________________________________________________________________________________\n",
            "concatenate_416 (Concatenate)   (None, 50, 80)       0           bidirectional_8[0][0]            \n",
            "                                                                 repeat_vector_416[0][0]          \n",
            "__________________________________________________________________________________________________\n",
            "dense_1248 (Dense)              (None, 50, 10)       810         concatenate_416[0][0]            \n",
            "__________________________________________________________________________________________________\n",
            "dense_1249 (Dense)              (None, 50, 1)        11          dense_1248[0][0]                 \n",
            "__________________________________________________________________________________________________\n",
            "tf.nn.softmax_416 (TFOpLambda)  (None, 50, 1)        0           dense_1249[0][0]                 \n",
            "__________________________________________________________________________________________________\n",
            "dot_416 (Dot)                   (None, 1, 64)        0           tf.nn.softmax_416[0][0]          \n",
            "                                                                 bidirectional_8[0][0]            \n",
            "__________________________________________________________________________________________________\n",
            "lstm_425 (LSTM)                 [(None, 16), (None,  5184        dot_416[0][0]                    \n",
            "                                                                 lstm_424[0][0]                   \n",
            "                                                                 lstm_424[0][2]                   \n",
            "__________________________________________________________________________________________________\n",
            "repeat_vector_417 (RepeatVector (None, 50, 16)       0           lstm_425[0][0]                   \n",
            "__________________________________________________________________________________________________\n",
            "concatenate_417 (Concatenate)   (None, 50, 80)       0           bidirectional_8[0][0]            \n",
            "                                                                 repeat_vector_417[0][0]          \n",
            "__________________________________________________________________________________________________\n",
            "dense_1251 (Dense)              (None, 50, 10)       810         concatenate_417[0][0]            \n",
            "__________________________________________________________________________________________________\n",
            "dense_1252 (Dense)              (None, 50, 1)        11          dense_1251[0][0]                 \n",
            "__________________________________________________________________________________________________\n",
            "tf.nn.softmax_417 (TFOpLambda)  (None, 50, 1)        0           dense_1252[0][0]                 \n",
            "__________________________________________________________________________________________________\n",
            "dot_417 (Dot)                   (None, 1, 64)        0           tf.nn.softmax_417[0][0]          \n",
            "                                                                 bidirectional_8[0][0]            \n",
            "__________________________________________________________________________________________________\n",
            "lstm_426 (LSTM)                 [(None, 16), (None,  5184        dot_417[0][0]                    \n",
            "                                                                 lstm_425[0][0]                   \n",
            "                                                                 lstm_425[0][2]                   \n",
            "__________________________________________________________________________________________________\n",
            "repeat_vector_418 (RepeatVector (None, 50, 16)       0           lstm_426[0][0]                   \n",
            "__________________________________________________________________________________________________\n",
            "concatenate_418 (Concatenate)   (None, 50, 80)       0           bidirectional_8[0][0]            \n",
            "                                                                 repeat_vector_418[0][0]          \n",
            "__________________________________________________________________________________________________\n",
            "dense_1254 (Dense)              (None, 50, 10)       810         concatenate_418[0][0]            \n",
            "__________________________________________________________________________________________________\n",
            "dense_1255 (Dense)              (None, 50, 1)        11          dense_1254[0][0]                 \n",
            "__________________________________________________________________________________________________\n",
            "tf.nn.softmax_418 (TFOpLambda)  (None, 50, 1)        0           dense_1255[0][0]                 \n",
            "__________________________________________________________________________________________________\n",
            "dot_418 (Dot)                   (None, 1, 64)        0           tf.nn.softmax_418[0][0]          \n",
            "                                                                 bidirectional_8[0][0]            \n",
            "__________________________________________________________________________________________________\n",
            "lstm_427 (LSTM)                 [(None, 16), (None,  5184        dot_418[0][0]                    \n",
            "                                                                 lstm_426[0][0]                   \n",
            "                                                                 lstm_426[0][2]                   \n",
            "__________________________________________________________________________________________________\n",
            "repeat_vector_419 (RepeatVector (None, 50, 16)       0           lstm_427[0][0]                   \n",
            "__________________________________________________________________________________________________\n",
            "concatenate_419 (Concatenate)   (None, 50, 80)       0           bidirectional_8[0][0]            \n",
            "                                                                 repeat_vector_419[0][0]          \n",
            "__________________________________________________________________________________________________\n",
            "dense_1257 (Dense)              (None, 50, 10)       810         concatenate_419[0][0]            \n",
            "__________________________________________________________________________________________________\n",
            "dense_1258 (Dense)              (None, 50, 1)        11          dense_1257[0][0]                 \n",
            "__________________________________________________________________________________________________\n",
            "tf.nn.softmax_419 (TFOpLambda)  (None, 50, 1)        0           dense_1258[0][0]                 \n",
            "__________________________________________________________________________________________________\n",
            "dot_419 (Dot)                   (None, 1, 64)        0           tf.nn.softmax_419[0][0]          \n",
            "                                                                 bidirectional_8[0][0]            \n",
            "__________________________________________________________________________________________________\n",
            "lstm_428 (LSTM)                 [(None, 16), (None,  5184        dot_419[0][0]                    \n",
            "                                                                 lstm_427[0][0]                   \n",
            "                                                                 lstm_427[0][2]                   \n",
            "__________________________________________________________________________________________________\n",
            "repeat_vector_420 (RepeatVector (None, 50, 16)       0           lstm_428[0][0]                   \n",
            "__________________________________________________________________________________________________\n",
            "concatenate_420 (Concatenate)   (None, 50, 80)       0           bidirectional_8[0][0]            \n",
            "                                                                 repeat_vector_420[0][0]          \n",
            "__________________________________________________________________________________________________\n",
            "dense_1260 (Dense)              (None, 50, 10)       810         concatenate_420[0][0]            \n",
            "__________________________________________________________________________________________________\n",
            "dense_1261 (Dense)              (None, 50, 1)        11          dense_1260[0][0]                 \n",
            "__________________________________________________________________________________________________\n",
            "tf.nn.softmax_420 (TFOpLambda)  (None, 50, 1)        0           dense_1261[0][0]                 \n",
            "__________________________________________________________________________________________________\n",
            "dot_420 (Dot)                   (None, 1, 64)        0           tf.nn.softmax_420[0][0]          \n",
            "                                                                 bidirectional_8[0][0]            \n",
            "__________________________________________________________________________________________________\n",
            "lstm_429 (LSTM)                 [(None, 16), (None,  5184        dot_420[0][0]                    \n",
            "                                                                 lstm_428[0][0]                   \n",
            "                                                                 lstm_428[0][2]                   \n",
            "__________________________________________________________________________________________________\n",
            "repeat_vector_421 (RepeatVector (None, 50, 16)       0           lstm_429[0][0]                   \n",
            "__________________________________________________________________________________________________\n",
            "concatenate_421 (Concatenate)   (None, 50, 80)       0           bidirectional_8[0][0]            \n",
            "                                                                 repeat_vector_421[0][0]          \n",
            "__________________________________________________________________________________________________\n",
            "dense_1263 (Dense)              (None, 50, 10)       810         concatenate_421[0][0]            \n",
            "__________________________________________________________________________________________________\n",
            "dense_1264 (Dense)              (None, 50, 1)        11          dense_1263[0][0]                 \n",
            "__________________________________________________________________________________________________\n",
            "tf.nn.softmax_421 (TFOpLambda)  (None, 50, 1)        0           dense_1264[0][0]                 \n",
            "__________________________________________________________________________________________________\n",
            "dot_421 (Dot)                   (None, 1, 64)        0           tf.nn.softmax_421[0][0]          \n",
            "                                                                 bidirectional_8[0][0]            \n",
            "__________________________________________________________________________________________________\n",
            "lstm_430 (LSTM)                 [(None, 16), (None,  5184        dot_421[0][0]                    \n",
            "                                                                 lstm_429[0][0]                   \n",
            "                                                                 lstm_429[0][2]                   \n",
            "__________________________________________________________________________________________________\n",
            "repeat_vector_422 (RepeatVector (None, 50, 16)       0           lstm_430[0][0]                   \n",
            "__________________________________________________________________________________________________\n",
            "concatenate_422 (Concatenate)   (None, 50, 80)       0           bidirectional_8[0][0]            \n",
            "                                                                 repeat_vector_422[0][0]          \n",
            "__________________________________________________________________________________________________\n",
            "dense_1266 (Dense)              (None, 50, 10)       810         concatenate_422[0][0]            \n",
            "__________________________________________________________________________________________________\n",
            "dense_1267 (Dense)              (None, 50, 1)        11          dense_1266[0][0]                 \n",
            "__________________________________________________________________________________________________\n",
            "tf.nn.softmax_422 (TFOpLambda)  (None, 50, 1)        0           dense_1267[0][0]                 \n",
            "__________________________________________________________________________________________________\n",
            "dot_422 (Dot)                   (None, 1, 64)        0           tf.nn.softmax_422[0][0]          \n",
            "                                                                 bidirectional_8[0][0]            \n",
            "__________________________________________________________________________________________________\n",
            "lstm_431 (LSTM)                 [(None, 16), (None,  5184        dot_422[0][0]                    \n",
            "                                                                 lstm_430[0][0]                   \n",
            "                                                                 lstm_430[0][2]                   \n",
            "__________________________________________________________________________________________________\n",
            "repeat_vector_423 (RepeatVector (None, 50, 16)       0           lstm_431[0][0]                   \n",
            "__________________________________________________________________________________________________\n",
            "concatenate_423 (Concatenate)   (None, 50, 80)       0           bidirectional_8[0][0]            \n",
            "                                                                 repeat_vector_423[0][0]          \n",
            "__________________________________________________________________________________________________\n",
            "dense_1269 (Dense)              (None, 50, 10)       810         concatenate_423[0][0]            \n",
            "__________________________________________________________________________________________________\n",
            "dense_1270 (Dense)              (None, 50, 1)        11          dense_1269[0][0]                 \n",
            "__________________________________________________________________________________________________\n",
            "tf.nn.softmax_423 (TFOpLambda)  (None, 50, 1)        0           dense_1270[0][0]                 \n",
            "__________________________________________________________________________________________________\n",
            "dot_423 (Dot)                   (None, 1, 64)        0           tf.nn.softmax_423[0][0]          \n",
            "                                                                 bidirectional_8[0][0]            \n",
            "__________________________________________________________________________________________________\n",
            "lstm_432 (LSTM)                 [(None, 16), (None,  5184        dot_423[0][0]                    \n",
            "                                                                 lstm_431[0][0]                   \n",
            "                                                                 lstm_431[0][2]                   \n",
            "__________________________________________________________________________________________________\n",
            "repeat_vector_424 (RepeatVector (None, 50, 16)       0           lstm_432[0][0]                   \n",
            "__________________________________________________________________________________________________\n",
            "concatenate_424 (Concatenate)   (None, 50, 80)       0           bidirectional_8[0][0]            \n",
            "                                                                 repeat_vector_424[0][0]          \n",
            "__________________________________________________________________________________________________\n",
            "dense_1272 (Dense)              (None, 50, 10)       810         concatenate_424[0][0]            \n",
            "__________________________________________________________________________________________________\n",
            "dense_1273 (Dense)              (None, 50, 1)        11          dense_1272[0][0]                 \n",
            "__________________________________________________________________________________________________\n",
            "tf.nn.softmax_424 (TFOpLambda)  (None, 50, 1)        0           dense_1273[0][0]                 \n",
            "__________________________________________________________________________________________________\n",
            "dot_424 (Dot)                   (None, 1, 64)        0           tf.nn.softmax_424[0][0]          \n",
            "                                                                 bidirectional_8[0][0]            \n",
            "__________________________________________________________________________________________________\n",
            "lstm_433 (LSTM)                 [(None, 16), (None,  5184        dot_424[0][0]                    \n",
            "                                                                 lstm_432[0][0]                   \n",
            "                                                                 lstm_432[0][2]                   \n",
            "__________________________________________________________________________________________________\n",
            "repeat_vector_425 (RepeatVector (None, 50, 16)       0           lstm_433[0][0]                   \n",
            "__________________________________________________________________________________________________\n",
            "concatenate_425 (Concatenate)   (None, 50, 80)       0           bidirectional_8[0][0]            \n",
            "                                                                 repeat_vector_425[0][0]          \n",
            "__________________________________________________________________________________________________\n",
            "dense_1275 (Dense)              (None, 50, 10)       810         concatenate_425[0][0]            \n",
            "__________________________________________________________________________________________________\n",
            "dense_1276 (Dense)              (None, 50, 1)        11          dense_1275[0][0]                 \n",
            "__________________________________________________________________________________________________\n",
            "tf.nn.softmax_425 (TFOpLambda)  (None, 50, 1)        0           dense_1276[0][0]                 \n",
            "__________________________________________________________________________________________________\n",
            "dot_425 (Dot)                   (None, 1, 64)        0           tf.nn.softmax_425[0][0]          \n",
            "                                                                 bidirectional_8[0][0]            \n",
            "__________________________________________________________________________________________________\n",
            "lstm_434 (LSTM)                 [(None, 16), (None,  5184        dot_425[0][0]                    \n",
            "                                                                 lstm_433[0][0]                   \n",
            "                                                                 lstm_433[0][2]                   \n",
            "__________________________________________________________________________________________________\n",
            "repeat_vector_426 (RepeatVector (None, 50, 16)       0           lstm_434[0][0]                   \n",
            "__________________________________________________________________________________________________\n",
            "concatenate_426 (Concatenate)   (None, 50, 80)       0           bidirectional_8[0][0]            \n",
            "                                                                 repeat_vector_426[0][0]          \n",
            "__________________________________________________________________________________________________\n",
            "dense_1278 (Dense)              (None, 50, 10)       810         concatenate_426[0][0]            \n",
            "__________________________________________________________________________________________________\n",
            "dense_1279 (Dense)              (None, 50, 1)        11          dense_1278[0][0]                 \n",
            "__________________________________________________________________________________________________\n",
            "tf.nn.softmax_426 (TFOpLambda)  (None, 50, 1)        0           dense_1279[0][0]                 \n",
            "__________________________________________________________________________________________________\n",
            "dot_426 (Dot)                   (None, 1, 64)        0           tf.nn.softmax_426[0][0]          \n",
            "                                                                 bidirectional_8[0][0]            \n",
            "__________________________________________________________________________________________________\n",
            "lstm_435 (LSTM)                 [(None, 16), (None,  5184        dot_426[0][0]                    \n",
            "                                                                 lstm_434[0][0]                   \n",
            "                                                                 lstm_434[0][2]                   \n",
            "__________________________________________________________________________________________________\n",
            "repeat_vector_427 (RepeatVector (None, 50, 16)       0           lstm_435[0][0]                   \n",
            "__________________________________________________________________________________________________\n",
            "concatenate_427 (Concatenate)   (None, 50, 80)       0           bidirectional_8[0][0]            \n",
            "                                                                 repeat_vector_427[0][0]          \n",
            "__________________________________________________________________________________________________\n",
            "dense_1281 (Dense)              (None, 50, 10)       810         concatenate_427[0][0]            \n",
            "__________________________________________________________________________________________________\n",
            "dense_1282 (Dense)              (None, 50, 1)        11          dense_1281[0][0]                 \n",
            "__________________________________________________________________________________________________\n",
            "tf.nn.softmax_427 (TFOpLambda)  (None, 50, 1)        0           dense_1282[0][0]                 \n",
            "__________________________________________________________________________________________________\n",
            "dot_427 (Dot)                   (None, 1, 64)        0           tf.nn.softmax_427[0][0]          \n",
            "                                                                 bidirectional_8[0][0]            \n",
            "__________________________________________________________________________________________________\n",
            "lstm_436 (LSTM)                 [(None, 16), (None,  5184        dot_427[0][0]                    \n",
            "                                                                 lstm_435[0][0]                   \n",
            "                                                                 lstm_435[0][2]                   \n",
            "__________________________________________________________________________________________________\n",
            "repeat_vector_428 (RepeatVector (None, 50, 16)       0           lstm_436[0][0]                   \n",
            "__________________________________________________________________________________________________\n",
            "concatenate_428 (Concatenate)   (None, 50, 80)       0           bidirectional_8[0][0]            \n",
            "                                                                 repeat_vector_428[0][0]          \n",
            "__________________________________________________________________________________________________\n",
            "dense_1284 (Dense)              (None, 50, 10)       810         concatenate_428[0][0]            \n",
            "__________________________________________________________________________________________________\n",
            "dense_1285 (Dense)              (None, 50, 1)        11          dense_1284[0][0]                 \n",
            "__________________________________________________________________________________________________\n",
            "tf.nn.softmax_428 (TFOpLambda)  (None, 50, 1)        0           dense_1285[0][0]                 \n",
            "__________________________________________________________________________________________________\n",
            "dot_428 (Dot)                   (None, 1, 64)        0           tf.nn.softmax_428[0][0]          \n",
            "                                                                 bidirectional_8[0][0]            \n",
            "__________________________________________________________________________________________________\n",
            "lstm_437 (LSTM)                 [(None, 16), (None,  5184        dot_428[0][0]                    \n",
            "                                                                 lstm_436[0][0]                   \n",
            "                                                                 lstm_436[0][2]                   \n",
            "__________________________________________________________________________________________________\n",
            "repeat_vector_429 (RepeatVector (None, 50, 16)       0           lstm_437[0][0]                   \n",
            "__________________________________________________________________________________________________\n",
            "concatenate_429 (Concatenate)   (None, 50, 80)       0           bidirectional_8[0][0]            \n",
            "                                                                 repeat_vector_429[0][0]          \n",
            "__________________________________________________________________________________________________\n",
            "dense_1287 (Dense)              (None, 50, 10)       810         concatenate_429[0][0]            \n",
            "__________________________________________________________________________________________________\n",
            "dense_1288 (Dense)              (None, 50, 1)        11          dense_1287[0][0]                 \n",
            "__________________________________________________________________________________________________\n",
            "tf.nn.softmax_429 (TFOpLambda)  (None, 50, 1)        0           dense_1288[0][0]                 \n",
            "__________________________________________________________________________________________________\n",
            "dot_429 (Dot)                   (None, 1, 64)        0           tf.nn.softmax_429[0][0]          \n",
            "                                                                 bidirectional_8[0][0]            \n",
            "__________________________________________________________________________________________________\n",
            "lstm_438 (LSTM)                 [(None, 16), (None,  5184        dot_429[0][0]                    \n",
            "                                                                 lstm_437[0][0]                   \n",
            "                                                                 lstm_437[0][2]                   \n",
            "__________________________________________________________________________________________________\n",
            "repeat_vector_430 (RepeatVector (None, 50, 16)       0           lstm_438[0][0]                   \n",
            "__________________________________________________________________________________________________\n",
            "concatenate_430 (Concatenate)   (None, 50, 80)       0           bidirectional_8[0][0]            \n",
            "                                                                 repeat_vector_430[0][0]          \n",
            "__________________________________________________________________________________________________\n",
            "dense_1290 (Dense)              (None, 50, 10)       810         concatenate_430[0][0]            \n",
            "__________________________________________________________________________________________________\n",
            "dense_1291 (Dense)              (None, 50, 1)        11          dense_1290[0][0]                 \n",
            "__________________________________________________________________________________________________\n",
            "tf.nn.softmax_430 (TFOpLambda)  (None, 50, 1)        0           dense_1291[0][0]                 \n",
            "__________________________________________________________________________________________________\n",
            "dot_430 (Dot)                   (None, 1, 64)        0           tf.nn.softmax_430[0][0]          \n",
            "                                                                 bidirectional_8[0][0]            \n",
            "__________________________________________________________________________________________________\n",
            "lstm_439 (LSTM)                 [(None, 16), (None,  5184        dot_430[0][0]                    \n",
            "                                                                 lstm_438[0][0]                   \n",
            "                                                                 lstm_438[0][2]                   \n",
            "__________________________________________________________________________________________________\n",
            "repeat_vector_431 (RepeatVector (None, 50, 16)       0           lstm_439[0][0]                   \n",
            "__________________________________________________________________________________________________\n",
            "concatenate_431 (Concatenate)   (None, 50, 80)       0           bidirectional_8[0][0]            \n",
            "                                                                 repeat_vector_431[0][0]          \n",
            "__________________________________________________________________________________________________\n",
            "dense_1293 (Dense)              (None, 50, 10)       810         concatenate_431[0][0]            \n",
            "__________________________________________________________________________________________________\n",
            "dense_1294 (Dense)              (None, 50, 1)        11          dense_1293[0][0]                 \n",
            "__________________________________________________________________________________________________\n",
            "tf.nn.softmax_431 (TFOpLambda)  (None, 50, 1)        0           dense_1294[0][0]                 \n",
            "__________________________________________________________________________________________________\n",
            "dot_431 (Dot)                   (None, 1, 64)        0           tf.nn.softmax_431[0][0]          \n",
            "                                                                 bidirectional_8[0][0]            \n",
            "__________________________________________________________________________________________________\n",
            "lstm_440 (LSTM)                 [(None, 16), (None,  5184        dot_431[0][0]                    \n",
            "                                                                 lstm_439[0][0]                   \n",
            "                                                                 lstm_439[0][2]                   \n",
            "__________________________________________________________________________________________________\n",
            "repeat_vector_432 (RepeatVector (None, 50, 16)       0           lstm_440[0][0]                   \n",
            "__________________________________________________________________________________________________\n",
            "concatenate_432 (Concatenate)   (None, 50, 80)       0           bidirectional_8[0][0]            \n",
            "                                                                 repeat_vector_432[0][0]          \n",
            "__________________________________________________________________________________________________\n",
            "dense_1296 (Dense)              (None, 50, 10)       810         concatenate_432[0][0]            \n",
            "__________________________________________________________________________________________________\n",
            "dense_1297 (Dense)              (None, 50, 1)        11          dense_1296[0][0]                 \n",
            "__________________________________________________________________________________________________\n",
            "tf.nn.softmax_432 (TFOpLambda)  (None, 50, 1)        0           dense_1297[0][0]                 \n",
            "__________________________________________________________________________________________________\n",
            "dot_432 (Dot)                   (None, 1, 64)        0           tf.nn.softmax_432[0][0]          \n",
            "                                                                 bidirectional_8[0][0]            \n",
            "__________________________________________________________________________________________________\n",
            "lstm_441 (LSTM)                 [(None, 16), (None,  5184        dot_432[0][0]                    \n",
            "                                                                 lstm_440[0][0]                   \n",
            "                                                                 lstm_440[0][2]                   \n",
            "__________________________________________________________________________________________________\n",
            "repeat_vector_433 (RepeatVector (None, 50, 16)       0           lstm_441[0][0]                   \n",
            "__________________________________________________________________________________________________\n",
            "concatenate_433 (Concatenate)   (None, 50, 80)       0           bidirectional_8[0][0]            \n",
            "                                                                 repeat_vector_433[0][0]          \n",
            "__________________________________________________________________________________________________\n",
            "dense_1299 (Dense)              (None, 50, 10)       810         concatenate_433[0][0]            \n",
            "__________________________________________________________________________________________________\n",
            "dense_1300 (Dense)              (None, 50, 1)        11          dense_1299[0][0]                 \n",
            "__________________________________________________________________________________________________\n",
            "tf.nn.softmax_433 (TFOpLambda)  (None, 50, 1)        0           dense_1300[0][0]                 \n",
            "__________________________________________________________________________________________________\n",
            "dot_433 (Dot)                   (None, 1, 64)        0           tf.nn.softmax_433[0][0]          \n",
            "                                                                 bidirectional_8[0][0]            \n",
            "__________________________________________________________________________________________________\n",
            "lstm_442 (LSTM)                 [(None, 16), (None,  5184        dot_433[0][0]                    \n",
            "                                                                 lstm_441[0][0]                   \n",
            "                                                                 lstm_441[0][2]                   \n",
            "__________________________________________________________________________________________________\n",
            "repeat_vector_434 (RepeatVector (None, 50, 16)       0           lstm_442[0][0]                   \n",
            "__________________________________________________________________________________________________\n",
            "concatenate_434 (Concatenate)   (None, 50, 80)       0           bidirectional_8[0][0]            \n",
            "                                                                 repeat_vector_434[0][0]          \n",
            "__________________________________________________________________________________________________\n",
            "dense_1302 (Dense)              (None, 50, 10)       810         concatenate_434[0][0]            \n",
            "__________________________________________________________________________________________________\n",
            "dense_1303 (Dense)              (None, 50, 1)        11          dense_1302[0][0]                 \n",
            "__________________________________________________________________________________________________\n",
            "tf.nn.softmax_434 (TFOpLambda)  (None, 50, 1)        0           dense_1303[0][0]                 \n",
            "__________________________________________________________________________________________________\n",
            "dot_434 (Dot)                   (None, 1, 64)        0           tf.nn.softmax_434[0][0]          \n",
            "                                                                 bidirectional_8[0][0]            \n",
            "__________________________________________________________________________________________________\n",
            "lstm_443 (LSTM)                 [(None, 16), (None,  5184        dot_434[0][0]                    \n",
            "                                                                 lstm_442[0][0]                   \n",
            "                                                                 lstm_442[0][2]                   \n",
            "__________________________________________________________________________________________________\n",
            "repeat_vector_435 (RepeatVector (None, 50, 16)       0           lstm_443[0][0]                   \n",
            "__________________________________________________________________________________________________\n",
            "concatenate_435 (Concatenate)   (None, 50, 80)       0           bidirectional_8[0][0]            \n",
            "                                                                 repeat_vector_435[0][0]          \n",
            "__________________________________________________________________________________________________\n",
            "dense_1305 (Dense)              (None, 50, 10)       810         concatenate_435[0][0]            \n",
            "__________________________________________________________________________________________________\n",
            "dense_1306 (Dense)              (None, 50, 1)        11          dense_1305[0][0]                 \n",
            "__________________________________________________________________________________________________\n",
            "tf.nn.softmax_435 (TFOpLambda)  (None, 50, 1)        0           dense_1306[0][0]                 \n",
            "__________________________________________________________________________________________________\n",
            "dot_435 (Dot)                   (None, 1, 64)        0           tf.nn.softmax_435[0][0]          \n",
            "                                                                 bidirectional_8[0][0]            \n",
            "__________________________________________________________________________________________________\n",
            "lstm_444 (LSTM)                 [(None, 16), (None,  5184        dot_435[0][0]                    \n",
            "                                                                 lstm_443[0][0]                   \n",
            "                                                                 lstm_443[0][2]                   \n",
            "__________________________________________________________________________________________________\n",
            "repeat_vector_436 (RepeatVector (None, 50, 16)       0           lstm_444[0][0]                   \n",
            "__________________________________________________________________________________________________\n",
            "concatenate_436 (Concatenate)   (None, 50, 80)       0           bidirectional_8[0][0]            \n",
            "                                                                 repeat_vector_436[0][0]          \n",
            "__________________________________________________________________________________________________\n",
            "dense_1308 (Dense)              (None, 50, 10)       810         concatenate_436[0][0]            \n",
            "__________________________________________________________________________________________________\n",
            "dense_1309 (Dense)              (None, 50, 1)        11          dense_1308[0][0]                 \n",
            "__________________________________________________________________________________________________\n",
            "tf.nn.softmax_436 (TFOpLambda)  (None, 50, 1)        0           dense_1309[0][0]                 \n",
            "__________________________________________________________________________________________________\n",
            "dot_436 (Dot)                   (None, 1, 64)        0           tf.nn.softmax_436[0][0]          \n",
            "                                                                 bidirectional_8[0][0]            \n",
            "__________________________________________________________________________________________________\n",
            "lstm_445 (LSTM)                 [(None, 16), (None,  5184        dot_436[0][0]                    \n",
            "                                                                 lstm_444[0][0]                   \n",
            "                                                                 lstm_444[0][2]                   \n",
            "__________________________________________________________________________________________________\n",
            "repeat_vector_437 (RepeatVector (None, 50, 16)       0           lstm_445[0][0]                   \n",
            "__________________________________________________________________________________________________\n",
            "concatenate_437 (Concatenate)   (None, 50, 80)       0           bidirectional_8[0][0]            \n",
            "                                                                 repeat_vector_437[0][0]          \n",
            "__________________________________________________________________________________________________\n",
            "dense_1311 (Dense)              (None, 50, 10)       810         concatenate_437[0][0]            \n",
            "__________________________________________________________________________________________________\n",
            "dense_1312 (Dense)              (None, 50, 1)        11          dense_1311[0][0]                 \n",
            "__________________________________________________________________________________________________\n",
            "tf.nn.softmax_437 (TFOpLambda)  (None, 50, 1)        0           dense_1312[0][0]                 \n",
            "__________________________________________________________________________________________________\n",
            "dot_437 (Dot)                   (None, 1, 64)        0           tf.nn.softmax_437[0][0]          \n",
            "                                                                 bidirectional_8[0][0]            \n",
            "__________________________________________________________________________________________________\n",
            "lstm_446 (LSTM)                 [(None, 16), (None,  5184        dot_437[0][0]                    \n",
            "                                                                 lstm_445[0][0]                   \n",
            "                                                                 lstm_445[0][2]                   \n",
            "__________________________________________________________________________________________________\n",
            "repeat_vector_438 (RepeatVector (None, 50, 16)       0           lstm_446[0][0]                   \n",
            "__________________________________________________________________________________________________\n",
            "concatenate_438 (Concatenate)   (None, 50, 80)       0           bidirectional_8[0][0]            \n",
            "                                                                 repeat_vector_438[0][0]          \n",
            "__________________________________________________________________________________________________\n",
            "dense_1314 (Dense)              (None, 50, 10)       810         concatenate_438[0][0]            \n",
            "__________________________________________________________________________________________________\n",
            "dense_1315 (Dense)              (None, 50, 1)        11          dense_1314[0][0]                 \n",
            "__________________________________________________________________________________________________\n",
            "tf.nn.softmax_438 (TFOpLambda)  (None, 50, 1)        0           dense_1315[0][0]                 \n",
            "__________________________________________________________________________________________________\n",
            "dot_438 (Dot)                   (None, 1, 64)        0           tf.nn.softmax_438[0][0]          \n",
            "                                                                 bidirectional_8[0][0]            \n",
            "__________________________________________________________________________________________________\n",
            "lstm_447 (LSTM)                 [(None, 16), (None,  5184        dot_438[0][0]                    \n",
            "                                                                 lstm_446[0][0]                   \n",
            "                                                                 lstm_446[0][2]                   \n",
            "__________________________________________________________________________________________________\n",
            "repeat_vector_439 (RepeatVector (None, 50, 16)       0           lstm_447[0][0]                   \n",
            "__________________________________________________________________________________________________\n",
            "concatenate_439 (Concatenate)   (None, 50, 80)       0           bidirectional_8[0][0]            \n",
            "                                                                 repeat_vector_439[0][0]          \n",
            "__________________________________________________________________________________________________\n",
            "dense_1317 (Dense)              (None, 50, 10)       810         concatenate_439[0][0]            \n",
            "__________________________________________________________________________________________________\n",
            "dense_1318 (Dense)              (None, 50, 1)        11          dense_1317[0][0]                 \n",
            "__________________________________________________________________________________________________\n",
            "tf.nn.softmax_439 (TFOpLambda)  (None, 50, 1)        0           dense_1318[0][0]                 \n",
            "__________________________________________________________________________________________________\n",
            "dot_439 (Dot)                   (None, 1, 64)        0           tf.nn.softmax_439[0][0]          \n",
            "                                                                 bidirectional_8[0][0]            \n",
            "__________________________________________________________________________________________________\n",
            "lstm_448 (LSTM)                 [(None, 16), (None,  5184        dot_439[0][0]                    \n",
            "                                                                 lstm_447[0][0]                   \n",
            "                                                                 lstm_447[0][2]                   \n",
            "__________________________________________________________________________________________________\n",
            "repeat_vector_440 (RepeatVector (None, 50, 16)       0           lstm_448[0][0]                   \n",
            "__________________________________________________________________________________________________\n",
            "concatenate_440 (Concatenate)   (None, 50, 80)       0           bidirectional_8[0][0]            \n",
            "                                                                 repeat_vector_440[0][0]          \n",
            "__________________________________________________________________________________________________\n",
            "dense_1320 (Dense)              (None, 50, 10)       810         concatenate_440[0][0]            \n",
            "__________________________________________________________________________________________________\n",
            "dense_1321 (Dense)              (None, 50, 1)        11          dense_1320[0][0]                 \n",
            "__________________________________________________________________________________________________\n",
            "tf.nn.softmax_440 (TFOpLambda)  (None, 50, 1)        0           dense_1321[0][0]                 \n",
            "__________________________________________________________________________________________________\n",
            "dot_440 (Dot)                   (None, 1, 64)        0           tf.nn.softmax_440[0][0]          \n",
            "                                                                 bidirectional_8[0][0]            \n",
            "__________________________________________________________________________________________________\n",
            "lstm_449 (LSTM)                 [(None, 16), (None,  5184        dot_440[0][0]                    \n",
            "                                                                 lstm_448[0][0]                   \n",
            "                                                                 lstm_448[0][2]                   \n",
            "__________________________________________________________________________________________________\n",
            "repeat_vector_441 (RepeatVector (None, 50, 16)       0           lstm_449[0][0]                   \n",
            "__________________________________________________________________________________________________\n",
            "concatenate_441 (Concatenate)   (None, 50, 80)       0           bidirectional_8[0][0]            \n",
            "                                                                 repeat_vector_441[0][0]          \n",
            "__________________________________________________________________________________________________\n",
            "dense_1323 (Dense)              (None, 50, 10)       810         concatenate_441[0][0]            \n",
            "__________________________________________________________________________________________________\n",
            "dense_1324 (Dense)              (None, 50, 1)        11          dense_1323[0][0]                 \n",
            "__________________________________________________________________________________________________\n",
            "tf.nn.softmax_441 (TFOpLambda)  (None, 50, 1)        0           dense_1324[0][0]                 \n",
            "__________________________________________________________________________________________________\n",
            "dot_441 (Dot)                   (None, 1, 64)        0           tf.nn.softmax_441[0][0]          \n",
            "                                                                 bidirectional_8[0][0]            \n",
            "__________________________________________________________________________________________________\n",
            "lstm_450 (LSTM)                 [(None, 16), (None,  5184        dot_441[0][0]                    \n",
            "                                                                 lstm_449[0][0]                   \n",
            "                                                                 lstm_449[0][2]                   \n",
            "__________________________________________________________________________________________________\n",
            "repeat_vector_442 (RepeatVector (None, 50, 16)       0           lstm_450[0][0]                   \n",
            "__________________________________________________________________________________________________\n",
            "concatenate_442 (Concatenate)   (None, 50, 80)       0           bidirectional_8[0][0]            \n",
            "                                                                 repeat_vector_442[0][0]          \n",
            "__________________________________________________________________________________________________\n",
            "dense_1326 (Dense)              (None, 50, 10)       810         concatenate_442[0][0]            \n",
            "__________________________________________________________________________________________________\n",
            "dense_1327 (Dense)              (None, 50, 1)        11          dense_1326[0][0]                 \n",
            "__________________________________________________________________________________________________\n",
            "tf.nn.softmax_442 (TFOpLambda)  (None, 50, 1)        0           dense_1327[0][0]                 \n",
            "__________________________________________________________________________________________________\n",
            "dot_442 (Dot)                   (None, 1, 64)        0           tf.nn.softmax_442[0][0]          \n",
            "                                                                 bidirectional_8[0][0]            \n",
            "__________________________________________________________________________________________________\n",
            "lstm_451 (LSTM)                 [(None, 16), (None,  5184        dot_442[0][0]                    \n",
            "                                                                 lstm_450[0][0]                   \n",
            "                                                                 lstm_450[0][2]                   \n",
            "__________________________________________________________________________________________________\n",
            "repeat_vector_443 (RepeatVector (None, 50, 16)       0           lstm_451[0][0]                   \n",
            "__________________________________________________________________________________________________\n",
            "concatenate_443 (Concatenate)   (None, 50, 80)       0           bidirectional_8[0][0]            \n",
            "                                                                 repeat_vector_443[0][0]          \n",
            "__________________________________________________________________________________________________\n",
            "dense_1329 (Dense)              (None, 50, 10)       810         concatenate_443[0][0]            \n",
            "__________________________________________________________________________________________________\n",
            "dense_1330 (Dense)              (None, 50, 1)        11          dense_1329[0][0]                 \n",
            "__________________________________________________________________________________________________\n",
            "tf.nn.softmax_443 (TFOpLambda)  (None, 50, 1)        0           dense_1330[0][0]                 \n",
            "__________________________________________________________________________________________________\n",
            "dot_443 (Dot)                   (None, 1, 64)        0           tf.nn.softmax_443[0][0]          \n",
            "                                                                 bidirectional_8[0][0]            \n",
            "__________________________________________________________________________________________________\n",
            "lstm_452 (LSTM)                 [(None, 16), (None,  5184        dot_443[0][0]                    \n",
            "                                                                 lstm_451[0][0]                   \n",
            "                                                                 lstm_451[0][2]                   \n",
            "__________________________________________________________________________________________________\n",
            "repeat_vector_444 (RepeatVector (None, 50, 16)       0           lstm_452[0][0]                   \n",
            "__________________________________________________________________________________________________\n",
            "concatenate_444 (Concatenate)   (None, 50, 80)       0           bidirectional_8[0][0]            \n",
            "                                                                 repeat_vector_444[0][0]          \n",
            "__________________________________________________________________________________________________\n",
            "dense_1332 (Dense)              (None, 50, 10)       810         concatenate_444[0][0]            \n",
            "__________________________________________________________________________________________________\n",
            "dense_1333 (Dense)              (None, 50, 1)        11          dense_1332[0][0]                 \n",
            "__________________________________________________________________________________________________\n",
            "tf.nn.softmax_444 (TFOpLambda)  (None, 50, 1)        0           dense_1333[0][0]                 \n",
            "__________________________________________________________________________________________________\n",
            "dot_444 (Dot)                   (None, 1, 64)        0           tf.nn.softmax_444[0][0]          \n",
            "                                                                 bidirectional_8[0][0]            \n",
            "__________________________________________________________________________________________________\n",
            "lstm_453 (LSTM)                 [(None, 16), (None,  5184        dot_444[0][0]                    \n",
            "                                                                 lstm_452[0][0]                   \n",
            "                                                                 lstm_452[0][2]                   \n",
            "__________________________________________________________________________________________________\n",
            "repeat_vector_445 (RepeatVector (None, 50, 16)       0           lstm_453[0][0]                   \n",
            "__________________________________________________________________________________________________\n",
            "concatenate_445 (Concatenate)   (None, 50, 80)       0           bidirectional_8[0][0]            \n",
            "                                                                 repeat_vector_445[0][0]          \n",
            "__________________________________________________________________________________________________\n",
            "dense_1335 (Dense)              (None, 50, 10)       810         concatenate_445[0][0]            \n",
            "__________________________________________________________________________________________________\n",
            "dense_1336 (Dense)              (None, 50, 1)        11          dense_1335[0][0]                 \n",
            "__________________________________________________________________________________________________\n",
            "tf.nn.softmax_445 (TFOpLambda)  (None, 50, 1)        0           dense_1336[0][0]                 \n",
            "__________________________________________________________________________________________________\n",
            "dot_445 (Dot)                   (None, 1, 64)        0           tf.nn.softmax_445[0][0]          \n",
            "                                                                 bidirectional_8[0][0]            \n",
            "__________________________________________________________________________________________________\n",
            "lstm_454 (LSTM)                 [(None, 16), (None,  5184        dot_445[0][0]                    \n",
            "                                                                 lstm_453[0][0]                   \n",
            "                                                                 lstm_453[0][2]                   \n",
            "__________________________________________________________________________________________________\n",
            "repeat_vector_446 (RepeatVector (None, 50, 16)       0           lstm_454[0][0]                   \n",
            "__________________________________________________________________________________________________\n",
            "concatenate_446 (Concatenate)   (None, 50, 80)       0           bidirectional_8[0][0]            \n",
            "                                                                 repeat_vector_446[0][0]          \n",
            "__________________________________________________________________________________________________\n",
            "dense_1338 (Dense)              (None, 50, 10)       810         concatenate_446[0][0]            \n",
            "__________________________________________________________________________________________________\n",
            "dense_1339 (Dense)              (None, 50, 1)        11          dense_1338[0][0]                 \n",
            "__________________________________________________________________________________________________\n",
            "tf.nn.softmax_446 (TFOpLambda)  (None, 50, 1)        0           dense_1339[0][0]                 \n",
            "__________________________________________________________________________________________________\n",
            "dot_446 (Dot)                   (None, 1, 64)        0           tf.nn.softmax_446[0][0]          \n",
            "                                                                 bidirectional_8[0][0]            \n",
            "__________________________________________________________________________________________________\n",
            "lstm_455 (LSTM)                 [(None, 16), (None,  5184        dot_446[0][0]                    \n",
            "                                                                 lstm_454[0][0]                   \n",
            "                                                                 lstm_454[0][2]                   \n",
            "__________________________________________________________________________________________________\n",
            "repeat_vector_447 (RepeatVector (None, 50, 16)       0           lstm_455[0][0]                   \n",
            "__________________________________________________________________________________________________\n",
            "concatenate_447 (Concatenate)   (None, 50, 80)       0           bidirectional_8[0][0]            \n",
            "                                                                 repeat_vector_447[0][0]          \n",
            "__________________________________________________________________________________________________\n",
            "dense_1341 (Dense)              (None, 50, 10)       810         concatenate_447[0][0]            \n",
            "__________________________________________________________________________________________________\n",
            "dense_1342 (Dense)              (None, 50, 1)        11          dense_1341[0][0]                 \n",
            "__________________________________________________________________________________________________\n",
            "tf.nn.softmax_447 (TFOpLambda)  (None, 50, 1)        0           dense_1342[0][0]                 \n",
            "__________________________________________________________________________________________________\n",
            "dot_447 (Dot)                   (None, 1, 64)        0           tf.nn.softmax_447[0][0]          \n",
            "                                                                 bidirectional_8[0][0]            \n",
            "__________________________________________________________________________________________________\n",
            "lstm_456 (LSTM)                 [(None, 16), (None,  5184        dot_447[0][0]                    \n",
            "                                                                 lstm_455[0][0]                   \n",
            "                                                                 lstm_455[0][2]                   \n",
            "__________________________________________________________________________________________________\n",
            "repeat_vector_448 (RepeatVector (None, 50, 16)       0           lstm_456[0][0]                   \n",
            "__________________________________________________________________________________________________\n",
            "concatenate_448 (Concatenate)   (None, 50, 80)       0           bidirectional_8[0][0]            \n",
            "                                                                 repeat_vector_448[0][0]          \n",
            "__________________________________________________________________________________________________\n",
            "dense_1344 (Dense)              (None, 50, 10)       810         concatenate_448[0][0]            \n",
            "__________________________________________________________________________________________________\n",
            "dense_1345 (Dense)              (None, 50, 1)        11          dense_1344[0][0]                 \n",
            "__________________________________________________________________________________________________\n",
            "tf.nn.softmax_448 (TFOpLambda)  (None, 50, 1)        0           dense_1345[0][0]                 \n",
            "__________________________________________________________________________________________________\n",
            "dot_448 (Dot)                   (None, 1, 64)        0           tf.nn.softmax_448[0][0]          \n",
            "                                                                 bidirectional_8[0][0]            \n",
            "__________________________________________________________________________________________________\n",
            "lstm_457 (LSTM)                 [(None, 16), (None,  5184        dot_448[0][0]                    \n",
            "                                                                 lstm_456[0][0]                   \n",
            "                                                                 lstm_456[0][2]                   \n",
            "__________________________________________________________________________________________________\n",
            "repeat_vector_449 (RepeatVector (None, 50, 16)       0           lstm_457[0][0]                   \n",
            "__________________________________________________________________________________________________\n",
            "concatenate_449 (Concatenate)   (None, 50, 80)       0           bidirectional_8[0][0]            \n",
            "                                                                 repeat_vector_449[0][0]          \n",
            "__________________________________________________________________________________________________\n",
            "dense_1347 (Dense)              (None, 50, 10)       810         concatenate_449[0][0]            \n",
            "__________________________________________________________________________________________________\n",
            "dense_1348 (Dense)              (None, 50, 1)        11          dense_1347[0][0]                 \n",
            "__________________________________________________________________________________________________\n",
            "tf.nn.softmax_449 (TFOpLambda)  (None, 50, 1)        0           dense_1348[0][0]                 \n",
            "__________________________________________________________________________________________________\n",
            "dot_449 (Dot)                   (None, 1, 64)        0           tf.nn.softmax_449[0][0]          \n",
            "                                                                 bidirectional_8[0][0]            \n",
            "__________________________________________________________________________________________________\n",
            "lstm_458 (LSTM)                 [(None, 16), (None,  5184        dot_449[0][0]                    \n",
            "                                                                 lstm_457[0][0]                   \n",
            "                                                                 lstm_457[0][2]                   \n",
            "__________________________________________________________________________________________________\n",
            "dense_1202 (Dense)              (None, 3)            51          lstm_409[0][0]                   \n",
            "__________________________________________________________________________________________________\n",
            "dense_1205 (Dense)              (None, 3)            51          lstm_410[0][0]                   \n",
            "__________________________________________________________________________________________________\n",
            "dense_1208 (Dense)              (None, 3)            51          lstm_411[0][0]                   \n",
            "__________________________________________________________________________________________________\n",
            "dense_1211 (Dense)              (None, 3)            51          lstm_412[0][0]                   \n",
            "__________________________________________________________________________________________________\n",
            "dense_1214 (Dense)              (None, 3)            51          lstm_413[0][0]                   \n",
            "__________________________________________________________________________________________________\n",
            "dense_1217 (Dense)              (None, 3)            51          lstm_414[0][0]                   \n",
            "__________________________________________________________________________________________________\n",
            "dense_1220 (Dense)              (None, 3)            51          lstm_415[0][0]                   \n",
            "__________________________________________________________________________________________________\n",
            "dense_1223 (Dense)              (None, 3)            51          lstm_416[0][0]                   \n",
            "__________________________________________________________________________________________________\n",
            "dense_1226 (Dense)              (None, 3)            51          lstm_417[0][0]                   \n",
            "__________________________________________________________________________________________________\n",
            "dense_1229 (Dense)              (None, 3)            51          lstm_418[0][0]                   \n",
            "__________________________________________________________________________________________________\n",
            "dense_1232 (Dense)              (None, 3)            51          lstm_419[0][0]                   \n",
            "__________________________________________________________________________________________________\n",
            "dense_1235 (Dense)              (None, 3)            51          lstm_420[0][0]                   \n",
            "__________________________________________________________________________________________________\n",
            "dense_1238 (Dense)              (None, 3)            51          lstm_421[0][0]                   \n",
            "__________________________________________________________________________________________________\n",
            "dense_1241 (Dense)              (None, 3)            51          lstm_422[0][0]                   \n",
            "__________________________________________________________________________________________________\n",
            "dense_1244 (Dense)              (None, 3)            51          lstm_423[0][0]                   \n",
            "__________________________________________________________________________________________________\n",
            "dense_1247 (Dense)              (None, 3)            51          lstm_424[0][0]                   \n",
            "__________________________________________________________________________________________________\n",
            "dense_1250 (Dense)              (None, 3)            51          lstm_425[0][0]                   \n",
            "__________________________________________________________________________________________________\n",
            "dense_1253 (Dense)              (None, 3)            51          lstm_426[0][0]                   \n",
            "__________________________________________________________________________________________________\n",
            "dense_1256 (Dense)              (None, 3)            51          lstm_427[0][0]                   \n",
            "__________________________________________________________________________________________________\n",
            "dense_1259 (Dense)              (None, 3)            51          lstm_428[0][0]                   \n",
            "__________________________________________________________________________________________________\n",
            "dense_1262 (Dense)              (None, 3)            51          lstm_429[0][0]                   \n",
            "__________________________________________________________________________________________________\n",
            "dense_1265 (Dense)              (None, 3)            51          lstm_430[0][0]                   \n",
            "__________________________________________________________________________________________________\n",
            "dense_1268 (Dense)              (None, 3)            51          lstm_431[0][0]                   \n",
            "__________________________________________________________________________________________________\n",
            "dense_1271 (Dense)              (None, 3)            51          lstm_432[0][0]                   \n",
            "__________________________________________________________________________________________________\n",
            "dense_1274 (Dense)              (None, 3)            51          lstm_433[0][0]                   \n",
            "__________________________________________________________________________________________________\n",
            "dense_1277 (Dense)              (None, 3)            51          lstm_434[0][0]                   \n",
            "__________________________________________________________________________________________________\n",
            "dense_1280 (Dense)              (None, 3)            51          lstm_435[0][0]                   \n",
            "__________________________________________________________________________________________________\n",
            "dense_1283 (Dense)              (None, 3)            51          lstm_436[0][0]                   \n",
            "__________________________________________________________________________________________________\n",
            "dense_1286 (Dense)              (None, 3)            51          lstm_437[0][0]                   \n",
            "__________________________________________________________________________________________________\n",
            "dense_1289 (Dense)              (None, 3)            51          lstm_438[0][0]                   \n",
            "__________________________________________________________________________________________________\n",
            "dense_1292 (Dense)              (None, 3)            51          lstm_439[0][0]                   \n",
            "__________________________________________________________________________________________________\n",
            "dense_1295 (Dense)              (None, 3)            51          lstm_440[0][0]                   \n",
            "__________________________________________________________________________________________________\n",
            "dense_1298 (Dense)              (None, 3)            51          lstm_441[0][0]                   \n",
            "__________________________________________________________________________________________________\n",
            "dense_1301 (Dense)              (None, 3)            51          lstm_442[0][0]                   \n",
            "__________________________________________________________________________________________________\n",
            "dense_1304 (Dense)              (None, 3)            51          lstm_443[0][0]                   \n",
            "__________________________________________________________________________________________________\n",
            "dense_1307 (Dense)              (None, 3)            51          lstm_444[0][0]                   \n",
            "__________________________________________________________________________________________________\n",
            "dense_1310 (Dense)              (None, 3)            51          lstm_445[0][0]                   \n",
            "__________________________________________________________________________________________________\n",
            "dense_1313 (Dense)              (None, 3)            51          lstm_446[0][0]                   \n",
            "__________________________________________________________________________________________________\n",
            "dense_1316 (Dense)              (None, 3)            51          lstm_447[0][0]                   \n",
            "__________________________________________________________________________________________________\n",
            "dense_1319 (Dense)              (None, 3)            51          lstm_448[0][0]                   \n",
            "__________________________________________________________________________________________________\n",
            "dense_1322 (Dense)              (None, 3)            51          lstm_449[0][0]                   \n",
            "__________________________________________________________________________________________________\n",
            "dense_1325 (Dense)              (None, 3)            51          lstm_450[0][0]                   \n",
            "__________________________________________________________________________________________________\n",
            "dense_1328 (Dense)              (None, 3)            51          lstm_451[0][0]                   \n",
            "__________________________________________________________________________________________________\n",
            "dense_1331 (Dense)              (None, 3)            51          lstm_452[0][0]                   \n",
            "__________________________________________________________________________________________________\n",
            "dense_1334 (Dense)              (None, 3)            51          lstm_453[0][0]                   \n",
            "__________________________________________________________________________________________________\n",
            "dense_1337 (Dense)              (None, 3)            51          lstm_454[0][0]                   \n",
            "__________________________________________________________________________________________________\n",
            "dense_1340 (Dense)              (None, 3)            51          lstm_455[0][0]                   \n",
            "__________________________________________________________________________________________________\n",
            "dense_1343 (Dense)              (None, 3)            51          lstm_456[0][0]                   \n",
            "__________________________________________________________________________________________________\n",
            "dense_1346 (Dense)              (None, 3)            51          lstm_457[0][0]                   \n",
            "__________________________________________________________________________________________________\n",
            "dense_1349 (Dense)              (None, 3)            51          lstm_458[0][0]                   \n",
            "==================================================================================================\n",
            "Total params: 4,455,632\n",
            "Trainable params: 4,453,200\n",
            "Non-trainable params: 2,432\n",
            "__________________________________________________________________________________________________\n"
          ],
          "name": "stdout"
        }
      ]
    },
    {
      "cell_type": "markdown",
      "metadata": {
        "id": "3kbNKcqp16t1"
      },
      "source": [
        "##3.3 Training"
      ]
    },
    {
      "cell_type": "code",
      "metadata": {
        "id": "RPhi6yWq-QSc"
      },
      "source": [
        "class CustomizedLoss(tf.keras.losses.Loss):\r\n",
        "    def compute_loss(self, logits, positions):\r\n",
        "        one_hot_positions = tf.one_hot(\r\n",
        "            int(positions), depth=3)\r\n",
        "        log_probs = tf.nn.log_softmax(logits, axis=-1)\r\n",
        "        weight = tf.constant([1.,4.,1.])\r\n",
        "        loss = -tf.reduce_mean(\r\n",
        "            tf.reduce_sum(one_hot_positions * log_probs * weight, axis=-1))\r\n",
        "        return loss\r\n",
        "    \r\n",
        "    def call(self, y_true, y_pred):\r\n",
        "        loss = self.compute_loss(y_pred, y_true)\r\n",
        "        return loss"
      ],
      "execution_count": 25,
      "outputs": []
    },
    {
      "cell_type": "markdown",
      "metadata": {
        "id": "ZFQivnnfhnfd"
      },
      "source": [
        "###3.3.1 Train with distributed TPUs/GPUs"
      ]
    },
    {
      "cell_type": "code",
      "metadata": {
        "id": "NyM3gkryf8bg",
        "colab": {
          "base_uri": "https://localhost:8080/",
          "height": 1000
        },
        "outputId": "4f22ab4a-99e7-45c6-8767-0b99a6c2cd42"
      },
      "source": [
        "with mirrored_strategy.scope(): # creating the model in the TPUStrategy scope means we will train the model on the TPU\r\n",
        "    \r\n",
        "    model = resnet18_attention = Resnet18_Attention(Tx, Ty, n_a, n_s, 3, 3840)\r\n",
        "\r\n",
        "    ## early stop\r\n",
        "    def decay(epoch):\r\n",
        "        if epoch < 50:\r\n",
        "            return 1e-4\r\n",
        "        elif 50 <= epoch < 150:\r\n",
        "            return 1e-5\r\n",
        "        else:\r\n",
        "            return 1e-6\r\n",
        "\r\n",
        "    early_stop = tf.keras.callbacks.EarlyStopping(monitor='val_loss', patience=20, restore_best_weights=False)\r\n",
        "\r\n",
        "    ## learning rate decay callback\r\n",
        "    lr_schedule = tf.keras.callbacks.LearningRateScheduler(decay)\r\n",
        "\r\n",
        "    callbacks_list = [early_stop, lr_schedule]\r\n",
        "\r\n",
        "    model.compile(optimizer=tf.keras.optimizers.Adam(),\r\n",
        "                  loss=tf.keras.losses.SparseCategoricalCrossentropy(from_logits=True),\r\n",
        "                  metrics=['accuracy'])\r\n",
        "    \r\n",
        "    history = model.fit(train_dataset,\r\n",
        "                        epochs=100,\r\n",
        "                        steps_per_epoch=len(os_train_signal)//batch_size,\r\n",
        "                        verbose=1,\r\n",
        "                        validation_data=val_dataset,\r\n",
        "                        validation_steps=len(val_signal_input)//batch_size,\r\n",
        "                        callbacks=callbacks_list\r\n",
        "                        )"
      ],
      "execution_count": 20,
      "outputs": [
        {
          "output_type": "stream",
          "text": [
            "INFO:tensorflow:Reduce to /job:localhost/replica:0/task:0/device:CPU:0 then broadcast to ('/job:localhost/replica:0/task:0/device:CPU:0',).\n",
            "INFO:tensorflow:Reduce to /job:localhost/replica:0/task:0/device:CPU:0 then broadcast to ('/job:localhost/replica:0/task:0/device:CPU:0',).\n",
            "INFO:tensorflow:Reduce to /job:localhost/replica:0/task:0/device:CPU:0 then broadcast to ('/job:localhost/replica:0/task:0/device:CPU:0',).\n",
            "INFO:tensorflow:Reduce to /job:localhost/replica:0/task:0/device:CPU:0 then broadcast to ('/job:localhost/replica:0/task:0/device:CPU:0',).\n",
            "INFO:tensorflow:Reduce to /job:localhost/replica:0/task:0/device:CPU:0 then broadcast to ('/job:localhost/replica:0/task:0/device:CPU:0',).\n",
            "INFO:tensorflow:Reduce to /job:localhost/replica:0/task:0/device:CPU:0 then broadcast to ('/job:localhost/replica:0/task:0/device:CPU:0',).\n",
            "INFO:tensorflow:Reduce to /job:localhost/replica:0/task:0/device:CPU:0 then broadcast to ('/job:localhost/replica:0/task:0/device:CPU:0',).\n",
            "INFO:tensorflow:Reduce to /job:localhost/replica:0/task:0/device:CPU:0 then broadcast to ('/job:localhost/replica:0/task:0/device:CPU:0',).\n",
            "INFO:tensorflow:Reduce to /job:localhost/replica:0/task:0/device:CPU:0 then broadcast to ('/job:localhost/replica:0/task:0/device:CPU:0',).\n",
            "INFO:tensorflow:Reduce to /job:localhost/replica:0/task:0/device:CPU:0 then broadcast to ('/job:localhost/replica:0/task:0/device:CPU:0',).\n",
            "Epoch 1/100\n",
            "INFO:tensorflow:Error reported to Coordinator: Shape mismatch: The shape of labels (received (1600,)) should equal the shape of logits except for the last dimension (received (32, 3)).\n",
            "Traceback (most recent call last):\n",
            "  File \"/usr/local/lib/python3.7/dist-packages/tensorflow/python/training/coordinator.py\", line 297, in stop_on_exception\n",
            "    yield\n",
            "  File \"/usr/local/lib/python3.7/dist-packages/tensorflow/python/distribute/mirrored_run.py\", line 323, in run\n",
            "    self.main_result = self.main_fn(*self.main_args, **self.main_kwargs)\n",
            "  File \"/usr/local/lib/python3.7/dist-packages/tensorflow/python/autograph/impl/api.py\", line 667, in wrapper\n",
            "    return converted_call(f, args, kwargs, options=options)\n",
            "  File \"/usr/local/lib/python3.7/dist-packages/tensorflow/python/autograph/impl/api.py\", line 396, in converted_call\n",
            "    return _call_unconverted(f, args, kwargs, options)\n",
            "  File \"/usr/local/lib/python3.7/dist-packages/tensorflow/python/autograph/impl/api.py\", line 478, in _call_unconverted\n",
            "    return f(*args, **kwargs)\n",
            "  File \"/usr/local/lib/python3.7/dist-packages/tensorflow/python/keras/engine/training.py\", line 788, in run_step\n",
            "    outputs = model.train_step(data)\n",
            "  File \"/usr/local/lib/python3.7/dist-packages/tensorflow/python/keras/engine/training.py\", line 756, in train_step\n",
            "    y, y_pred, sample_weight, regularization_losses=self.losses)\n",
            "  File \"/usr/local/lib/python3.7/dist-packages/tensorflow/python/keras/engine/compile_utils.py\", line 203, in __call__\n",
            "    loss_value = loss_obj(y_t, y_p, sample_weight=sw)\n",
            "  File \"/usr/local/lib/python3.7/dist-packages/tensorflow/python/keras/losses.py\", line 152, in __call__\n",
            "    losses = call_fn(y_true, y_pred)\n",
            "  File \"/usr/local/lib/python3.7/dist-packages/tensorflow/python/autograph/impl/api.py\", line 667, in wrapper\n",
            "    return converted_call(f, args, kwargs, options=options)\n",
            "  File \"/usr/local/lib/python3.7/dist-packages/tensorflow/python/autograph/impl/api.py\", line 396, in converted_call\n",
            "    return _call_unconverted(f, args, kwargs, options)\n",
            "  File \"/usr/local/lib/python3.7/dist-packages/tensorflow/python/autograph/impl/api.py\", line 478, in _call_unconverted\n",
            "    return f(*args, **kwargs)\n",
            "  File \"/usr/local/lib/python3.7/dist-packages/tensorflow/python/keras/losses.py\", line 256, in call\n",
            "    return ag_fn(y_true, y_pred, **self._fn_kwargs)\n",
            "  File \"/usr/local/lib/python3.7/dist-packages/tensorflow/python/util/dispatch.py\", line 201, in wrapper\n",
            "    return target(*args, **kwargs)\n",
            "  File \"/usr/local/lib/python3.7/dist-packages/tensorflow/python/keras/losses.py\", line 1569, in sparse_categorical_crossentropy\n",
            "    y_true, y_pred, from_logits=from_logits, axis=axis)\n",
            "  File \"/usr/local/lib/python3.7/dist-packages/tensorflow/python/util/dispatch.py\", line 201, in wrapper\n",
            "    return target(*args, **kwargs)\n",
            "  File \"/usr/local/lib/python3.7/dist-packages/tensorflow/python/keras/backend.py\", line 4941, in sparse_categorical_crossentropy\n",
            "    labels=target, logits=output)\n",
            "  File \"/usr/local/lib/python3.7/dist-packages/tensorflow/python/util/dispatch.py\", line 201, in wrapper\n",
            "    return target(*args, **kwargs)\n",
            "  File \"/usr/local/lib/python3.7/dist-packages/tensorflow/python/ops/nn_ops.py\", line 4241, in sparse_softmax_cross_entropy_with_logits_v2\n",
            "    labels=labels, logits=logits, name=name)\n",
            "  File \"/usr/local/lib/python3.7/dist-packages/tensorflow/python/util/dispatch.py\", line 201, in wrapper\n",
            "    return target(*args, **kwargs)\n",
            "  File \"/usr/local/lib/python3.7/dist-packages/tensorflow/python/ops/nn_ops.py\", line 4156, in sparse_softmax_cross_entropy_with_logits\n",
            "    logits.get_shape()))\n",
            "ValueError: Shape mismatch: The shape of labels (received (1600,)) should equal the shape of logits except for the last dimension (received (32, 3)).\n"
          ],
          "name": "stdout"
        },
        {
          "output_type": "error",
          "ename": "ValueError",
          "evalue": "ignored",
          "traceback": [
            "\u001b[0;31m---------------------------------------------------------------------------\u001b[0m",
            "\u001b[0;31mValueError\u001b[0m                                Traceback (most recent call last)",
            "\u001b[0;32m<ipython-input-20-49ef7aa51f79>\u001b[0m in \u001b[0;36m<module>\u001b[0;34m()\u001b[0m\n\u001b[1;32m     29\u001b[0m                         \u001b[0mvalidation_data\u001b[0m\u001b[0;34m=\u001b[0m\u001b[0mval_dataset\u001b[0m\u001b[0;34m,\u001b[0m\u001b[0;34m\u001b[0m\u001b[0;34m\u001b[0m\u001b[0m\n\u001b[1;32m     30\u001b[0m                         \u001b[0mvalidation_steps\u001b[0m\u001b[0;34m=\u001b[0m\u001b[0mlen\u001b[0m\u001b[0;34m(\u001b[0m\u001b[0mval_signal_input\u001b[0m\u001b[0;34m)\u001b[0m\u001b[0;34m//\u001b[0m\u001b[0mbatch_size\u001b[0m\u001b[0;34m,\u001b[0m\u001b[0;34m\u001b[0m\u001b[0;34m\u001b[0m\u001b[0m\n\u001b[0;32m---> 31\u001b[0;31m                         \u001b[0mcallbacks\u001b[0m\u001b[0;34m=\u001b[0m\u001b[0mcallbacks_list\u001b[0m\u001b[0;34m\u001b[0m\u001b[0;34m\u001b[0m\u001b[0m\n\u001b[0m\u001b[1;32m     32\u001b[0m                         )\n",
            "\u001b[0;32m/usr/local/lib/python3.7/dist-packages/tensorflow/python/keras/engine/training.py\u001b[0m in \u001b[0;36mfit\u001b[0;34m(self, x, y, batch_size, epochs, verbose, callbacks, validation_split, validation_data, shuffle, class_weight, sample_weight, initial_epoch, steps_per_epoch, validation_steps, validation_batch_size, validation_freq, max_queue_size, workers, use_multiprocessing)\u001b[0m\n\u001b[1;32m   1098\u001b[0m                 _r=1):\n\u001b[1;32m   1099\u001b[0m               \u001b[0mcallbacks\u001b[0m\u001b[0;34m.\u001b[0m\u001b[0mon_train_batch_begin\u001b[0m\u001b[0;34m(\u001b[0m\u001b[0mstep\u001b[0m\u001b[0;34m)\u001b[0m\u001b[0;34m\u001b[0m\u001b[0;34m\u001b[0m\u001b[0m\n\u001b[0;32m-> 1100\u001b[0;31m               \u001b[0mtmp_logs\u001b[0m \u001b[0;34m=\u001b[0m \u001b[0mself\u001b[0m\u001b[0;34m.\u001b[0m\u001b[0mtrain_function\u001b[0m\u001b[0;34m(\u001b[0m\u001b[0miterator\u001b[0m\u001b[0;34m)\u001b[0m\u001b[0;34m\u001b[0m\u001b[0;34m\u001b[0m\u001b[0m\n\u001b[0m\u001b[1;32m   1101\u001b[0m               \u001b[0;32mif\u001b[0m \u001b[0mdata_handler\u001b[0m\u001b[0;34m.\u001b[0m\u001b[0mshould_sync\u001b[0m\u001b[0;34m:\u001b[0m\u001b[0;34m\u001b[0m\u001b[0;34m\u001b[0m\u001b[0m\n\u001b[1;32m   1102\u001b[0m                 \u001b[0mcontext\u001b[0m\u001b[0;34m.\u001b[0m\u001b[0masync_wait\u001b[0m\u001b[0;34m(\u001b[0m\u001b[0;34m)\u001b[0m\u001b[0;34m\u001b[0m\u001b[0;34m\u001b[0m\u001b[0m\n",
            "\u001b[0;32m/usr/local/lib/python3.7/dist-packages/tensorflow/python/eager/def_function.py\u001b[0m in \u001b[0;36m__call__\u001b[0;34m(self, *args, **kwds)\u001b[0m\n\u001b[1;32m    826\u001b[0m     \u001b[0mtracing_count\u001b[0m \u001b[0;34m=\u001b[0m \u001b[0mself\u001b[0m\u001b[0;34m.\u001b[0m\u001b[0mexperimental_get_tracing_count\u001b[0m\u001b[0;34m(\u001b[0m\u001b[0;34m)\u001b[0m\u001b[0;34m\u001b[0m\u001b[0;34m\u001b[0m\u001b[0m\n\u001b[1;32m    827\u001b[0m     \u001b[0;32mwith\u001b[0m \u001b[0mtrace\u001b[0m\u001b[0;34m.\u001b[0m\u001b[0mTrace\u001b[0m\u001b[0;34m(\u001b[0m\u001b[0mself\u001b[0m\u001b[0;34m.\u001b[0m\u001b[0m_name\u001b[0m\u001b[0;34m)\u001b[0m \u001b[0;32mas\u001b[0m \u001b[0mtm\u001b[0m\u001b[0;34m:\u001b[0m\u001b[0;34m\u001b[0m\u001b[0;34m\u001b[0m\u001b[0m\n\u001b[0;32m--> 828\u001b[0;31m       \u001b[0mresult\u001b[0m \u001b[0;34m=\u001b[0m \u001b[0mself\u001b[0m\u001b[0;34m.\u001b[0m\u001b[0m_call\u001b[0m\u001b[0;34m(\u001b[0m\u001b[0;34m*\u001b[0m\u001b[0margs\u001b[0m\u001b[0;34m,\u001b[0m \u001b[0;34m**\u001b[0m\u001b[0mkwds\u001b[0m\u001b[0;34m)\u001b[0m\u001b[0;34m\u001b[0m\u001b[0;34m\u001b[0m\u001b[0m\n\u001b[0m\u001b[1;32m    829\u001b[0m       \u001b[0mcompiler\u001b[0m \u001b[0;34m=\u001b[0m \u001b[0;34m\"xla\"\u001b[0m \u001b[0;32mif\u001b[0m \u001b[0mself\u001b[0m\u001b[0;34m.\u001b[0m\u001b[0m_experimental_compile\u001b[0m \u001b[0;32melse\u001b[0m \u001b[0;34m\"nonXla\"\u001b[0m\u001b[0;34m\u001b[0m\u001b[0;34m\u001b[0m\u001b[0m\n\u001b[1;32m    830\u001b[0m       \u001b[0mnew_tracing_count\u001b[0m \u001b[0;34m=\u001b[0m \u001b[0mself\u001b[0m\u001b[0;34m.\u001b[0m\u001b[0mexperimental_get_tracing_count\u001b[0m\u001b[0;34m(\u001b[0m\u001b[0;34m)\u001b[0m\u001b[0;34m\u001b[0m\u001b[0;34m\u001b[0m\u001b[0m\n",
            "\u001b[0;32m/usr/local/lib/python3.7/dist-packages/tensorflow/python/eager/def_function.py\u001b[0m in \u001b[0;36m_call\u001b[0;34m(self, *args, **kwds)\u001b[0m\n\u001b[1;32m    869\u001b[0m       \u001b[0;31m# This is the first call of __call__, so we have to initialize.\u001b[0m\u001b[0;34m\u001b[0m\u001b[0;34m\u001b[0m\u001b[0;34m\u001b[0m\u001b[0m\n\u001b[1;32m    870\u001b[0m       \u001b[0minitializers\u001b[0m \u001b[0;34m=\u001b[0m \u001b[0;34m[\u001b[0m\u001b[0;34m]\u001b[0m\u001b[0;34m\u001b[0m\u001b[0;34m\u001b[0m\u001b[0m\n\u001b[0;32m--> 871\u001b[0;31m       \u001b[0mself\u001b[0m\u001b[0;34m.\u001b[0m\u001b[0m_initialize\u001b[0m\u001b[0;34m(\u001b[0m\u001b[0margs\u001b[0m\u001b[0;34m,\u001b[0m \u001b[0mkwds\u001b[0m\u001b[0;34m,\u001b[0m \u001b[0madd_initializers_to\u001b[0m\u001b[0;34m=\u001b[0m\u001b[0minitializers\u001b[0m\u001b[0;34m)\u001b[0m\u001b[0;34m\u001b[0m\u001b[0;34m\u001b[0m\u001b[0m\n\u001b[0m\u001b[1;32m    872\u001b[0m     \u001b[0;32mfinally\u001b[0m\u001b[0;34m:\u001b[0m\u001b[0;34m\u001b[0m\u001b[0;34m\u001b[0m\u001b[0m\n\u001b[1;32m    873\u001b[0m       \u001b[0;31m# At this point we know that the initialization is complete (or less\u001b[0m\u001b[0;34m\u001b[0m\u001b[0;34m\u001b[0m\u001b[0;34m\u001b[0m\u001b[0m\n",
            "\u001b[0;32m/usr/local/lib/python3.7/dist-packages/tensorflow/python/eager/def_function.py\u001b[0m in \u001b[0;36m_initialize\u001b[0;34m(self, args, kwds, add_initializers_to)\u001b[0m\n\u001b[1;32m    724\u001b[0m     self._concrete_stateful_fn = (\n\u001b[1;32m    725\u001b[0m         self._stateful_fn._get_concrete_function_internal_garbage_collected(  # pylint: disable=protected-access\n\u001b[0;32m--> 726\u001b[0;31m             *args, **kwds))\n\u001b[0m\u001b[1;32m    727\u001b[0m \u001b[0;34m\u001b[0m\u001b[0m\n\u001b[1;32m    728\u001b[0m     \u001b[0;32mdef\u001b[0m \u001b[0minvalid_creator_scope\u001b[0m\u001b[0;34m(\u001b[0m\u001b[0;34m*\u001b[0m\u001b[0munused_args\u001b[0m\u001b[0;34m,\u001b[0m \u001b[0;34m**\u001b[0m\u001b[0munused_kwds\u001b[0m\u001b[0;34m)\u001b[0m\u001b[0;34m:\u001b[0m\u001b[0;34m\u001b[0m\u001b[0;34m\u001b[0m\u001b[0m\n",
            "\u001b[0;32m/usr/local/lib/python3.7/dist-packages/tensorflow/python/eager/function.py\u001b[0m in \u001b[0;36m_get_concrete_function_internal_garbage_collected\u001b[0;34m(self, *args, **kwargs)\u001b[0m\n\u001b[1;32m   2967\u001b[0m       \u001b[0margs\u001b[0m\u001b[0;34m,\u001b[0m \u001b[0mkwargs\u001b[0m \u001b[0;34m=\u001b[0m \u001b[0;32mNone\u001b[0m\u001b[0;34m,\u001b[0m \u001b[0;32mNone\u001b[0m\u001b[0;34m\u001b[0m\u001b[0;34m\u001b[0m\u001b[0m\n\u001b[1;32m   2968\u001b[0m     \u001b[0;32mwith\u001b[0m \u001b[0mself\u001b[0m\u001b[0;34m.\u001b[0m\u001b[0m_lock\u001b[0m\u001b[0;34m:\u001b[0m\u001b[0;34m\u001b[0m\u001b[0;34m\u001b[0m\u001b[0m\n\u001b[0;32m-> 2969\u001b[0;31m       \u001b[0mgraph_function\u001b[0m\u001b[0;34m,\u001b[0m \u001b[0m_\u001b[0m \u001b[0;34m=\u001b[0m \u001b[0mself\u001b[0m\u001b[0;34m.\u001b[0m\u001b[0m_maybe_define_function\u001b[0m\u001b[0;34m(\u001b[0m\u001b[0margs\u001b[0m\u001b[0;34m,\u001b[0m \u001b[0mkwargs\u001b[0m\u001b[0;34m)\u001b[0m\u001b[0;34m\u001b[0m\u001b[0;34m\u001b[0m\u001b[0m\n\u001b[0m\u001b[1;32m   2970\u001b[0m     \u001b[0;32mreturn\u001b[0m \u001b[0mgraph_function\u001b[0m\u001b[0;34m\u001b[0m\u001b[0;34m\u001b[0m\u001b[0m\n\u001b[1;32m   2971\u001b[0m \u001b[0;34m\u001b[0m\u001b[0m\n",
            "\u001b[0;32m/usr/local/lib/python3.7/dist-packages/tensorflow/python/eager/function.py\u001b[0m in \u001b[0;36m_maybe_define_function\u001b[0;34m(self, args, kwargs)\u001b[0m\n\u001b[1;32m   3359\u001b[0m \u001b[0;34m\u001b[0m\u001b[0m\n\u001b[1;32m   3360\u001b[0m           \u001b[0mself\u001b[0m\u001b[0;34m.\u001b[0m\u001b[0m_function_cache\u001b[0m\u001b[0;34m.\u001b[0m\u001b[0mmissed\u001b[0m\u001b[0;34m.\u001b[0m\u001b[0madd\u001b[0m\u001b[0;34m(\u001b[0m\u001b[0mcall_context_key\u001b[0m\u001b[0;34m)\u001b[0m\u001b[0;34m\u001b[0m\u001b[0;34m\u001b[0m\u001b[0m\n\u001b[0;32m-> 3361\u001b[0;31m           \u001b[0mgraph_function\u001b[0m \u001b[0;34m=\u001b[0m \u001b[0mself\u001b[0m\u001b[0;34m.\u001b[0m\u001b[0m_create_graph_function\u001b[0m\u001b[0;34m(\u001b[0m\u001b[0margs\u001b[0m\u001b[0;34m,\u001b[0m \u001b[0mkwargs\u001b[0m\u001b[0;34m)\u001b[0m\u001b[0;34m\u001b[0m\u001b[0;34m\u001b[0m\u001b[0m\n\u001b[0m\u001b[1;32m   3362\u001b[0m           \u001b[0mself\u001b[0m\u001b[0;34m.\u001b[0m\u001b[0m_function_cache\u001b[0m\u001b[0;34m.\u001b[0m\u001b[0mprimary\u001b[0m\u001b[0;34m[\u001b[0m\u001b[0mcache_key\u001b[0m\u001b[0;34m]\u001b[0m \u001b[0;34m=\u001b[0m \u001b[0mgraph_function\u001b[0m\u001b[0;34m\u001b[0m\u001b[0;34m\u001b[0m\u001b[0m\n\u001b[1;32m   3363\u001b[0m \u001b[0;34m\u001b[0m\u001b[0m\n",
            "\u001b[0;32m/usr/local/lib/python3.7/dist-packages/tensorflow/python/eager/function.py\u001b[0m in \u001b[0;36m_create_graph_function\u001b[0;34m(self, args, kwargs, override_flat_arg_shapes)\u001b[0m\n\u001b[1;32m   3204\u001b[0m             \u001b[0marg_names\u001b[0m\u001b[0;34m=\u001b[0m\u001b[0marg_names\u001b[0m\u001b[0;34m,\u001b[0m\u001b[0;34m\u001b[0m\u001b[0;34m\u001b[0m\u001b[0m\n\u001b[1;32m   3205\u001b[0m             \u001b[0moverride_flat_arg_shapes\u001b[0m\u001b[0;34m=\u001b[0m\u001b[0moverride_flat_arg_shapes\u001b[0m\u001b[0;34m,\u001b[0m\u001b[0;34m\u001b[0m\u001b[0;34m\u001b[0m\u001b[0m\n\u001b[0;32m-> 3206\u001b[0;31m             capture_by_value=self._capture_by_value),\n\u001b[0m\u001b[1;32m   3207\u001b[0m         \u001b[0mself\u001b[0m\u001b[0;34m.\u001b[0m\u001b[0m_function_attributes\u001b[0m\u001b[0;34m,\u001b[0m\u001b[0;34m\u001b[0m\u001b[0;34m\u001b[0m\u001b[0m\n\u001b[1;32m   3208\u001b[0m         \u001b[0mfunction_spec\u001b[0m\u001b[0;34m=\u001b[0m\u001b[0mself\u001b[0m\u001b[0;34m.\u001b[0m\u001b[0mfunction_spec\u001b[0m\u001b[0;34m,\u001b[0m\u001b[0;34m\u001b[0m\u001b[0;34m\u001b[0m\u001b[0m\n",
            "\u001b[0;32m/usr/local/lib/python3.7/dist-packages/tensorflow/python/framework/func_graph.py\u001b[0m in \u001b[0;36mfunc_graph_from_py_func\u001b[0;34m(name, python_func, args, kwargs, signature, func_graph, autograph, autograph_options, add_control_dependencies, arg_names, op_return_value, collections, capture_by_value, override_flat_arg_shapes)\u001b[0m\n\u001b[1;32m    988\u001b[0m         \u001b[0m_\u001b[0m\u001b[0;34m,\u001b[0m \u001b[0moriginal_func\u001b[0m \u001b[0;34m=\u001b[0m \u001b[0mtf_decorator\u001b[0m\u001b[0;34m.\u001b[0m\u001b[0munwrap\u001b[0m\u001b[0;34m(\u001b[0m\u001b[0mpython_func\u001b[0m\u001b[0;34m)\u001b[0m\u001b[0;34m\u001b[0m\u001b[0;34m\u001b[0m\u001b[0m\n\u001b[1;32m    989\u001b[0m \u001b[0;34m\u001b[0m\u001b[0m\n\u001b[0;32m--> 990\u001b[0;31m       \u001b[0mfunc_outputs\u001b[0m \u001b[0;34m=\u001b[0m \u001b[0mpython_func\u001b[0m\u001b[0;34m(\u001b[0m\u001b[0;34m*\u001b[0m\u001b[0mfunc_args\u001b[0m\u001b[0;34m,\u001b[0m \u001b[0;34m**\u001b[0m\u001b[0mfunc_kwargs\u001b[0m\u001b[0;34m)\u001b[0m\u001b[0;34m\u001b[0m\u001b[0;34m\u001b[0m\u001b[0m\n\u001b[0m\u001b[1;32m    991\u001b[0m \u001b[0;34m\u001b[0m\u001b[0m\n\u001b[1;32m    992\u001b[0m       \u001b[0;31m# invariant: `func_outputs` contains only Tensors, CompositeTensors,\u001b[0m\u001b[0;34m\u001b[0m\u001b[0;34m\u001b[0m\u001b[0;34m\u001b[0m\u001b[0m\n",
            "\u001b[0;32m/usr/local/lib/python3.7/dist-packages/tensorflow/python/eager/def_function.py\u001b[0m in \u001b[0;36mwrapped_fn\u001b[0;34m(*args, **kwds)\u001b[0m\n\u001b[1;32m    632\u001b[0m             \u001b[0mxla_context\u001b[0m\u001b[0;34m.\u001b[0m\u001b[0mExit\u001b[0m\u001b[0;34m(\u001b[0m\u001b[0;34m)\u001b[0m\u001b[0;34m\u001b[0m\u001b[0;34m\u001b[0m\u001b[0m\n\u001b[1;32m    633\u001b[0m         \u001b[0;32melse\u001b[0m\u001b[0;34m:\u001b[0m\u001b[0;34m\u001b[0m\u001b[0;34m\u001b[0m\u001b[0m\n\u001b[0;32m--> 634\u001b[0;31m           \u001b[0mout\u001b[0m \u001b[0;34m=\u001b[0m \u001b[0mweak_wrapped_fn\u001b[0m\u001b[0;34m(\u001b[0m\u001b[0;34m)\u001b[0m\u001b[0;34m.\u001b[0m\u001b[0m__wrapped__\u001b[0m\u001b[0;34m(\u001b[0m\u001b[0;34m*\u001b[0m\u001b[0margs\u001b[0m\u001b[0;34m,\u001b[0m \u001b[0;34m**\u001b[0m\u001b[0mkwds\u001b[0m\u001b[0;34m)\u001b[0m\u001b[0;34m\u001b[0m\u001b[0;34m\u001b[0m\u001b[0m\n\u001b[0m\u001b[1;32m    635\u001b[0m         \u001b[0;32mreturn\u001b[0m \u001b[0mout\u001b[0m\u001b[0;34m\u001b[0m\u001b[0;34m\u001b[0m\u001b[0m\n\u001b[1;32m    636\u001b[0m \u001b[0;34m\u001b[0m\u001b[0m\n",
            "\u001b[0;32m/usr/local/lib/python3.7/dist-packages/tensorflow/python/framework/func_graph.py\u001b[0m in \u001b[0;36mwrapper\u001b[0;34m(*args, **kwargs)\u001b[0m\n\u001b[1;32m    975\u001b[0m           \u001b[0;32mexcept\u001b[0m \u001b[0mException\u001b[0m \u001b[0;32mas\u001b[0m \u001b[0me\u001b[0m\u001b[0;34m:\u001b[0m  \u001b[0;31m# pylint:disable=broad-except\u001b[0m\u001b[0;34m\u001b[0m\u001b[0;34m\u001b[0m\u001b[0m\n\u001b[1;32m    976\u001b[0m             \u001b[0;32mif\u001b[0m \u001b[0mhasattr\u001b[0m\u001b[0;34m(\u001b[0m\u001b[0me\u001b[0m\u001b[0;34m,\u001b[0m \u001b[0;34m\"ag_error_metadata\"\u001b[0m\u001b[0;34m)\u001b[0m\u001b[0;34m:\u001b[0m\u001b[0;34m\u001b[0m\u001b[0;34m\u001b[0m\u001b[0m\n\u001b[0;32m--> 977\u001b[0;31m               \u001b[0;32mraise\u001b[0m \u001b[0me\u001b[0m\u001b[0;34m.\u001b[0m\u001b[0mag_error_metadata\u001b[0m\u001b[0;34m.\u001b[0m\u001b[0mto_exception\u001b[0m\u001b[0;34m(\u001b[0m\u001b[0me\u001b[0m\u001b[0;34m)\u001b[0m\u001b[0;34m\u001b[0m\u001b[0;34m\u001b[0m\u001b[0m\n\u001b[0m\u001b[1;32m    978\u001b[0m             \u001b[0;32melse\u001b[0m\u001b[0;34m:\u001b[0m\u001b[0;34m\u001b[0m\u001b[0;34m\u001b[0m\u001b[0m\n\u001b[1;32m    979\u001b[0m               \u001b[0;32mraise\u001b[0m\u001b[0;34m\u001b[0m\u001b[0;34m\u001b[0m\u001b[0m\n",
            "\u001b[0;31mValueError\u001b[0m: in user code:\n\n    /usr/local/lib/python3.7/dist-packages/tensorflow/python/keras/engine/training.py:805 train_function  *\n        return step_function(self, iterator)\n    /usr/local/lib/python3.7/dist-packages/tensorflow/python/keras/engine/training.py:795 step_function  **\n        outputs = model.distribute_strategy.run(run_step, args=(data,))\n    /usr/local/lib/python3.7/dist-packages/tensorflow/python/distribute/distribute_lib.py:1259 run\n        return self._extended.call_for_each_replica(fn, args=args, kwargs=kwargs)\n    /usr/local/lib/python3.7/dist-packages/tensorflow/python/distribute/distribute_lib.py:2730 call_for_each_replica\n        return self._call_for_each_replica(fn, args, kwargs)\n    /usr/local/lib/python3.7/dist-packages/tensorflow/python/distribute/mirrored_strategy.py:629 _call_for_each_replica\n        self._container_strategy(), fn, args, kwargs)\n    /usr/local/lib/python3.7/dist-packages/tensorflow/python/distribute/mirrored_run.py:93 call_for_each_replica\n        return _call_for_each_replica(strategy, fn, args, kwargs)\n    /usr/local/lib/python3.7/dist-packages/tensorflow/python/distribute/mirrored_run.py:234 _call_for_each_replica\n        coord.join(threads)\n    /usr/local/lib/python3.7/dist-packages/tensorflow/python/training/coordinator.py:389 join\n        six.reraise(*self._exc_info_to_raise)\n    /usr/local/lib/python3.7/dist-packages/six.py:703 reraise\n        raise value\n    /usr/local/lib/python3.7/dist-packages/tensorflow/python/training/coordinator.py:297 stop_on_exception\n        yield\n    /usr/local/lib/python3.7/dist-packages/tensorflow/python/distribute/mirrored_run.py:323 run\n        self.main_result = self.main_fn(*self.main_args, **self.main_kwargs)\n    /usr/local/lib/python3.7/dist-packages/tensorflow/python/keras/engine/training.py:788 run_step  **\n        outputs = model.train_step(data)\n    /usr/local/lib/python3.7/dist-packages/tensorflow/python/keras/engine/training.py:756 train_step\n        y, y_pred, sample_weight, regularization_losses=self.losses)\n    /usr/local/lib/python3.7/dist-packages/tensorflow/python/keras/engine/compile_utils.py:203 __call__\n        loss_value = loss_obj(y_t, y_p, sample_weight=sw)\n    /usr/local/lib/python3.7/dist-packages/tensorflow/python/keras/losses.py:152 __call__\n        losses = call_fn(y_true, y_pred)\n    /usr/local/lib/python3.7/dist-packages/tensorflow/python/keras/losses.py:256 call  **\n        return ag_fn(y_true, y_pred, **self._fn_kwargs)\n    /usr/local/lib/python3.7/dist-packages/tensorflow/python/util/dispatch.py:201 wrapper\n        return target(*args, **kwargs)\n    /usr/local/lib/python3.7/dist-packages/tensorflow/python/keras/losses.py:1569 sparse_categorical_crossentropy\n        y_true, y_pred, from_logits=from_logits, axis=axis)\n    /usr/local/lib/python3.7/dist-packages/tensorflow/python/util/dispatch.py:201 wrapper\n        return target(*args, **kwargs)\n    /usr/local/lib/python3.7/dist-packages/tensorflow/python/keras/backend.py:4941 sparse_categorical_crossentropy\n        labels=target, logits=output)\n    /usr/local/lib/python3.7/dist-packages/tensorflow/python/util/dispatch.py:201 wrapper\n        return target(*args, **kwargs)\n    /usr/local/lib/python3.7/dist-packages/tensorflow/python/ops/nn_ops.py:4241 sparse_softmax_cross_entropy_with_logits_v2\n        labels=labels, logits=logits, name=name)\n    /usr/local/lib/python3.7/dist-packages/tensorflow/python/util/dispatch.py:201 wrapper\n        return target(*args, **kwargs)\n    /usr/local/lib/python3.7/dist-packages/tensorflow/python/ops/nn_ops.py:4156 sparse_softmax_cross_entropy_with_logits\n        logits.get_shape()))\n\n    ValueError: Shape mismatch: The shape of labels (received (1600,)) should equal the shape of logits except for the last dimension (received (32, 3)).\n"
          ]
        }
      ]
    },
    {
      "cell_type": "code",
      "metadata": {
        "id": "h9bz4jNaH8jG",
        "outputId": "02b3677d-9584-4fa1-956b-f9f8b1198385",
        "colab": {
          "base_uri": "https://localhost:8080/",
          "height": 223
        }
      },
      "source": [
        "# Retrieve a list of list results on training and test data sets for each training epoch\n",
        "loss=history.history['loss']\n",
        "val_loss=history.history['val_loss']\n",
        "\n",
        "epochs=range(len(loss)) # Get number of epochs\n",
        "\n",
        "# Plot training and validation loss per epoch\n",
        "plt.plot(epochs, loss, 'r', label=\"Training Loss\")\n",
        "plt.plot(epochs, val_loss, 'b', label=\"Validation Loss\")\n",
        "plt.title('Training and validation Loss')\n",
        "plt.legend()\n",
        "plt.figure()"
      ],
      "execution_count": 27,
      "outputs": [
        {
          "output_type": "error",
          "ename": "NameError",
          "evalue": "ignored",
          "traceback": [
            "\u001b[0;31m---------------------------------------------------------------------------\u001b[0m",
            "\u001b[0;31mNameError\u001b[0m                                 Traceback (most recent call last)",
            "\u001b[0;32m<ipython-input-27-6f94d4911b69>\u001b[0m in \u001b[0;36m<module>\u001b[0;34m()\u001b[0m\n\u001b[1;32m      1\u001b[0m \u001b[0;31m# Retrieve a list of list results on training and test data sets for each training epoch\u001b[0m\u001b[0;34m\u001b[0m\u001b[0;34m\u001b[0m\u001b[0;34m\u001b[0m\u001b[0m\n\u001b[0;32m----> 2\u001b[0;31m \u001b[0mloss\u001b[0m\u001b[0;34m=\u001b[0m\u001b[0mhistory\u001b[0m\u001b[0;34m.\u001b[0m\u001b[0mhistory\u001b[0m\u001b[0;34m[\u001b[0m\u001b[0;34m'loss'\u001b[0m\u001b[0;34m]\u001b[0m\u001b[0;34m\u001b[0m\u001b[0;34m\u001b[0m\u001b[0m\n\u001b[0m\u001b[1;32m      3\u001b[0m \u001b[0mval_loss\u001b[0m\u001b[0;34m=\u001b[0m\u001b[0mhistory\u001b[0m\u001b[0;34m.\u001b[0m\u001b[0mhistory\u001b[0m\u001b[0;34m[\u001b[0m\u001b[0;34m'val_loss'\u001b[0m\u001b[0;34m]\u001b[0m\u001b[0;34m\u001b[0m\u001b[0;34m\u001b[0m\u001b[0m\n\u001b[1;32m      4\u001b[0m \u001b[0;34m\u001b[0m\u001b[0m\n\u001b[1;32m      5\u001b[0m \u001b[0mepochs\u001b[0m\u001b[0;34m=\u001b[0m\u001b[0mrange\u001b[0m\u001b[0;34m(\u001b[0m\u001b[0mlen\u001b[0m\u001b[0;34m(\u001b[0m\u001b[0mloss\u001b[0m\u001b[0;34m)\u001b[0m\u001b[0;34m)\u001b[0m \u001b[0;31m# Get number of epochs\u001b[0m\u001b[0;34m\u001b[0m\u001b[0;34m\u001b[0m\u001b[0m\n",
            "\u001b[0;31mNameError\u001b[0m: name 'history' is not defined"
          ]
        }
      ]
    },
    {
      "cell_type": "markdown",
      "metadata": {
        "id": "cUee80JIhjyY"
      },
      "source": [
        "###3.3.2 Train with single TPU/GPU"
      ]
    },
    {
      "cell_type": "code",
      "metadata": {
        "id": "vsdPxG-S4u6W"
      },
      "source": [
        "model.compile(optimizer=tf.keras.optimizers.Adam(),\r\n",
        "              loss=CustomizedLoss(),\r\n",
        "              metrics=['accuracy'])"
      ],
      "execution_count": 33,
      "outputs": []
    },
    {
      "cell_type": "code",
      "metadata": {
        "id": "PkCRBVpfyoBs"
      },
      "source": [
        "%tensorboard --logdir logs"
      ],
      "execution_count": null,
      "outputs": []
    },
    {
      "cell_type": "code",
      "metadata": {
        "id": "jTUeyZ1hSNhf"
      },
      "source": [
        "from tensorboard import notebook\r\n",
        "notebook.display(port=6006, height=1000) "
      ],
      "execution_count": null,
      "outputs": []
    },
    {
      "cell_type": "code",
      "metadata": {
        "id": "VSaqMKILK74W"
      },
      "source": [
        "model.fit(train_dataset,\r\n",
        "          epochs=100,\r\n",
        "          steps_per_epoch=len(os_train_label)//batch_size,\r\n",
        "          verbose=1,\r\n",
        "          validation_data=val_dataset,\r\n",
        "          validation_steps=len(val_signal_input)//batch_size,\r\n",
        "          callbacks=callbacks_list\r\n",
        "          )"
      ],
      "execution_count": null,
      "outputs": []
    },
    {
      "cell_type": "markdown",
      "metadata": {
        "id": "cgz_Nsz5sCfg"
      },
      "source": [
        "#4.Evaluate Model"
      ]
    },
    {
      "cell_type": "code",
      "metadata": {
        "id": "8ASNC6pT0m-A"
      },
      "source": [
        "# make predcitions\r\n",
        "val_pred_raw = model.predict(val_signal_input)\r\n",
        "val_pred = np.argmax(val_pred_raw, axis=-1)"
      ],
      "execution_count": 19,
      "outputs": []
    },
    {
      "cell_type": "markdown",
      "metadata": {
        "id": "38nCyuTB0BpO"
      },
      "source": [
        "##4.1 Confusion Matrix"
      ]
    },
    {
      "cell_type": "code",
      "metadata": {
        "id": "VY78rgfRsSTI"
      },
      "source": [
        "def plot_confusion_matrix(cm, class_names, normalize=False):\r\n",
        "    \"\"\"\r\n",
        "    Returns a matplotlib figure containing the plotted confusion matrix.\r\n",
        "\r\n",
        "    Args:\r\n",
        "       cm (array, shape = [n, n]): a confusion matrix of integer classes\r\n",
        "       class_names (array, shape = [n]): String names of the integer classes\r\n",
        "    \"\"\"\r\n",
        "\r\n",
        "    figure = plt.figure(figsize=(8, 8))\r\n",
        "    plt.imshow(cm, interpolation='nearest', cmap=plt.cm.Blues)\r\n",
        "    plt.title(\"Confusion matrix\")\r\n",
        "    plt.colorbar()\r\n",
        "    tick_marks = np.arange(len(class_names))\r\n",
        "    plt.xticks(tick_marks, class_names)\r\n",
        "    plt.yticks(tick_marks, class_names)\r\n",
        "    plt.ylim(bottom=-0.5, top=2.5)\r\n",
        "\r\n",
        "    if normalize:\r\n",
        "        cm = np.around(cm.astype('float') / cm.sum(axis=1)[:, np.newaxis], decimals=2)\r\n",
        "\r\n",
        "    # Use white text if squares are dark; otherwise black.\r\n",
        "    threshold = cm.max() / 1.5\r\n",
        "\r\n",
        "    for i, j in itertools.product(range(cm.shape[0]), range(cm.shape[1])):\r\n",
        "        color = \"white\" if cm[i, j] > threshold else \"black\"\r\n",
        "        plt.text(j, i, cm[i, j], horizontalalignment=\"center\", color=color)\r\n",
        "\r\n",
        "    plt.tight_layout()\r\n",
        "    plt.ylabel('True label')\r\n",
        "    plt.xlabel('Predicted label')"
      ],
      "execution_count": 21,
      "outputs": []
    },
    {
      "cell_type": "code",
      "metadata": {
        "colab": {
          "base_uri": "https://localhost:8080/",
          "height": 585
        },
        "id": "Ga9jFfrBvJvk",
        "outputId": "d5d01297-ac8e-41ec-d583-5e48dcec8a91"
      },
      "source": [
        "class_names = ['Wake','REM','NREM']\r\n",
        "cm = sklearn.metrics.confusion_matrix(val_label_input_join.flatten(), val_pred.flatten())\r\n",
        "plot_confusion_matrix(cm, class_names=class_names, normalize=True)"
      ],
      "execution_count": 22,
      "outputs": [
        {
          "output_type": "display_data",
          "data": {
            "image/png": "[encoded data removed]",
            "text/plain": [
              "<Figure size 576x576 with 2 Axes>"
            ]
          },
          "metadata": {
            "tags": [],
            "needs_background": "light"
          }
        }
      ]
    },
    {
      "cell_type": "markdown",
      "metadata": {
        "id": "S1U84UqH0FHd"
      },
      "source": [
        "##4.2 Cohen’s kappa coefficient"
      ]
    },
    {
      "cell_type": "code",
      "metadata": {
        "colab": {
          "base_uri": "https://localhost:8080/"
        },
        "id": "Mdcd9LD-0Wob",
        "outputId": "7c990ab4-1b2f-421a-8dee-687a529b7434"
      },
      "source": [
        "sklearn.metrics.cohen_kappa_score(val_label_input_join.flatten(), val_pred.flatten())"
      ],
      "execution_count": null,
      "outputs": [
        {
          "output_type": "execute_result",
          "data": {
            "text/plain": [
              "0.28901251808963335"
            ]
          },
          "metadata": {
            "tags": []
          },
          "execution_count": 30
        }
      ]
    },
    {
      "cell_type": "markdown",
      "metadata": {
        "id": "WsgNnBoI0338"
      },
      "source": [
        "##4.3 Clinical parameters"
      ]
    },
    {
      "cell_type": "code",
      "metadata": {
        "id": "SawPaKLS0-mD"
      },
      "source": [
        "# total sleep time\r\n",
        "# sleep efficiency\r\n",
        "# sleep stage percentage\r\n",
        "# AHI"
      ],
      "execution_count": null,
      "outputs": []
    }
  ]
}