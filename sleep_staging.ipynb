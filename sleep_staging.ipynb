{
  "nbformat": 4,
  "nbformat_minor": 0,
  "metadata": {
    "kernelspec": {
      "display_name": "Python 3",
      "language": "python",
      "name": "python3"
    },
    "language_info": {
      "codemirror_mode": {
        "name": "ipython",
        "version": 3
      },
      "file_extension": ".py",
      "mimetype": "text/x-python",
      "name": "python",
      "nbconvert_exporter": "python",
      "pygments_lexer": "ipython3",
      "version": "3.7.6"
    },
    "colab": {
      "name": "sleep_staging.ipynb",
      "provenance": [],
      "include_colab_link": true
    }
  },
  "cells": [
    {
      "cell_type": "markdown",
      "metadata": {
        "id": "view-in-github",
        "colab_type": "text"
      },
      "source": [
        "<a href=\"https://colab.research.google.com/github/supertime1/OSA/blob/main/sleep_staging.ipynb\" target=\"_parent\"><img src=\"https://colab.research.google.com/assets/colab-badge.svg\" alt=\"Open In Colab\"/></a>"
      ]
    },
    {
      "cell_type": "code",
      "metadata": {
        "id": "MF9Qp1QZL7co"
      },
      "source": [
        "import os\n",
        "import mne\n",
        "import matplotlib.pyplot as plt\n",
        "import pandas as pd\n",
        "import numpy as np\n",
        "import glob"
      ],
      "execution_count": null,
      "outputs": []
    },
    {
      "cell_type": "code",
      "metadata": {
        "id": "t83VQU6ML7c1"
      },
      "source": [
        "def data_augmentation(signal, sf, epoch, epoch_duration, overlap=10):\n",
        "    \"\"\"\n",
        "    \n",
        "    \"\"\"\n",
        "    total_seconds = len(signal) // sf\n",
        "    \n",
        "    \n",
        "    "
      ],
      "execution_count": null,
      "outputs": []
    },
    {
      "cell_type": "code",
      "metadata": {
        "id": "VI6ZHOcPL7c2"
      },
      "source": [
        "def load_data(file_path, sf=128, epoch_duration=30):\n",
        "\n",
        "    ecg_samples = []\n",
        "    ecg_labels = []\n",
        "    total_epoches = 0\n",
        "    \n",
        "    for signal_file in glob.glob(file_path + '*[0-9].edf'):\n",
        "        \n",
        "        ecg_epoches = []\n",
        "        \n",
        "        data = mne.io.read_raw_edf(signal_file)\n",
        "        ecg_ch = [i for i, v in enumerate(data.info.ch_names) if v == 'ECG']\n",
        "        ecg_signal = data.get_data()[ecg_ch[0]]\n",
        "        \n",
        "        num_of_sample_per_epoch = sf * epoch_duration\n",
        "        num_of_epoches = len(ecg_signal) // (num_of_sample_per_epoch)\n",
        "        total_epoches += num_of_epoches\n",
        "        \n",
        "        print(f'{signal_file[-12:]} has {num_of_epoches} epoches')\n",
        "\n",
        "        for i in range(num_of_epoches):\n",
        "            ecg_epoch = ecg_signal[i*num_of_sample_per_epoch : (i+1)*num_of_sample_per_epoch]\n",
        "            ecg_epoches.append(ecg_epoch)\n",
        "        ecg_samples.append(ecg_epoches)\n",
        "    \n",
        "    for label_file in glob.glob(file_path + '*stage.txt'):\n",
        "        print(f'reading {label_file}')\n",
        "        ecg_labels.append(np.loadtxt(label_file))\n",
        "        \n",
        "    assert len(ecg_samples) == len(ecg_labels)\n",
        "    \n",
        "    for i in range(len(ecg_samples)):\n",
        "        assert len(ecg_samples[i]) == len(ecg_labels[i])\n",
        "    \n",
        "    \n",
        "    return ecg_samples, ecg_labels, total_epoches"
      ],
      "execution_count": null,
      "outputs": []
    },
    {
      "cell_type": "code",
      "metadata": {
        "colab": {
          "base_uri": "https://localhost:8080/",
          "height": 1000
        },
        "id": "OWyL2AotL7c3",
        "outputId": "bd558d64-539c-4a8d-8791-8266cf31348f"
      },
      "source": [
        "fp = \"C:/Users/57lzhang.US04WW4008/Downloads/ucd/files/\"\n",
        "ecg_samples, ecg_labels, total_epoches = load_data(fp, 128, 30)"
      ],
      "execution_count": null,
      "outputs": [
        {
          "output_type": "stream",
          "text": [
            "Extracting EDF parameters from C:\\Users\\57lzhang.US04WW4008\\Downloads\\ucd\\files\\ucddb005.edf...\n",
            "EDF file detected\n",
            "Setting channel info structure...\n",
            "Creating raw.info structure...\n",
            "ucddb005.edf has 826 epoches\n",
            "Extracting EDF parameters from C:\\Users\\57lzhang.US04WW4008\\Downloads\\ucd\\files\\ucddb007.edf...\n",
            "EDF file detected\n",
            "Setting channel info structure...\n",
            "Creating raw.info structure...\n",
            "ucddb007.edf has 813 epoches\n",
            "Extracting EDF parameters from C:\\Users\\57lzhang.US04WW4008\\Downloads\\ucd\\files\\ucddb008.edf...\n",
            "EDF file detected\n",
            "Setting channel info structure...\n",
            "Creating raw.info structure...\n",
            "ucddb008.edf has 768 epoches\n",
            "reading C:/Users/57lzhang.US04WW4008/Downloads/ucd/files\\ucddb002_stage.txt\n",
            "reading C:/Users/57lzhang.US04WW4008/Downloads/ucd/files\\ucddb003_stage.txt\n",
            "reading C:/Users/57lzhang.US04WW4008/Downloads/ucd/files\\ucddb005_stage.txt\n",
            "reading C:/Users/57lzhang.US04WW4008/Downloads/ucd/files\\ucddb006_stage.txt\n",
            "reading C:/Users/57lzhang.US04WW4008/Downloads/ucd/files\\ucddb007_stage.txt\n",
            "reading C:/Users/57lzhang.US04WW4008/Downloads/ucd/files\\ucddb008_stage.txt\n",
            "reading C:/Users/57lzhang.US04WW4008/Downloads/ucd/files\\ucddb009_stage.txt\n",
            "reading C:/Users/57lzhang.US04WW4008/Downloads/ucd/files\\ucddb010_stage.txt\n",
            "reading C:/Users/57lzhang.US04WW4008/Downloads/ucd/files\\ucddb011_stage.txt\n",
            "reading C:/Users/57lzhang.US04WW4008/Downloads/ucd/files\\ucddb012_stage.txt\n",
            "reading C:/Users/57lzhang.US04WW4008/Downloads/ucd/files\\ucddb013_stage.txt\n",
            "reading C:/Users/57lzhang.US04WW4008/Downloads/ucd/files\\ucddb014_stage.txt\n",
            "reading C:/Users/57lzhang.US04WW4008/Downloads/ucd/files\\ucddb015_stage.txt\n",
            "reading C:/Users/57lzhang.US04WW4008/Downloads/ucd/files\\ucddb017_stage.txt\n",
            "reading C:/Users/57lzhang.US04WW4008/Downloads/ucd/files\\ucddb018_stage.txt\n",
            "reading C:/Users/57lzhang.US04WW4008/Downloads/ucd/files\\ucddb019_stage.txt\n",
            "reading C:/Users/57lzhang.US04WW4008/Downloads/ucd/files\\ucddb020_stage.txt\n",
            "reading C:/Users/57lzhang.US04WW4008/Downloads/ucd/files\\ucddb021_stage.txt\n",
            "reading C:/Users/57lzhang.US04WW4008/Downloads/ucd/files\\ucddb022_stage.txt\n",
            "reading C:/Users/57lzhang.US04WW4008/Downloads/ucd/files\\ucddb023_stage.txt\n",
            "reading C:/Users/57lzhang.US04WW4008/Downloads/ucd/files\\ucddb024_stage.txt\n",
            "reading C:/Users/57lzhang.US04WW4008/Downloads/ucd/files\\ucddb025_stage.txt\n",
            "reading C:/Users/57lzhang.US04WW4008/Downloads/ucd/files\\ucddb026_stage.txt\n",
            "reading C:/Users/57lzhang.US04WW4008/Downloads/ucd/files\\ucddb027_stage.txt\n",
            "reading C:/Users/57lzhang.US04WW4008/Downloads/ucd/files\\ucddb028_stage.txt\n"
          ],
          "name": "stdout"
        },
        {
          "output_type": "error",
          "ename": "AssertionError",
          "evalue": "ignored",
          "traceback": [
            "\u001b[1;31m---------------------------------------------------------------------------\u001b[0m",
            "\u001b[1;31mAssertionError\u001b[0m                            Traceback (most recent call last)",
            "\u001b[1;32m<ipython-input-7-dde10521cd16>\u001b[0m in \u001b[0;36m<module>\u001b[1;34m\u001b[0m\n\u001b[0;32m      1\u001b[0m \u001b[0mfp\u001b[0m \u001b[1;33m=\u001b[0m \u001b[1;34m\"C:/Users/57lzhang.US04WW4008/Downloads/ucd/files/\"\u001b[0m\u001b[1;33m\u001b[0m\u001b[1;33m\u001b[0m\u001b[0m\n\u001b[1;32m----> 2\u001b[1;33m \u001b[0mecg_samples\u001b[0m\u001b[1;33m,\u001b[0m \u001b[0mecg_labels\u001b[0m\u001b[1;33m,\u001b[0m \u001b[0mtotal_epoches\u001b[0m \u001b[1;33m=\u001b[0m \u001b[0mload_data\u001b[0m\u001b[1;33m(\u001b[0m\u001b[0mfp\u001b[0m\u001b[1;33m,\u001b[0m \u001b[1;36m128\u001b[0m\u001b[1;33m,\u001b[0m \u001b[1;36m30\u001b[0m\u001b[1;33m)\u001b[0m\u001b[1;33m\u001b[0m\u001b[1;33m\u001b[0m\u001b[0m\n\u001b[0m",
            "\u001b[1;32m<ipython-input-2-e57e300239c2>\u001b[0m in \u001b[0;36mload_data\u001b[1;34m(file_path, sf, epoch_duration)\u001b[0m\n\u001b[0;32m     28\u001b[0m         \u001b[0mecg_labels\u001b[0m\u001b[1;33m.\u001b[0m\u001b[0mappend\u001b[0m\u001b[1;33m(\u001b[0m\u001b[0mnp\u001b[0m\u001b[1;33m.\u001b[0m\u001b[0mloadtxt\u001b[0m\u001b[1;33m(\u001b[0m\u001b[0mlabel_file\u001b[0m\u001b[1;33m)\u001b[0m\u001b[1;33m)\u001b[0m\u001b[1;33m\u001b[0m\u001b[1;33m\u001b[0m\u001b[0m\n\u001b[0;32m     29\u001b[0m \u001b[1;33m\u001b[0m\u001b[0m\n\u001b[1;32m---> 30\u001b[1;33m     \u001b[1;32massert\u001b[0m \u001b[0mlen\u001b[0m\u001b[1;33m(\u001b[0m\u001b[0mecg_samples\u001b[0m\u001b[1;33m)\u001b[0m \u001b[1;33m==\u001b[0m \u001b[0mlen\u001b[0m\u001b[1;33m(\u001b[0m\u001b[0mecg_labels\u001b[0m\u001b[1;33m)\u001b[0m\u001b[1;33m\u001b[0m\u001b[1;33m\u001b[0m\u001b[0m\n\u001b[0m\u001b[0;32m     31\u001b[0m \u001b[1;33m\u001b[0m\u001b[0m\n\u001b[0;32m     32\u001b[0m     \u001b[1;32mfor\u001b[0m \u001b[0mi\u001b[0m \u001b[1;32min\u001b[0m \u001b[0mrange\u001b[0m\u001b[1;33m(\u001b[0m\u001b[0mlen\u001b[0m\u001b[1;33m(\u001b[0m\u001b[0mecg_samples\u001b[0m\u001b[1;33m)\u001b[0m\u001b[1;33m)\u001b[0m\u001b[1;33m:\u001b[0m\u001b[1;33m\u001b[0m\u001b[1;33m\u001b[0m\u001b[0m\n",
            "\u001b[1;31mAssertionError\u001b[0m: "
          ]
        }
      ]
    },
    {
      "cell_type": "code",
      "metadata": {
        "id": "Hse6gjhHL7c5"
      },
      "source": [
        "# split data\n",
        "\n",
        "# split by overall sample \n",
        "def split_data(ecg_samples, ecg_labels, total_epoches, train_ratio, test_ratio):\n",
        "    num_test = int(total_epoches * test_ratio)\n",
        "    num_train = int((total_epoches - num_test) * train_ratio)\n",
        "    num_val = total_epoches - num_test - num_train\n",
        "    \n",
        "    "
      ],
      "execution_count": null,
      "outputs": []
    },
    {
      "cell_type": "code",
      "metadata": {
        "id": "6uMXE-6lL7c6"
      },
      "source": [
        "# split by patient id \r\n",
        "def split_data(ecg_samples, ecg_labels, train_ratio, test_ratio):\r\n",
        "    test_num = int(len(ecg_samples) * test_ratio)\r\n",
        "    train_num = int(len(ecg_samples) - test_num) * train_ratio\r\n",
        "    val_num = len(ecg_samples) - test_num - train_num\r\n",
        "\r\n",
        "    np.random.seed(seed=seed)\r\n",
        "    np.random.shuffle(ecg_samples)\r\n",
        "    train_samples = ecg_samples[:train_num]\r\n",
        "    val_samples = ecg_samples[train_num:train_num+val_num]\r\n",
        "    test_samples = ecg_samples[-test_num:]\r\n",
        "\r\n",
        "    np.random.seed(seed=seed)\r\n",
        "    np.random.shuffle(ecg_labels)\r\n",
        "    train_labels = ecg_labels[:train_num]\r\n",
        "    val_labels = ecg_labels[train_num:train_num+val_num]\r\n",
        "    test_labels = ecg_labels[-test_num:]\r\n",
        "\r\n",
        "    return train_samples, train_labels, val_samples, val_labels, test_samples, test_labels "
      ],
      "execution_count": null,
      "outputs": []
    },
    {
      "cell_type": "code",
      "metadata": {
        "id": "liakZ4jYL7c7"
      },
      "source": [
        "def preprocess_data(num_epoch, ecg_epoches, ecg_labels):\n",
        "    \"\"\"\n",
        "    preprocess data with the matched dimension for training\n",
        "    [num_epoch, 30*sampling_frequency, 1]\n",
        "\n",
        "    params:\n",
        "    epoch - number of epoches for each training sample\n",
        "    sf - sampling frequency of ECG signal\n",
        "    file_path - file path of raw EDF file\n",
        "    \"\"\"\n",
        "    \n",
        "    "
      ],
      "execution_count": null,
      "outputs": []
    },
    {
      "cell_type": "code",
      "metadata": {
        "id": "qlV3ozMOL7c8",
        "outputId": "642c89fa-6c06-404b-d933-da672ea0de5e"
      },
      "source": [
        "info = data.info\n",
        "info.ch_names\n",
        "info"
      ],
      "execution_count": null,
      "outputs": [
        {
          "output_type": "execute_result",
          "data": {
            "text/plain": [
              "<Info | 7 non-empty values\n",
              " bads: []\n",
              " ch_names: Lefteye, RightEye, EMG, C3A2, C4A1, ECG, SpO2, Sound, Flow, Sum, ...\n",
              " chs: 14 EEG\n",
              " custom_ref_applied: False\n",
              " highpass: 0.3 Hz\n",
              " lowpass: 35.0 Hz\n",
              " meas_date: 2003-01-01 23:57:14 UTC\n",
              " nchan: 14\n",
              " projs: []\n",
              " sfreq: 128.0 Hz\n",
              ">"
            ]
          },
          "metadata": {
            "tags": []
          },
          "execution_count": 20
        }
      ]
    },
    {
      "cell_type": "code",
      "metadata": {
        "id": "xqIEZj0zL7c9",
        "outputId": "9417d86d-387d-4001-98c8-5cf737804547"
      },
      "source": [
        "[i for i, v in enumerate(info.ch_names) if v == 'ECG']"
      ],
      "execution_count": null,
      "outputs": [
        {
          "output_type": "execute_result",
          "data": {
            "text/plain": [
              "[5]"
            ]
          },
          "metadata": {
            "tags": []
          },
          "execution_count": 31
        }
      ]
    },
    {
      "cell_type": "code",
      "metadata": {
        "id": "TV_aywKQL7c9",
        "outputId": "fa0eb79e-2fbb-436a-ee6e-88b2a59a4fa8"
      },
      "source": [
        "type(info.ch_names)"
      ],
      "execution_count": null,
      "outputs": [
        {
          "output_type": "execute_result",
          "data": {
            "text/plain": [
              "list"
            ]
          },
          "metadata": {
            "tags": []
          },
          "execution_count": 29
        }
      ]
    },
    {
      "cell_type": "code",
      "metadata": {
        "id": "M7aNAOBmL7c-",
        "outputId": "a2b0e15e-d5ee-4111-c52e-d2fcafa8d3a2"
      },
      "source": [
        "ecg = raw_data[5]\n",
        "print(len(ecg)/128/30)\n",
        "plt.plot(ecg[:1000])"
      ],
      "execution_count": null,
      "outputs": [
        {
          "output_type": "stream",
          "text": [
            "808.9\n"
          ],
          "name": "stdout"
        },
        {
          "output_type": "execute_result",
          "data": {
            "text/plain": [
              "[<matplotlib.lines.Line2D at 0x7fd91e644150>]"
            ]
          },
          "metadata": {
            "tags": []
          },
          "execution_count": 32
        },
        {
          "output_type": "display_data",
          "data": {
            "image/png": "[encoded data removed]",
            "text/plain": [
              "<Figure size 432x288 with 1 Axes>"
            ]
          },
          "metadata": {
            "tags": [],
            "needs_background": "light"
          }
        }
      ]
    },
    {
      "cell_type": "code",
      "metadata": {
        "id": "6DC6ur7zL7c_",
        "outputId": "b9f103ff-20d8-4f57-f130-c2393007cb79"
      },
      "source": [
        "ss = np.loadtxt('/Users/luffygaga/Downloads/files/ucddb006_stage.txt')\n",
        "len(ss)"
      ],
      "execution_count": null,
      "outputs": [
        {
          "output_type": "execute_result",
          "data": {
            "text/plain": [
              "808"
            ]
          },
          "metadata": {
            "tags": []
          },
          "execution_count": 23
        }
      ]
    },
    {
      "cell_type": "code",
      "metadata": {
        "id": "0O5uIzUoL7c_"
      },
      "source": [
        "lst = []\n",
        "lst.append(ss)"
      ],
      "execution_count": null,
      "outputs": []
    },
    {
      "cell_type": "code",
      "metadata": {
        "id": "n1FfxIdJL7c_"
      },
      "source": [
        "lst.append([2])"
      ],
      "execution_count": null,
      "outputs": []
    },
    {
      "cell_type": "code",
      "metadata": {
        "id": "Eb03q_b0L7dA"
      },
      "source": [
        ""
      ],
      "execution_count": null,
      "outputs": []
    }
  ]
}