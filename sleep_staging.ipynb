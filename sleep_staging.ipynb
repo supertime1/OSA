{
  "nbformat": 4,
  "nbformat_minor": 0,
  "metadata": {
    "kernelspec": {
      "display_name": "Python 3",
      "language": "python",
      "name": "python3"
    },
    "language_info": {
      "codemirror_mode": {
        "name": "ipython",
        "version": 3
      },
      "file_extension": ".py",
      "mimetype": "text/x-python",
      "name": "python",
      "nbconvert_exporter": "python",
      "pygments_lexer": "ipython3",
      "version": "3.7.6"
    },
    "colab": {
      "name": "sleep_staging.ipynb",
      "provenance": [],
      "collapsed_sections": [
        "uR8fFRT-VRXp"
      ],
      "machine_shape": "hm",
      "include_colab_link": true
    },
    "accelerator": "GPU"
  },
  "cells": [
    {
      "cell_type": "markdown",
      "metadata": {
        "id": "view-in-github",
        "colab_type": "text"
      },
      "source": [
        "<a href=\"https://colab.research.google.com/github/supertime1/OSA/blob/main/sleep_staging.ipynb\" target=\"_parent\"><img src=\"https://colab.research.google.com/assets/colab-badge.svg\" alt=\"Open In Colab\"/></a>"
      ]
    },
    {
      "cell_type": "markdown",
      "metadata": {
        "id": "Qenih5OC1WGZ"
      },
      "source": [
        "#1.Import Dependency"
      ]
    },
    {
      "cell_type": "code",
      "metadata": {
        "colab": {
          "base_uri": "https://localhost:8080/"
        },
        "id": "w6pBcyjuo_S9",
        "outputId": "8caac417-acd4-44e0-ccf5-9d3def3df1af"
      },
      "source": [
        "!pip install mne"
      ],
      "execution_count": 2,
      "outputs": [
        {
          "output_type": "stream",
          "text": [
            "Requirement already satisfied: mne in /usr/local/lib/python3.7/dist-packages (0.22.0)\n",
            "Requirement already satisfied: scipy>=0.17.1 in /usr/local/lib/python3.7/dist-packages (from mne) (1.4.1)\n",
            "Requirement already satisfied: numpy>=1.11.3 in /usr/local/lib/python3.7/dist-packages (from mne) (1.19.5)\n"
          ],
          "name": "stdout"
        }
      ]
    },
    {
      "cell_type": "code",
      "metadata": {
        "id": "MF9Qp1QZL7co"
      },
      "source": [
        "import os\n",
        "import mne\n",
        "import matplotlib.pyplot as plt\n",
        "import pandas as pd\n",
        "import numpy as np\n",
        "import glob\n",
        "import pickle\n",
        "import tensorflow as tf\n",
        "import sklearn\n",
        "from sklearn import metrics\n",
        "import itertools\n",
        "import io\n",
        "import datetime\n",
        "from tensorflow import keras\n",
        "from tensorflow.keras import Model\n",
        "from tensorflow.keras.models import load_model \n",
        "from tensorflow.keras.callbacks import TensorBoard, ModelCheckpoint\n",
        "from tensorflow.keras.layers import Conv1D, BatchNormalization, Input, Add, Activation,\\\n",
        "MaxPooling1D,Dropout,Flatten,TimeDistributed,Bidirectional,Dense,LSTM, ZeroPadding1D, \\\n",
        "AveragePooling1D,GlobalMaxPooling1D, Concatenate, Permute, Dot, Multiply, RepeatVector,\\\n",
        "Lambda, Average, Softmax, Reshape\n",
        "from tensorflow.keras.initializers import glorot_uniform\n",
        "import tensorflow_datasets as tfds\n",
        "\n",
        "# Load the TensorBoard notebook extension\n",
        "%load_ext tensorboard"
      ],
      "execution_count": 3,
      "outputs": []
    },
    {
      "cell_type": "markdown",
      "metadata": {
        "id": "bGh3-bNv4ChP"
      },
      "source": [
        "###TPU"
      ]
    },
    {
      "cell_type": "code",
      "metadata": {
        "id": "FuMfXVe3fac8",
        "colab": {
          "base_uri": "https://localhost:8080/"
        },
        "outputId": "51a49076-37d8-4b8e-a31c-3d50deb51f60"
      },
      "source": [
        "try:\r\n",
        "  tpu = tf.distribute.cluster_resolver.TPUClusterResolver()  # TPU detection\r\n",
        "  print('Running on TPU ', tpu.cluster_spec().as_dict()['worker'])\r\n",
        "except ValueError:\r\n",
        "  raise BaseException('ERROR: Not connected to a TPU runtime; please see the previous cell in this notebook for instructions!')\r\n",
        "\r\n",
        "tf.config.experimental_connect_to_cluster(tpu)\r\n",
        "tf.tpu.experimental.initialize_tpu_system(tpu)\r\n",
        "tpu_strategy = tf.distribute.TPUStrategy(tpu)"
      ],
      "execution_count": 2,
      "outputs": [
        {
          "output_type": "stream",
          "text": [
            "Running on TPU  ['10.78.210.250:8470']\n",
            "INFO:tensorflow:Initializing the TPU system: grpc://10.78.210.250:8470\n"
          ],
          "name": "stdout"
        },
        {
          "output_type": "stream",
          "text": [
            "INFO:tensorflow:Initializing the TPU system: grpc://10.78.210.250:8470\n"
          ],
          "name": "stderr"
        },
        {
          "output_type": "stream",
          "text": [
            "INFO:tensorflow:Clearing out eager caches\n"
          ],
          "name": "stdout"
        },
        {
          "output_type": "stream",
          "text": [
            "INFO:tensorflow:Clearing out eager caches\n"
          ],
          "name": "stderr"
        },
        {
          "output_type": "stream",
          "text": [
            "INFO:tensorflow:Finished initializing TPU system.\n"
          ],
          "name": "stdout"
        },
        {
          "output_type": "stream",
          "text": [
            "INFO:tensorflow:Finished initializing TPU system.\n"
          ],
          "name": "stderr"
        },
        {
          "output_type": "stream",
          "text": [
            "INFO:tensorflow:Found TPU system:\n"
          ],
          "name": "stdout"
        },
        {
          "output_type": "stream",
          "text": [
            "INFO:tensorflow:Found TPU system:\n"
          ],
          "name": "stderr"
        },
        {
          "output_type": "stream",
          "text": [
            "INFO:tensorflow:*** Num TPU Cores: 8\n"
          ],
          "name": "stdout"
        },
        {
          "output_type": "stream",
          "text": [
            "INFO:tensorflow:*** Num TPU Cores: 8\n"
          ],
          "name": "stderr"
        },
        {
          "output_type": "stream",
          "text": [
            "INFO:tensorflow:*** Num TPU Workers: 1\n"
          ],
          "name": "stdout"
        },
        {
          "output_type": "stream",
          "text": [
            "INFO:tensorflow:*** Num TPU Workers: 1\n"
          ],
          "name": "stderr"
        },
        {
          "output_type": "stream",
          "text": [
            "INFO:tensorflow:*** Num TPU Cores Per Worker: 8\n"
          ],
          "name": "stdout"
        },
        {
          "output_type": "stream",
          "text": [
            "INFO:tensorflow:*** Num TPU Cores Per Worker: 8\n"
          ],
          "name": "stderr"
        },
        {
          "output_type": "stream",
          "text": [
            "INFO:tensorflow:*** Available Device: _DeviceAttributes(/job:localhost/replica:0/task:0/device:CPU:0, CPU, 0, 0)\n"
          ],
          "name": "stdout"
        },
        {
          "output_type": "stream",
          "text": [
            "INFO:tensorflow:*** Available Device: _DeviceAttributes(/job:localhost/replica:0/task:0/device:CPU:0, CPU, 0, 0)\n"
          ],
          "name": "stderr"
        },
        {
          "output_type": "stream",
          "text": [
            "INFO:tensorflow:*** Available Device: _DeviceAttributes(/job:worker/replica:0/task:0/device:CPU:0, CPU, 0, 0)\n"
          ],
          "name": "stdout"
        },
        {
          "output_type": "stream",
          "text": [
            "INFO:tensorflow:*** Available Device: _DeviceAttributes(/job:worker/replica:0/task:0/device:CPU:0, CPU, 0, 0)\n"
          ],
          "name": "stderr"
        },
        {
          "output_type": "stream",
          "text": [
            "INFO:tensorflow:*** Available Device: _DeviceAttributes(/job:worker/replica:0/task:0/device:TPU:0, TPU, 0, 0)\n"
          ],
          "name": "stdout"
        },
        {
          "output_type": "stream",
          "text": [
            "INFO:tensorflow:*** Available Device: _DeviceAttributes(/job:worker/replica:0/task:0/device:TPU:0, TPU, 0, 0)\n"
          ],
          "name": "stderr"
        },
        {
          "output_type": "stream",
          "text": [
            "INFO:tensorflow:*** Available Device: _DeviceAttributes(/job:worker/replica:0/task:0/device:TPU:1, TPU, 0, 0)\n"
          ],
          "name": "stdout"
        },
        {
          "output_type": "stream",
          "text": [
            "INFO:tensorflow:*** Available Device: _DeviceAttributes(/job:worker/replica:0/task:0/device:TPU:1, TPU, 0, 0)\n"
          ],
          "name": "stderr"
        },
        {
          "output_type": "stream",
          "text": [
            "INFO:tensorflow:*** Available Device: _DeviceAttributes(/job:worker/replica:0/task:0/device:TPU:2, TPU, 0, 0)\n"
          ],
          "name": "stdout"
        },
        {
          "output_type": "stream",
          "text": [
            "INFO:tensorflow:*** Available Device: _DeviceAttributes(/job:worker/replica:0/task:0/device:TPU:2, TPU, 0, 0)\n"
          ],
          "name": "stderr"
        },
        {
          "output_type": "stream",
          "text": [
            "INFO:tensorflow:*** Available Device: _DeviceAttributes(/job:worker/replica:0/task:0/device:TPU:3, TPU, 0, 0)\n"
          ],
          "name": "stdout"
        },
        {
          "output_type": "stream",
          "text": [
            "INFO:tensorflow:*** Available Device: _DeviceAttributes(/job:worker/replica:0/task:0/device:TPU:3, TPU, 0, 0)\n"
          ],
          "name": "stderr"
        },
        {
          "output_type": "stream",
          "text": [
            "INFO:tensorflow:*** Available Device: _DeviceAttributes(/job:worker/replica:0/task:0/device:TPU:4, TPU, 0, 0)\n"
          ],
          "name": "stdout"
        },
        {
          "output_type": "stream",
          "text": [
            "INFO:tensorflow:*** Available Device: _DeviceAttributes(/job:worker/replica:0/task:0/device:TPU:4, TPU, 0, 0)\n"
          ],
          "name": "stderr"
        },
        {
          "output_type": "stream",
          "text": [
            "INFO:tensorflow:*** Available Device: _DeviceAttributes(/job:worker/replica:0/task:0/device:TPU:5, TPU, 0, 0)\n"
          ],
          "name": "stdout"
        },
        {
          "output_type": "stream",
          "text": [
            "INFO:tensorflow:*** Available Device: _DeviceAttributes(/job:worker/replica:0/task:0/device:TPU:5, TPU, 0, 0)\n"
          ],
          "name": "stderr"
        },
        {
          "output_type": "stream",
          "text": [
            "INFO:tensorflow:*** Available Device: _DeviceAttributes(/job:worker/replica:0/task:0/device:TPU:6, TPU, 0, 0)\n"
          ],
          "name": "stdout"
        },
        {
          "output_type": "stream",
          "text": [
            "INFO:tensorflow:*** Available Device: _DeviceAttributes(/job:worker/replica:0/task:0/device:TPU:6, TPU, 0, 0)\n"
          ],
          "name": "stderr"
        },
        {
          "output_type": "stream",
          "text": [
            "INFO:tensorflow:*** Available Device: _DeviceAttributes(/job:worker/replica:0/task:0/device:TPU:7, TPU, 0, 0)\n"
          ],
          "name": "stdout"
        },
        {
          "output_type": "stream",
          "text": [
            "INFO:tensorflow:*** Available Device: _DeviceAttributes(/job:worker/replica:0/task:0/device:TPU:7, TPU, 0, 0)\n"
          ],
          "name": "stderr"
        },
        {
          "output_type": "stream",
          "text": [
            "INFO:tensorflow:*** Available Device: _DeviceAttributes(/job:worker/replica:0/task:0/device:TPU_SYSTEM:0, TPU_SYSTEM, 0, 0)\n"
          ],
          "name": "stdout"
        },
        {
          "output_type": "stream",
          "text": [
            "INFO:tensorflow:*** Available Device: _DeviceAttributes(/job:worker/replica:0/task:0/device:TPU_SYSTEM:0, TPU_SYSTEM, 0, 0)\n"
          ],
          "name": "stderr"
        },
        {
          "output_type": "stream",
          "text": [
            "INFO:tensorflow:*** Available Device: _DeviceAttributes(/job:worker/replica:0/task:0/device:XLA_CPU:0, XLA_CPU, 0, 0)\n"
          ],
          "name": "stdout"
        },
        {
          "output_type": "stream",
          "text": [
            "INFO:tensorflow:*** Available Device: _DeviceAttributes(/job:worker/replica:0/task:0/device:XLA_CPU:0, XLA_CPU, 0, 0)\n"
          ],
          "name": "stderr"
        }
      ]
    },
    {
      "cell_type": "markdown",
      "metadata": {
        "id": "UObAIRxo4Elr"
      },
      "source": [
        "###GPU"
      ]
    },
    {
      "cell_type": "code",
      "metadata": {
        "colab": {
          "base_uri": "https://localhost:8080/"
        },
        "id": "FN6YFa203lH7",
        "outputId": "dc17f9a3-37fe-4483-f50f-43148539b8a6"
      },
      "source": [
        "mirrored_strategy = tf.distribute.MirroredStrategy()"
      ],
      "execution_count": 4,
      "outputs": [
        {
          "output_type": "stream",
          "text": [
            "INFO:tensorflow:Using MirroredStrategy with devices ('/job:localhost/replica:0/task:0/device:GPU:0',)\n"
          ],
          "name": "stdout"
        }
      ]
    },
    {
      "cell_type": "markdown",
      "metadata": {
        "id": "1Ivd9p141UMC"
      },
      "source": [
        "#2.Process the data"
      ]
    },
    {
      "cell_type": "markdown",
      "metadata": {
        "id": "uR8fFRT-VRXp"
      },
      "source": [
        "##2.1 Local preprocess"
      ]
    },
    {
      "cell_type": "code",
      "metadata": {
        "id": "VI6ZHOcPL7c2"
      },
      "source": [
        "def load_data(file_path, sf=128, epoch_duration=30):\n",
        "\n",
        "    ecg_samples = []\n",
        "    ecg_labels = []\n",
        "    total_epoches = 0\n",
        "    \n",
        "    for signal_file in glob.glob(file_path + '*[0-9].edf'):\n",
        "        \n",
        "        ecg_epoches = []\n",
        "        \n",
        "        data = mne.io.read_raw_edf(signal_file)\n",
        "        ecg_ch = [i for i, v in enumerate(data.info.ch_names) if v == 'ECG']\n",
        "        ecg_signal = data.get_data()[ecg_ch[0]]\n",
        "        \n",
        "        num_of_sample_per_epoch = sf * epoch_duration\n",
        "        num_of_epoches = len(ecg_signal) // (num_of_sample_per_epoch)\n",
        "        total_epoches += num_of_epoches\n",
        "        \n",
        "        print(f'{signal_file[-12:]} has {num_of_epoches} epoches')\n",
        "\n",
        "        for i in range(num_of_epoches):\n",
        "            ecg_epoch = ecg_signal[i*num_of_sample_per_epoch : (i+1)*num_of_sample_per_epoch]\n",
        "            ecg_epoches.append(ecg_epoch)\n",
        "        ecg_samples.append(ecg_epoches)\n",
        "    \n",
        "    for label_file in glob.glob(file_path + '*stage.txt'):\n",
        "        print(f'reading {label_file}')\n",
        "        ecg_labels.append(np.loadtxt(label_file))\n",
        "        \n",
        "    assert len(ecg_samples) == len(ecg_labels)\n",
        "\n",
        "    for i in range(len(ecg_samples)):\n",
        "        new_length = len(ecg_labels[i])\n",
        "        ecg_samples[i] = ecg_samples[i][:new_length]\n",
        "    \n",
        "    return ecg_samples, ecg_labels, total_epoches\n",
        "\n",
        "fp = \"C:/Users/57lzhang.US04WW4008/Downloads/ucd/files/\"\n",
        "ecg_samples, ecg_labels, total_epoches = load_data(fp, 128, 30)"
      ],
      "execution_count": null,
      "outputs": []
    },
    {
      "cell_type": "code",
      "metadata": {
        "id": "tcCZ0XlUPpOQ"
      },
      "source": [
        "with open(\"C:/Users/57lzhang.US04WW4008/Downloads/ucd/files/processed_data/ecg_samples.pkl\", \"wb\") as fp:\r\n",
        "    pickle.dump(ecg_samples, fp)\r\n",
        "\r\n",
        "with open(\"C:/Users/57lzhang.US04WW4008/Downloads/ucd/files/processed_data/ecg_labels.pkl\", \"wb\") as fp:\r\n",
        "    pickle.dump(ecg_labels, fp)"
      ],
      "execution_count": null,
      "outputs": []
    },
    {
      "cell_type": "markdown",
      "metadata": {
        "id": "gyIcQ2ThVVj5"
      },
      "source": [
        "##2.2 Load data from Cloud"
      ]
    },
    {
      "cell_type": "code",
      "metadata": {
        "colab": {
          "base_uri": "https://localhost:8080/"
        },
        "id": "rScUZtnMVaAj",
        "outputId": "4b73427a-2c15-4663-8e95-ae26a6a03741"
      },
      "source": [
        "from google.colab import drive\r\n",
        "drive.mount('/content/drive')\r\n",
        "\r\n",
        "file_path = '/content/drive/MyDrive/osa/ecg_samples.pkl'\r\n",
        "\r\n",
        "with open('/content/drive/MyDrive/osa/ecg_samples.pkl', \"rb\") as fp:\r\n",
        "    ecg_samples = pickle.load(fp)\r\n",
        "\r\n",
        "with open('/content/drive/MyDrive/osa/ecg_labels.pkl', \"rb\") as fp:\r\n",
        "    ecg_labels = pickle.load(fp)\r\n",
        "\r\n",
        "# sanity check if imported samples and labels matches\r\n",
        "def helper(samples, labels):\r\n",
        "    for i in range(len(samples)):\r\n",
        "        assert len(samples[i]) == len(labels[i])\r\n",
        "    print('Each sample matches its coresponding label \\n')\r\n",
        "\r\n",
        "helper(ecg_samples, ecg_labels)"
      ],
      "execution_count": 5,
      "outputs": [
        {
          "output_type": "stream",
          "text": [
            "Drive already mounted at /content/drive; to attempt to forcibly remount, call drive.mount(\"/content/drive\", force_remount=True).\n",
            "Each sample matches its coresponding label\n"
          ],
          "name": "stdout"
        }
      ]
    },
    {
      "cell_type": "code",
      "metadata": {
        "id": "6uMXE-6lL7c6",
        "colab": {
          "base_uri": "https://localhost:8080/"
        },
        "outputId": "f214599c-562c-419c-b36a-019e044351a5"
      },
      "source": [
        "# split by patient id \r\n",
        "def split_data(ecg_samples, ecg_labels, train_ratio, test_ratio):\r\n",
        "    test_num = round(len(ecg_samples) * test_ratio)\r\n",
        "    train_num = round((len(ecg_samples) - test_num) * train_ratio)\r\n",
        "    val_num = len(ecg_samples) - test_num - train_num\r\n",
        "\r\n",
        "    np.random.seed(seed=7)\r\n",
        "    np.random.shuffle(ecg_samples)\r\n",
        "    train_samples = ecg_samples[:train_num]\r\n",
        "    val_samples = ecg_samples[train_num:train_num+val_num]\r\n",
        "    test_samples = ecg_samples[-test_num:]\r\n",
        "\r\n",
        "    np.random.seed(seed=7)\r\n",
        "    np.random.shuffle(ecg_labels)\r\n",
        "    train_labels = ecg_labels[:train_num]\r\n",
        "    val_labels = ecg_labels[train_num:train_num+val_num]\r\n",
        "    test_labels = ecg_labels[-test_num:]\r\n",
        "\r\n",
        "    print(f'There are {len(train_samples)} subjects in training dataset')\r\n",
        "    helper(train_samples, train_labels)\r\n",
        "    print(f'There are {len(val_samples)} subjects in validation dataset')\r\n",
        "    helper(val_samples, val_labels)\r\n",
        "    print(f'There are {len(test_samples)} subjects in testing dataset')\r\n",
        "    helper(test_samples, test_labels)\r\n",
        "\r\n",
        "    return train_samples, train_labels, val_samples, val_labels, test_samples, test_labels \r\n",
        "\r\n",
        "train_samples, train_labels, val_samples, val_labels, test_samples, test_labels = split_data(ecg_samples, ecg_labels, 0.8, 0.12)"
      ],
      "execution_count": 9,
      "outputs": [
        {
          "output_type": "stream",
          "text": [
            "There are 18 subjects in training dataset\n",
            "Each sample matches its coresponding label\n",
            "There are 4 subjects in validation dataset\n",
            "Each sample matches its coresponding label\n",
            "There are 3 subjects in testing dataset\n",
            "Each sample matches its coresponding label\n"
          ],
          "name": "stdout"
        }
      ]
    },
    {
      "cell_type": "code",
      "metadata": {
        "id": "liakZ4jYL7c7"
      },
      "source": [
        "def preprocess_data(num_epoch, epoch_duration, sf, ecg_samples, ecg_labels, oversample=True):\n",
        "    \"\"\"\n",
        "    preprocess data with the matched dimension for training\n",
        "    [num_epoch, 30*sampling_frequency, 1]\n",
        "\n",
        "    params:\n",
        "    epoch - number of epoches for each training sample\n",
        "    sf - sampling frequency of ECG signal\n",
        "    file_path - file path of raw EDF file\n",
        "    \"\"\"\n",
        "    model_signal_input = []\n",
        "    model_label_input = []\n",
        "\n",
        "    num_of_sample_per_epoch = sf * epoch_duration\n",
        "\n",
        "    for i in range(len(ecg_samples)):\n",
        "        ecg_samples[i] = sklearn.preprocessing.minmax_scale(ecg_samples[i])\n",
        "        if oversample:\n",
        "            overlap = int(0.9 * num_epoch)\n",
        "            for j in range(len(ecg_samples[i])):\n",
        "                signal_segment = np.asarray(ecg_samples[i][j*(num_epoch - overlap): j*(num_epoch - overlap) + num_epoch])\n",
        "                if len(signal_segment) == num_epoch:\n",
        "                    new_signal_seg = np.reshape(signal_segment, (num_epoch, num_of_sample_per_epoch, 1))\n",
        "                    model_signal_input.append(new_signal_seg)\n",
        "                \n",
        "                # apply to labels as well\n",
        "                label_segment = np.asarray(ecg_labels[i][j*(num_epoch - overlap): j*(num_epoch - overlap) + num_epoch])\n",
        "                if len(label_segment) == num_epoch:\n",
        "                    model_label_input.append(label_segment)\n",
        "        \n",
        "        else:\n",
        "            for j in range(len(ecg_samples[i])):\n",
        "                signal_segment = np.asarray(ecg_samples[i][j*num_epoch: (j+1)*num_epoch]) \n",
        "                if len(signal_segment) == num_epoch:\n",
        "                    new_signal_seg = np.reshape(signal_segment, (num_epoch, num_of_sample_per_epoch, 1))\n",
        "                    model_signal_input.append(new_signal_seg)\n",
        "\n",
        "                # apply to labels as well\n",
        "                label_segment = np.asarray(ecg_labels[i][j*num_epoch: (j+1)*num_epoch])\n",
        "                if len(label_segment) == num_epoch:\n",
        "                    model_label_input.append(label_segment)\n",
        "        \n",
        "    print(f'shape of processed signal data: {np.asarray(model_signal_input).shape}')\n",
        "    print(f'shape of processed label data: {np.asarray(model_label_input).shape}')\n",
        "\n",
        "    return np.asarray(model_signal_input), np.asarray(model_label_input)\n",
        "\n",
        "train_signal_input, train_label_input = preprocess_data(50, 30, 128, train_samples, train_labels, oversample=True)\n",
        "val_signal_input, val_label_input = preprocess_data(50, 30, 128, val_samples, val_labels, oversample=True)\n",
        "test_signal_input, test_label_input = preprocess_data(50, 30, 128, test_samples, test_labels, oversample=False)"
      ],
      "execution_count": 10,
      "outputs": []
    },
    {
      "cell_type": "code",
      "metadata": {
        "colab": {
          "base_uri": "https://localhost:8080/",
          "height": 1000
        },
        "id": "o362XJUmsMHa",
        "outputId": "160bc0a9-1537-495a-93a0-5af953e9cdee"
      },
      "source": [
        "def show_label(label_input):\r\n",
        "    print(f'There are {len(label_input[label_input == 0])} wake labels')\r\n",
        "    print(f'There are {len(label_input[label_input == 1])} REM labels')\r\n",
        "    print(f'There are {len(label_input[label_input == 2])} Stage_1 labels')\r\n",
        "    print(f'There are {len(label_input[label_input == 3])} Stage_2 labels')\r\n",
        "    print(f'There are {len(label_input[label_input == 4])} Stage_3 labels')\r\n",
        "    print(f'There are {len(label_input[label_input == 5])} Stage_4 labels')\r\n",
        "    print(f'There are {len(label_input[label_input == 6])} Artifact labels')\r\n",
        "    print(f'There are {len(label_input[label_input == 7])} Indeterminate labels')\r\n",
        "    print(f'There are {len(label_input[label_input == 8])} Unknown labels \\n')\r\n",
        "\r\n",
        "\r\n",
        "    unique_label = np.unique(label_input, return_counts=True)\r\n",
        "    y_value = np.zeros(9)\r\n",
        "    for i in range(len(unique_label[0])):\r\n",
        "        y_value[int(unique_label[0][i])] = unique_label[1][i]\r\n",
        "    plt.bar(np.arange(9), y_value)\r\n",
        "    plt.xlabel('Labels')\r\n",
        "    plt.show()\r\n",
        "\r\n",
        "show_label(train_label_input)\r\n",
        "show_label(val_label_input)\r\n",
        "show_label(test_label_input)"
      ],
      "execution_count": 51,
      "outputs": [
        {
          "output_type": "stream",
          "text": [
            "There are 29888 wake labels\n",
            "There are 19881 REM labels\n",
            "There are 24445 Stage_1 labels\n",
            "There are 47425 Stage_2 labels\n",
            "There are 5014 Stage_3 labels\n",
            "There are 14563 Stage_4 labels\n",
            "There are 0 Artifact labels\n",
            "There are 0 Indeterminate labels\n",
            "There are 134 Unknown labels \n",
            "\n"
          ],
          "name": "stdout"
        },
        {
          "output_type": "display_data",
          "data": {
            "image/png": "[encoded data removed]",
            "text/plain": [
              "<Figure size 432x288 with 1 Axes>"
            ]
          },
          "metadata": {
            "tags": [],
            "needs_background": "light"
          }
        },
        {
          "output_type": "stream",
          "text": [
            "There are 6009 wake labels\n",
            "There are 4946 REM labels\n",
            "There are 4169 Stage_1 labels\n",
            "There are 10846 Stage_2 labels\n",
            "There are 1150 Stage_3 labels\n",
            "There are 4030 Stage_4 labels\n",
            "There are 0 Artifact labels\n",
            "There are 0 Indeterminate labels\n",
            "There are 0 Unknown labels \n",
            "\n"
          ],
          "name": "stdout"
        },
        {
          "output_type": "display_data",
          "data": {
            "image/png": "[encoded data removed]",
            "text/plain": [
              "<Figure size 432x288 with 1 Axes>"
            ]
          },
          "metadata": {
            "tags": [],
            "needs_background": "light"
          }
        },
        {
          "output_type": "stream",
          "text": [
            "There are 357 wake labels\n",
            "There are 439 REM labels\n",
            "There are 410 Stage_1 labels\n",
            "There are 1020 Stage_2 labels\n",
            "There are 48 Stage_3 labels\n",
            "There are 126 Stage_4 labels\n",
            "There are 0 Artifact labels\n",
            "There are 0 Indeterminate labels\n",
            "There are 0 Unknown labels \n",
            "\n"
          ],
          "name": "stdout"
        },
        {
          "output_type": "display_data",
          "data": {
            "image/png": "[encoded data removed]",
            "text/plain": [
              "<Figure size 432x288 with 1 Axes>"
            ]
          },
          "metadata": {
            "tags": [],
            "needs_background": "light"
          }
        }
      ]
    },
    {
      "cell_type": "code",
      "metadata": {
        "id": "GBhTjlajO0JY"
      },
      "source": [
        "def join_labels(label_input):\r\n",
        "    for i in range(len(label_input)):\r\n",
        "        label_input[label_input > 1] = 2\r\n",
        "    print(f'There are {len(label_input[label_input == 0])} wake labels')\r\n",
        "    print(f'There are {len(label_input[label_input == 1])} REM labels')\r\n",
        "    print(f'There are {len(label_input[label_input == 2])} NREM labels \\n')\r\n",
        "    return label_input\r\n",
        "\r\n",
        "train_label_input_join = join_labels(train_label_input)\r\n",
        "val_label_input_join = join_labels(val_label_input)\r\n",
        "test_label_input_join = join_labels(test_label_input)"
      ],
      "execution_count": 10,
      "outputs": []
    },
    {
      "cell_type": "code",
      "metadata": {
        "id": "5XeavEnYttea"
      },
      "source": [
        "def oversample_label(signal_input, label_input_join):\r\n",
        "    os_signal_input = []\r\n",
        "    os_label_input_join = []\r\n",
        "    \r\n",
        "    for i in range(len(label_input_join)):\r\n",
        "        if len(label_input_join[i][label_input_join[i] == 1]) > 20:\r\n",
        "            for _ in range(4):\r\n",
        "                os_signal_input.append(signal_input[i])\r\n",
        "                os_label_input_join.append(label_input_join[i])\r\n",
        "        \r\n",
        "        os_signal_input.append(signal_input[i])\r\n",
        "        os_label_input_join.append(label_input_join[i])\r\n",
        "\r\n",
        "    os_signal = np.asarray(os_signal_input)\r\n",
        "    os_label = np.asarray(os_label_input_join)\r\n",
        "\r\n",
        "    print(f'There are {len(os_label[os_label == 0])} wake labels')\r\n",
        "    print(f'There are {len(os_label[os_label == 1])} REM labels')\r\n",
        "    print(f'There are {len(os_label[os_label == 2])} NREM labels \\n')\r\n",
        "    print(f'shape of input signal {os_signal.shape}')\r\n",
        "    print(f'shape of input label {os_label.shape} \\n')\r\n",
        "\r\n",
        "    return os_signal, os_label\r\n",
        "\r\n",
        "os_train_signal, os_train_label = oversample_label(train_signal_input, train_label_input_join)\r\n",
        "os_val_signal, os_val_label = oversample_label(val_signal_input, val_label_input_join)"
      ],
      "execution_count": 12,
      "outputs": []
    },
    {
      "cell_type": "markdown",
      "metadata": {
        "id": "ZcFDcYX61O72"
      },
      "source": [
        "#3.Model"
      ]
    },
    {
      "cell_type": "markdown",
      "metadata": {
        "id": "m4t-6PrNT1I5"
      },
      "source": [
        "##3.2 Model"
      ]
    },
    {
      "cell_type": "markdown",
      "metadata": {
        "id": "MxDhnq-R2AOW"
      },
      "source": [
        "###3.2.1 CNN+LSTM"
      ]
    },
    {
      "cell_type": "code",
      "metadata": {
        "id": "ipW3enoc04qm"
      },
      "source": [
        "batch_size = 64\n",
        "\n",
        "train_dataset = tf.data.Dataset.from_tensor_slices((os_train_signal, os_train_label))\n",
        "val_dataset = tf.data.Dataset.from_tensor_slices((val_signal_input, val_label_input_join))\n",
        "\n",
        "train_dataset = train_dataset.cache()\n",
        "train_dataset = train_dataset.shuffle(1024).repeat().batch(batch_size, drop_remainder=True)\n",
        "train_dataset = train_dataset.prefetch(buffer_size=tf.data.experimental.AUTOTUNE)\n",
        "val_dataset = val_dataset.repeat().batch(batch_size, drop_remainder=True)"
      ],
      "execution_count": 14,
      "outputs": []
    },
    {
      "cell_type": "code",
      "metadata": {
        "id": "ltJxzYIr3i3v"
      },
      "source": [
        "def cnn_1d(input_shape=None, dropout=0.2):\r\n",
        "    \r\n",
        "    x_input = Input(shape=input_shape)\r\n",
        "    x = Conv1D(64, 21, strides=5, activation='relu')(x_input)\r\n",
        "    x = BatchNormalization()(x)\r\n",
        "    x = MaxPooling1D(pool_size=2, strides=2)(x)\r\n",
        "    x = Dropout(dropout)(x)\r\n",
        "    # 2nd Conv1D\r\n",
        "    x = Conv1D(128, 5, strides=1, activation='relu')(x)\r\n",
        "    x = BatchNormalization()(x)\r\n",
        "    x = MaxPooling1D(pool_size=2, strides=2)(x)\r\n",
        "    x = Dropout(dropout)(x)\r\n",
        "    # 3rd Conv1D\r\n",
        "    x = Conv1D(256, 5, strides=1, activation='relu')(x)\r\n",
        "    x = BatchNormalization()(x)\r\n",
        "    x = MaxPooling1D(pool_size=2, strides=2)(x)\r\n",
        "    x = Dropout(dropout)(x)\r\n",
        "    # 4th Conv1D\r\n",
        "    x = Conv1D(512, 5, strides=1, activation='relu')(x)\r\n",
        "    x = BatchNormalization()(x)\r\n",
        "    x = MaxPooling1D(pool_size=2, strides=2)(x)\r\n",
        "    x = Dropout(dropout)(x)\r\n",
        "    # 5th Conv1D\r\n",
        "    x = Conv1D(256, 5, strides=1, activation='relu')(x)\r\n",
        "    x = BatchNormalization()(x)\r\n",
        "\r\n",
        "    # Full connection layer\r\n",
        "    out = Flatten()(x)\r\n",
        "\r\n",
        "    model = Model(x_input, out, name='cnn_1d_layer')\r\n",
        "\r\n",
        "    return model"
      ],
      "execution_count": 15,
      "outputs": []
    },
    {
      "cell_type": "code",
      "metadata": {
        "colab": {
          "base_uri": "https://localhost:8080/"
        },
        "id": "0qU6oB2U5Nvw",
        "outputId": "b3a7f9d7-799e-41be-f70c-1f62effabb46"
      },
      "source": [
        "def cnn_lstm(input_shape=(50,3840,1), classes=3):\r\n",
        "    cnn = cnn_1d((3840,1))\r\n",
        "    x_input = Input(shape=input_shape)\r\n",
        "    x = TimeDistributed(cnn)(x_input)\r\n",
        "    x = Bidirectional(LSTM(64, return_sequences=True))(x)\r\n",
        "    x = Bidirectional(LSTM(32, return_sequences=True))(x)\r\n",
        "    out = TimeDistributed(Dense(classes))(x)\r\n",
        "    model = Model(x_input, out, name='cnn_lstm')\r\n",
        "\r\n",
        "    return model\r\n",
        "\r\n",
        "model = cnn_lstm(input_shape=(50,3840,1), classes=3)\r\n",
        "model.summary()"
      ],
      "execution_count": 16,
      "outputs": [
        {
          "output_type": "stream",
          "text": [
            "Model: \"cnn_lstm\"\n",
            "_________________________________________________________________\n",
            "Layer (type)                 Output Shape              Param #   \n",
            "=================================================================\n",
            "input_2 (InputLayer)         [(None, 50, 3840, 1)]     0         \n",
            "_________________________________________________________________\n",
            "time_distributed (TimeDistri (None, 50, 10240)         1522944   \n",
            "_________________________________________________________________\n",
            "bidirectional (Bidirectional (None, 50, 128)           5276160   \n",
            "_________________________________________________________________\n",
            "bidirectional_1 (Bidirection (None, 50, 64)            41216     \n",
            "_________________________________________________________________\n",
            "time_distributed_1 (TimeDist (None, 50, 3)             195       \n",
            "=================================================================\n",
            "Total params: 6,840,515\n",
            "Trainable params: 6,838,083\n",
            "Non-trainable params: 2,432\n",
            "_________________________________________________________________\n"
          ],
          "name": "stdout"
        }
      ]
    },
    {
      "cell_type": "markdown",
      "metadata": {
        "id": "WHvDHOP02EkZ"
      },
      "source": [
        "###3.2.2 Attention"
      ]
    },
    {
      "cell_type": "code",
      "metadata": {
        "id": "mmQ0QUIsVGF1"
      },
      "source": [
        "n_a = 32 #Number of pre-LSTM states\n",
        "n_s = 64 #Number of post-LSTM states\n",
        "Tx = 50\n",
        "Ty = 50\n",
        "t_s0 = np.zeros((len(os_train_signal), n_s))\n",
        "t_c0 = np.zeros((len(os_train_signal), n_s))\n",
        "v_s0 = np.zeros((len(os_val_signal), n_s))\n",
        "v_c0 = np.zeros((len(os_val_signal), n_s))"
      ],
      "execution_count": 14,
      "outputs": []
    },
    {
      "cell_type": "code",
      "metadata": {
        "id": "3kjXiACEkGoY"
      },
      "source": [
        "repeator = RepeatVector(Tx) \r\n",
        "concatenator = Concatenate(axis=-1) \r\n",
        "densor1 = Dense(10, activation = \"tanh\") \r\n",
        "densor2 = Dense(1, activation = \"relu\")\r\n",
        "activator = Softmax(axis=1, name='attention_weights') \r\n",
        "dotor = Dot(axes = 1) \r\n",
        "post_activation_LSTM_cell = LSTM(n_s, return_state = True)\r\n",
        "output_layer = Dense(3)"
      ],
      "execution_count": 15,
      "outputs": []
    },
    {
      "cell_type": "code",
      "metadata": {
        "id": "D9zWqn4J7IkH"
      },
      "source": [
        "def cnn_1d(input_shape=None, dropout=0.2):\r\n",
        "    \r\n",
        "    x_input = Input(shape=input_shape)\r\n",
        "    x = Conv1D(64, 21, strides=5, activation='relu')(x_input)\r\n",
        "    x = BatchNormalization()(x)\r\n",
        "    x = MaxPooling1D(pool_size=2, strides=2)(x)\r\n",
        "    x = Dropout(dropout)(x)\r\n",
        "    # 2nd Conv1D\r\n",
        "    x = Conv1D(128, 5, strides=1, activation='relu')(x)\r\n",
        "    x = BatchNormalization()(x)\r\n",
        "    x = MaxPooling1D(pool_size=2, strides=2)(x)\r\n",
        "    x = Dropout(dropout)(x)\r\n",
        "    # 3rd Conv1D\r\n",
        "    x = Conv1D(256, 5, strides=1, activation='relu')(x)\r\n",
        "    x = BatchNormalization()(x)\r\n",
        "    x = MaxPooling1D(pool_size=2, strides=2)(x)\r\n",
        "    x = Dropout(dropout)(x)\r\n",
        "    # 4th Conv1D\r\n",
        "    x = Conv1D(512, 5, strides=1, activation='relu')(x)\r\n",
        "    x = BatchNormalization()(x)\r\n",
        "    x = MaxPooling1D(pool_size=2, strides=2)(x)\r\n",
        "    x = Dropout(dropout)(x)\r\n",
        "    # 5th Conv1D\r\n",
        "    x = Conv1D(256, 5, strides=1, activation='relu')(x)\r\n",
        "    x = BatchNormalization()(x)\r\n",
        "\r\n",
        "    # Full connection layer\r\n",
        "    out = Flatten()(x)\r\n",
        "\r\n",
        "    model = Model(x_input, out, name='cnn_1d_layer')\r\n",
        "\r\n",
        "    return model"
      ],
      "execution_count": 16,
      "outputs": []
    },
    {
      "cell_type": "code",
      "metadata": {
        "id": "4dPPH0IXkUG4"
      },
      "source": [
        "def one_step_attention(a, s_prev):\r\n",
        "    \"\"\"\r\n",
        "    Performs one step of attention: Outputs a context vector computed as a dot product of the attention weights\r\n",
        "    \"alphas\" and the hidden states \"a\" of the Bi-LSTM.\r\n",
        "    \r\n",
        "    Arguments:\r\n",
        "    a -- hidden state output of the Bi-LSTM, numpy-array of shape (m, Tx, 2*n_a)\r\n",
        "    s_prev -- previous hidden state of the (post-attention) LSTM, numpy-array of shape (m, n_s)\r\n",
        "    \r\n",
        "    Returns:\r\n",
        "    context -- context vector, input of the next (post-attetion) LSTM cell\r\n",
        "    \"\"\"\r\n",
        "    \r\n",
        "    s_prev = repeator(s_prev)\r\n",
        "    concat = concatenator([a,s_prev])\r\n",
        "    e = densor1(concat)\r\n",
        "    energies = densor2(e)\r\n",
        "    alphas = activator(energies)\r\n",
        "    context = dotor([alphas,a])\r\n",
        "    return context"
      ],
      "execution_count": 17,
      "outputs": []
    },
    {
      "cell_type": "code",
      "metadata": {
        "id": "lesW9zTykY5y"
      },
      "source": [
        "def cnn_attention(Tx, Ty, n_a, n_s, input_image_size, classes):\r\n",
        "    \"\"\"\r\n",
        "    Arguments:\r\n",
        "    Tx -- length of the input sequence\r\n",
        "    Ty -- length of the output sequence\r\n",
        "    n_a -- hidden state size of the Bi-LSTM\r\n",
        "    n_s -- hidden state size of the post-attention LSTM\r\n",
        "    input_image_size -- size of the 30s ECG samples\r\n",
        "    classes -- number of classes\r\n",
        "\r\n",
        "    Returns:\r\n",
        "    model -- Keras model instance\r\n",
        "    \"\"\"\r\n",
        "\r\n",
        "    X_input = Input(shape=(Tx, input_image_size, 1))\r\n",
        "    cnn = cnn_1d((3840,1))\r\n",
        "    X = TimeDistributed(cnn)(X_input)\r\n",
        "\r\n",
        "    s0 = Input(shape=(n_s,), name='s0')\r\n",
        "    c0 = Input(shape=(n_s,), name='c0')\r\n",
        "    s = s0\r\n",
        "    c = c0\r\n",
        "    \r\n",
        "    # Initialize empty list of outputs\r\n",
        "    outputs = []\r\n",
        "    \r\n",
        "    \r\n",
        "    a = Bidirectional(LSTM(n_a, return_sequences=True))(X)\r\n",
        "    \r\n",
        "    for t in range(Ty):\r\n",
        "    \r\n",
        "        context = one_step_attention(a, s)\r\n",
        "\r\n",
        "        s, _, c = post_activation_LSTM_cell(context,initial_state=[s, c])\r\n",
        "        \r\n",
        "        out = output_layer(s)\r\n",
        "                \r\n",
        "        outputs.append(out)\r\n",
        "    \r\n",
        "    \r\n",
        "    model = Model(inputs=[X_input, s0, c0], outputs=outputs)\r\n",
        "        \r\n",
        "    return model"
      ],
      "execution_count": 18,
      "outputs": []
    },
    {
      "cell_type": "code",
      "metadata": {
        "id": "42VUjlUkkdQg"
      },
      "source": [
        "model = cnn_attention(Tx, Ty, n_a, n_s, 3840, 3)"
      ],
      "execution_count": 19,
      "outputs": []
    },
    {
      "cell_type": "code",
      "metadata": {
        "colab": {
          "base_uri": "https://localhost:8080/"
        },
        "id": "3loV3KmvkvVX",
        "outputId": "cfa32179-433a-4c40-aa66-4d80af992057"
      },
      "source": [
        "model.summary()"
      ],
      "execution_count": 20,
      "outputs": [
        {
          "output_type": "stream",
          "text": [
            "Model: \"model\"\n",
            "__________________________________________________________________________________________________\n",
            "Layer (type)                    Output Shape         Param #     Connected to                     \n",
            "==================================================================================================\n",
            "input_1 (InputLayer)            [(None, 50, 3840, 1) 0                                            \n",
            "__________________________________________________________________________________________________\n",
            "time_distributed (TimeDistribut (None, 50, 10240)    1522944     input_1[0][0]                    \n",
            "__________________________________________________________________________________________________\n",
            "s0 (InputLayer)                 [(None, 64)]         0                                            \n",
            "__________________________________________________________________________________________________\n",
            "bidirectional (Bidirectional)   (None, 50, 64)       2629888     time_distributed[0][0]           \n",
            "__________________________________________________________________________________________________\n",
            "repeat_vector (RepeatVector)    (None, 50, 64)       0           s0[0][0]                         \n",
            "                                                                 lstm[0][0]                       \n",
            "                                                                 lstm[1][0]                       \n",
            "                                                                 lstm[2][0]                       \n",
            "                                                                 lstm[3][0]                       \n",
            "                                                                 lstm[4][0]                       \n",
            "                                                                 lstm[5][0]                       \n",
            "                                                                 lstm[6][0]                       \n",
            "                                                                 lstm[7][0]                       \n",
            "                                                                 lstm[8][0]                       \n",
            "                                                                 lstm[9][0]                       \n",
            "                                                                 lstm[10][0]                      \n",
            "                                                                 lstm[11][0]                      \n",
            "                                                                 lstm[12][0]                      \n",
            "                                                                 lstm[13][0]                      \n",
            "                                                                 lstm[14][0]                      \n",
            "                                                                 lstm[15][0]                      \n",
            "                                                                 lstm[16][0]                      \n",
            "                                                                 lstm[17][0]                      \n",
            "                                                                 lstm[18][0]                      \n",
            "                                                                 lstm[19][0]                      \n",
            "                                                                 lstm[20][0]                      \n",
            "                                                                 lstm[21][0]                      \n",
            "                                                                 lstm[22][0]                      \n",
            "                                                                 lstm[23][0]                      \n",
            "                                                                 lstm[24][0]                      \n",
            "                                                                 lstm[25][0]                      \n",
            "                                                                 lstm[26][0]                      \n",
            "                                                                 lstm[27][0]                      \n",
            "                                                                 lstm[28][0]                      \n",
            "                                                                 lstm[29][0]                      \n",
            "                                                                 lstm[30][0]                      \n",
            "                                                                 lstm[31][0]                      \n",
            "                                                                 lstm[32][0]                      \n",
            "                                                                 lstm[33][0]                      \n",
            "                                                                 lstm[34][0]                      \n",
            "                                                                 lstm[35][0]                      \n",
            "                                                                 lstm[36][0]                      \n",
            "                                                                 lstm[37][0]                      \n",
            "                                                                 lstm[38][0]                      \n",
            "                                                                 lstm[39][0]                      \n",
            "                                                                 lstm[40][0]                      \n",
            "                                                                 lstm[41][0]                      \n",
            "                                                                 lstm[42][0]                      \n",
            "                                                                 lstm[43][0]                      \n",
            "                                                                 lstm[44][0]                      \n",
            "                                                                 lstm[45][0]                      \n",
            "                                                                 lstm[46][0]                      \n",
            "                                                                 lstm[47][0]                      \n",
            "                                                                 lstm[48][0]                      \n",
            "__________________________________________________________________________________________________\n",
            "concatenate (Concatenate)       (None, 50, 128)      0           bidirectional[0][0]              \n",
            "                                                                 repeat_vector[0][0]              \n",
            "                                                                 bidirectional[0][0]              \n",
            "                                                                 repeat_vector[1][0]              \n",
            "                                                                 bidirectional[0][0]              \n",
            "                                                                 repeat_vector[2][0]              \n",
            "                                                                 bidirectional[0][0]              \n",
            "                                                                 repeat_vector[3][0]              \n",
            "                                                                 bidirectional[0][0]              \n",
            "                                                                 repeat_vector[4][0]              \n",
            "                                                                 bidirectional[0][0]              \n",
            "                                                                 repeat_vector[5][0]              \n",
            "                                                                 bidirectional[0][0]              \n",
            "                                                                 repeat_vector[6][0]              \n",
            "                                                                 bidirectional[0][0]              \n",
            "                                                                 repeat_vector[7][0]              \n",
            "                                                                 bidirectional[0][0]              \n",
            "                                                                 repeat_vector[8][0]              \n",
            "                                                                 bidirectional[0][0]              \n",
            "                                                                 repeat_vector[9][0]              \n",
            "                                                                 bidirectional[0][0]              \n",
            "                                                                 repeat_vector[10][0]             \n",
            "                                                                 bidirectional[0][0]              \n",
            "                                                                 repeat_vector[11][0]             \n",
            "                                                                 bidirectional[0][0]              \n",
            "                                                                 repeat_vector[12][0]             \n",
            "                                                                 bidirectional[0][0]              \n",
            "                                                                 repeat_vector[13][0]             \n",
            "                                                                 bidirectional[0][0]              \n",
            "                                                                 repeat_vector[14][0]             \n",
            "                                                                 bidirectional[0][0]              \n",
            "                                                                 repeat_vector[15][0]             \n",
            "                                                                 bidirectional[0][0]              \n",
            "                                                                 repeat_vector[16][0]             \n",
            "                                                                 bidirectional[0][0]              \n",
            "                                                                 repeat_vector[17][0]             \n",
            "                                                                 bidirectional[0][0]              \n",
            "                                                                 repeat_vector[18][0]             \n",
            "                                                                 bidirectional[0][0]              \n",
            "                                                                 repeat_vector[19][0]             \n",
            "                                                                 bidirectional[0][0]              \n",
            "                                                                 repeat_vector[20][0]             \n",
            "                                                                 bidirectional[0][0]              \n",
            "                                                                 repeat_vector[21][0]             \n",
            "                                                                 bidirectional[0][0]              \n",
            "                                                                 repeat_vector[22][0]             \n",
            "                                                                 bidirectional[0][0]              \n",
            "                                                                 repeat_vector[23][0]             \n",
            "                                                                 bidirectional[0][0]              \n",
            "                                                                 repeat_vector[24][0]             \n",
            "                                                                 bidirectional[0][0]              \n",
            "                                                                 repeat_vector[25][0]             \n",
            "                                                                 bidirectional[0][0]              \n",
            "                                                                 repeat_vector[26][0]             \n",
            "                                                                 bidirectional[0][0]              \n",
            "                                                                 repeat_vector[27][0]             \n",
            "                                                                 bidirectional[0][0]              \n",
            "                                                                 repeat_vector[28][0]             \n",
            "                                                                 bidirectional[0][0]              \n",
            "                                                                 repeat_vector[29][0]             \n",
            "                                                                 bidirectional[0][0]              \n",
            "                                                                 repeat_vector[30][0]             \n",
            "                                                                 bidirectional[0][0]              \n",
            "                                                                 repeat_vector[31][0]             \n",
            "                                                                 bidirectional[0][0]              \n",
            "                                                                 repeat_vector[32][0]             \n",
            "                                                                 bidirectional[0][0]              \n",
            "                                                                 repeat_vector[33][0]             \n",
            "                                                                 bidirectional[0][0]              \n",
            "                                                                 repeat_vector[34][0]             \n",
            "                                                                 bidirectional[0][0]              \n",
            "                                                                 repeat_vector[35][0]             \n",
            "                                                                 bidirectional[0][0]              \n",
            "                                                                 repeat_vector[36][0]             \n",
            "                                                                 bidirectional[0][0]              \n",
            "                                                                 repeat_vector[37][0]             \n",
            "                                                                 bidirectional[0][0]              \n",
            "                                                                 repeat_vector[38][0]             \n",
            "                                                                 bidirectional[0][0]              \n",
            "                                                                 repeat_vector[39][0]             \n",
            "                                                                 bidirectional[0][0]              \n",
            "                                                                 repeat_vector[40][0]             \n",
            "                                                                 bidirectional[0][0]              \n",
            "                                                                 repeat_vector[41][0]             \n",
            "                                                                 bidirectional[0][0]              \n",
            "                                                                 repeat_vector[42][0]             \n",
            "                                                                 bidirectional[0][0]              \n",
            "                                                                 repeat_vector[43][0]             \n",
            "                                                                 bidirectional[0][0]              \n",
            "                                                                 repeat_vector[44][0]             \n",
            "                                                                 bidirectional[0][0]              \n",
            "                                                                 repeat_vector[45][0]             \n",
            "                                                                 bidirectional[0][0]              \n",
            "                                                                 repeat_vector[46][0]             \n",
            "                                                                 bidirectional[0][0]              \n",
            "                                                                 repeat_vector[47][0]             \n",
            "                                                                 bidirectional[0][0]              \n",
            "                                                                 repeat_vector[48][0]             \n",
            "                                                                 bidirectional[0][0]              \n",
            "                                                                 repeat_vector[49][0]             \n",
            "__________________________________________________________________________________________________\n",
            "dense (Dense)                   (None, 50, 10)       1290        concatenate[0][0]                \n",
            "                                                                 concatenate[1][0]                \n",
            "                                                                 concatenate[2][0]                \n",
            "                                                                 concatenate[3][0]                \n",
            "                                                                 concatenate[4][0]                \n",
            "                                                                 concatenate[5][0]                \n",
            "                                                                 concatenate[6][0]                \n",
            "                                                                 concatenate[7][0]                \n",
            "                                                                 concatenate[8][0]                \n",
            "                                                                 concatenate[9][0]                \n",
            "                                                                 concatenate[10][0]               \n",
            "                                                                 concatenate[11][0]               \n",
            "                                                                 concatenate[12][0]               \n",
            "                                                                 concatenate[13][0]               \n",
            "                                                                 concatenate[14][0]               \n",
            "                                                                 concatenate[15][0]               \n",
            "                                                                 concatenate[16][0]               \n",
            "                                                                 concatenate[17][0]               \n",
            "                                                                 concatenate[18][0]               \n",
            "                                                                 concatenate[19][0]               \n",
            "                                                                 concatenate[20][0]               \n",
            "                                                                 concatenate[21][0]               \n",
            "                                                                 concatenate[22][0]               \n",
            "                                                                 concatenate[23][0]               \n",
            "                                                                 concatenate[24][0]               \n",
            "                                                                 concatenate[25][0]               \n",
            "                                                                 concatenate[26][0]               \n",
            "                                                                 concatenate[27][0]               \n",
            "                                                                 concatenate[28][0]               \n",
            "                                                                 concatenate[29][0]               \n",
            "                                                                 concatenate[30][0]               \n",
            "                                                                 concatenate[31][0]               \n",
            "                                                                 concatenate[32][0]               \n",
            "                                                                 concatenate[33][0]               \n",
            "                                                                 concatenate[34][0]               \n",
            "                                                                 concatenate[35][0]               \n",
            "                                                                 concatenate[36][0]               \n",
            "                                                                 concatenate[37][0]               \n",
            "                                                                 concatenate[38][0]               \n",
            "                                                                 concatenate[39][0]               \n",
            "                                                                 concatenate[40][0]               \n",
            "                                                                 concatenate[41][0]               \n",
            "                                                                 concatenate[42][0]               \n",
            "                                                                 concatenate[43][0]               \n",
            "                                                                 concatenate[44][0]               \n",
            "                                                                 concatenate[45][0]               \n",
            "                                                                 concatenate[46][0]               \n",
            "                                                                 concatenate[47][0]               \n",
            "                                                                 concatenate[48][0]               \n",
            "                                                                 concatenate[49][0]               \n",
            "__________________________________________________________________________________________________\n",
            "dense_1 (Dense)                 (None, 50, 1)        11          dense[0][0]                      \n",
            "                                                                 dense[1][0]                      \n",
            "                                                                 dense[2][0]                      \n",
            "                                                                 dense[3][0]                      \n",
            "                                                                 dense[4][0]                      \n",
            "                                                                 dense[5][0]                      \n",
            "                                                                 dense[6][0]                      \n",
            "                                                                 dense[7][0]                      \n",
            "                                                                 dense[8][0]                      \n",
            "                                                                 dense[9][0]                      \n",
            "                                                                 dense[10][0]                     \n",
            "                                                                 dense[11][0]                     \n",
            "                                                                 dense[12][0]                     \n",
            "                                                                 dense[13][0]                     \n",
            "                                                                 dense[14][0]                     \n",
            "                                                                 dense[15][0]                     \n",
            "                                                                 dense[16][0]                     \n",
            "                                                                 dense[17][0]                     \n",
            "                                                                 dense[18][0]                     \n",
            "                                                                 dense[19][0]                     \n",
            "                                                                 dense[20][0]                     \n",
            "                                                                 dense[21][0]                     \n",
            "                                                                 dense[22][0]                     \n",
            "                                                                 dense[23][0]                     \n",
            "                                                                 dense[24][0]                     \n",
            "                                                                 dense[25][0]                     \n",
            "                                                                 dense[26][0]                     \n",
            "                                                                 dense[27][0]                     \n",
            "                                                                 dense[28][0]                     \n",
            "                                                                 dense[29][0]                     \n",
            "                                                                 dense[30][0]                     \n",
            "                                                                 dense[31][0]                     \n",
            "                                                                 dense[32][0]                     \n",
            "                                                                 dense[33][0]                     \n",
            "                                                                 dense[34][0]                     \n",
            "                                                                 dense[35][0]                     \n",
            "                                                                 dense[36][0]                     \n",
            "                                                                 dense[37][0]                     \n",
            "                                                                 dense[38][0]                     \n",
            "                                                                 dense[39][0]                     \n",
            "                                                                 dense[40][0]                     \n",
            "                                                                 dense[41][0]                     \n",
            "                                                                 dense[42][0]                     \n",
            "                                                                 dense[43][0]                     \n",
            "                                                                 dense[44][0]                     \n",
            "                                                                 dense[45][0]                     \n",
            "                                                                 dense[46][0]                     \n",
            "                                                                 dense[47][0]                     \n",
            "                                                                 dense[48][0]                     \n",
            "                                                                 dense[49][0]                     \n",
            "__________________________________________________________________________________________________\n",
            "attention_weights (Softmax)     (None, 50, 1)        0           dense_1[0][0]                    \n",
            "                                                                 dense_1[1][0]                    \n",
            "                                                                 dense_1[2][0]                    \n",
            "                                                                 dense_1[3][0]                    \n",
            "                                                                 dense_1[4][0]                    \n",
            "                                                                 dense_1[5][0]                    \n",
            "                                                                 dense_1[6][0]                    \n",
            "                                                                 dense_1[7][0]                    \n",
            "                                                                 dense_1[8][0]                    \n",
            "                                                                 dense_1[9][0]                    \n",
            "                                                                 dense_1[10][0]                   \n",
            "                                                                 dense_1[11][0]                   \n",
            "                                                                 dense_1[12][0]                   \n",
            "                                                                 dense_1[13][0]                   \n",
            "                                                                 dense_1[14][0]                   \n",
            "                                                                 dense_1[15][0]                   \n",
            "                                                                 dense_1[16][0]                   \n",
            "                                                                 dense_1[17][0]                   \n",
            "                                                                 dense_1[18][0]                   \n",
            "                                                                 dense_1[19][0]                   \n",
            "                                                                 dense_1[20][0]                   \n",
            "                                                                 dense_1[21][0]                   \n",
            "                                                                 dense_1[22][0]                   \n",
            "                                                                 dense_1[23][0]                   \n",
            "                                                                 dense_1[24][0]                   \n",
            "                                                                 dense_1[25][0]                   \n",
            "                                                                 dense_1[26][0]                   \n",
            "                                                                 dense_1[27][0]                   \n",
            "                                                                 dense_1[28][0]                   \n",
            "                                                                 dense_1[29][0]                   \n",
            "                                                                 dense_1[30][0]                   \n",
            "                                                                 dense_1[31][0]                   \n",
            "                                                                 dense_1[32][0]                   \n",
            "                                                                 dense_1[33][0]                   \n",
            "                                                                 dense_1[34][0]                   \n",
            "                                                                 dense_1[35][0]                   \n",
            "                                                                 dense_1[36][0]                   \n",
            "                                                                 dense_1[37][0]                   \n",
            "                                                                 dense_1[38][0]                   \n",
            "                                                                 dense_1[39][0]                   \n",
            "                                                                 dense_1[40][0]                   \n",
            "                                                                 dense_1[41][0]                   \n",
            "                                                                 dense_1[42][0]                   \n",
            "                                                                 dense_1[43][0]                   \n",
            "                                                                 dense_1[44][0]                   \n",
            "                                                                 dense_1[45][0]                   \n",
            "                                                                 dense_1[46][0]                   \n",
            "                                                                 dense_1[47][0]                   \n",
            "                                                                 dense_1[48][0]                   \n",
            "                                                                 dense_1[49][0]                   \n",
            "__________________________________________________________________________________________________\n",
            "dot (Dot)                       (None, 1, 64)        0           attention_weights[0][0]          \n",
            "                                                                 bidirectional[0][0]              \n",
            "                                                                 attention_weights[1][0]          \n",
            "                                                                 bidirectional[0][0]              \n",
            "                                                                 attention_weights[2][0]          \n",
            "                                                                 bidirectional[0][0]              \n",
            "                                                                 attention_weights[3][0]          \n",
            "                                                                 bidirectional[0][0]              \n",
            "                                                                 attention_weights[4][0]          \n",
            "                                                                 bidirectional[0][0]              \n",
            "                                                                 attention_weights[5][0]          \n",
            "                                                                 bidirectional[0][0]              \n",
            "                                                                 attention_weights[6][0]          \n",
            "                                                                 bidirectional[0][0]              \n",
            "                                                                 attention_weights[7][0]          \n",
            "                                                                 bidirectional[0][0]              \n",
            "                                                                 attention_weights[8][0]          \n",
            "                                                                 bidirectional[0][0]              \n",
            "                                                                 attention_weights[9][0]          \n",
            "                                                                 bidirectional[0][0]              \n",
            "                                                                 attention_weights[10][0]         \n",
            "                                                                 bidirectional[0][0]              \n",
            "                                                                 attention_weights[11][0]         \n",
            "                                                                 bidirectional[0][0]              \n",
            "                                                                 attention_weights[12][0]         \n",
            "                                                                 bidirectional[0][0]              \n",
            "                                                                 attention_weights[13][0]         \n",
            "                                                                 bidirectional[0][0]              \n",
            "                                                                 attention_weights[14][0]         \n",
            "                                                                 bidirectional[0][0]              \n",
            "                                                                 attention_weights[15][0]         \n",
            "                                                                 bidirectional[0][0]              \n",
            "                                                                 attention_weights[16][0]         \n",
            "                                                                 bidirectional[0][0]              \n",
            "                                                                 attention_weights[17][0]         \n",
            "                                                                 bidirectional[0][0]              \n",
            "                                                                 attention_weights[18][0]         \n",
            "                                                                 bidirectional[0][0]              \n",
            "                                                                 attention_weights[19][0]         \n",
            "                                                                 bidirectional[0][0]              \n",
            "                                                                 attention_weights[20][0]         \n",
            "                                                                 bidirectional[0][0]              \n",
            "                                                                 attention_weights[21][0]         \n",
            "                                                                 bidirectional[0][0]              \n",
            "                                                                 attention_weights[22][0]         \n",
            "                                                                 bidirectional[0][0]              \n",
            "                                                                 attention_weights[23][0]         \n",
            "                                                                 bidirectional[0][0]              \n",
            "                                                                 attention_weights[24][0]         \n",
            "                                                                 bidirectional[0][0]              \n",
            "                                                                 attention_weights[25][0]         \n",
            "                                                                 bidirectional[0][0]              \n",
            "                                                                 attention_weights[26][0]         \n",
            "                                                                 bidirectional[0][0]              \n",
            "                                                                 attention_weights[27][0]         \n",
            "                                                                 bidirectional[0][0]              \n",
            "                                                                 attention_weights[28][0]         \n",
            "                                                                 bidirectional[0][0]              \n",
            "                                                                 attention_weights[29][0]         \n",
            "                                                                 bidirectional[0][0]              \n",
            "                                                                 attention_weights[30][0]         \n",
            "                                                                 bidirectional[0][0]              \n",
            "                                                                 attention_weights[31][0]         \n",
            "                                                                 bidirectional[0][0]              \n",
            "                                                                 attention_weights[32][0]         \n",
            "                                                                 bidirectional[0][0]              \n",
            "                                                                 attention_weights[33][0]         \n",
            "                                                                 bidirectional[0][0]              \n",
            "                                                                 attention_weights[34][0]         \n",
            "                                                                 bidirectional[0][0]              \n",
            "                                                                 attention_weights[35][0]         \n",
            "                                                                 bidirectional[0][0]              \n",
            "                                                                 attention_weights[36][0]         \n",
            "                                                                 bidirectional[0][0]              \n",
            "                                                                 attention_weights[37][0]         \n",
            "                                                                 bidirectional[0][0]              \n",
            "                                                                 attention_weights[38][0]         \n",
            "                                                                 bidirectional[0][0]              \n",
            "                                                                 attention_weights[39][0]         \n",
            "                                                                 bidirectional[0][0]              \n",
            "                                                                 attention_weights[40][0]         \n",
            "                                                                 bidirectional[0][0]              \n",
            "                                                                 attention_weights[41][0]         \n",
            "                                                                 bidirectional[0][0]              \n",
            "                                                                 attention_weights[42][0]         \n",
            "                                                                 bidirectional[0][0]              \n",
            "                                                                 attention_weights[43][0]         \n",
            "                                                                 bidirectional[0][0]              \n",
            "                                                                 attention_weights[44][0]         \n",
            "                                                                 bidirectional[0][0]              \n",
            "                                                                 attention_weights[45][0]         \n",
            "                                                                 bidirectional[0][0]              \n",
            "                                                                 attention_weights[46][0]         \n",
            "                                                                 bidirectional[0][0]              \n",
            "                                                                 attention_weights[47][0]         \n",
            "                                                                 bidirectional[0][0]              \n",
            "                                                                 attention_weights[48][0]         \n",
            "                                                                 bidirectional[0][0]              \n",
            "                                                                 attention_weights[49][0]         \n",
            "                                                                 bidirectional[0][0]              \n",
            "__________________________________________________________________________________________________\n",
            "c0 (InputLayer)                 [(None, 64)]         0                                            \n",
            "__________________________________________________________________________________________________\n",
            "lstm (LSTM)                     [(None, 64), (None,  33024       dot[0][0]                        \n",
            "                                                                 s0[0][0]                         \n",
            "                                                                 c0[0][0]                         \n",
            "                                                                 dot[1][0]                        \n",
            "                                                                 lstm[0][0]                       \n",
            "                                                                 lstm[0][2]                       \n",
            "                                                                 dot[2][0]                        \n",
            "                                                                 lstm[1][0]                       \n",
            "                                                                 lstm[1][2]                       \n",
            "                                                                 dot[3][0]                        \n",
            "                                                                 lstm[2][0]                       \n",
            "                                                                 lstm[2][2]                       \n",
            "                                                                 dot[4][0]                        \n",
            "                                                                 lstm[3][0]                       \n",
            "                                                                 lstm[3][2]                       \n",
            "                                                                 dot[5][0]                        \n",
            "                                                                 lstm[4][0]                       \n",
            "                                                                 lstm[4][2]                       \n",
            "                                                                 dot[6][0]                        \n",
            "                                                                 lstm[5][0]                       \n",
            "                                                                 lstm[5][2]                       \n",
            "                                                                 dot[7][0]                        \n",
            "                                                                 lstm[6][0]                       \n",
            "                                                                 lstm[6][2]                       \n",
            "                                                                 dot[8][0]                        \n",
            "                                                                 lstm[7][0]                       \n",
            "                                                                 lstm[7][2]                       \n",
            "                                                                 dot[9][0]                        \n",
            "                                                                 lstm[8][0]                       \n",
            "                                                                 lstm[8][2]                       \n",
            "                                                                 dot[10][0]                       \n",
            "                                                                 lstm[9][0]                       \n",
            "                                                                 lstm[9][2]                       \n",
            "                                                                 dot[11][0]                       \n",
            "                                                                 lstm[10][0]                      \n",
            "                                                                 lstm[10][2]                      \n",
            "                                                                 dot[12][0]                       \n",
            "                                                                 lstm[11][0]                      \n",
            "                                                                 lstm[11][2]                      \n",
            "                                                                 dot[13][0]                       \n",
            "                                                                 lstm[12][0]                      \n",
            "                                                                 lstm[12][2]                      \n",
            "                                                                 dot[14][0]                       \n",
            "                                                                 lstm[13][0]                      \n",
            "                                                                 lstm[13][2]                      \n",
            "                                                                 dot[15][0]                       \n",
            "                                                                 lstm[14][0]                      \n",
            "                                                                 lstm[14][2]                      \n",
            "                                                                 dot[16][0]                       \n",
            "                                                                 lstm[15][0]                      \n",
            "                                                                 lstm[15][2]                      \n",
            "                                                                 dot[17][0]                       \n",
            "                                                                 lstm[16][0]                      \n",
            "                                                                 lstm[16][2]                      \n",
            "                                                                 dot[18][0]                       \n",
            "                                                                 lstm[17][0]                      \n",
            "                                                                 lstm[17][2]                      \n",
            "                                                                 dot[19][0]                       \n",
            "                                                                 lstm[18][0]                      \n",
            "                                                                 lstm[18][2]                      \n",
            "                                                                 dot[20][0]                       \n",
            "                                                                 lstm[19][0]                      \n",
            "                                                                 lstm[19][2]                      \n",
            "                                                                 dot[21][0]                       \n",
            "                                                                 lstm[20][0]                      \n",
            "                                                                 lstm[20][2]                      \n",
            "                                                                 dot[22][0]                       \n",
            "                                                                 lstm[21][0]                      \n",
            "                                                                 lstm[21][2]                      \n",
            "                                                                 dot[23][0]                       \n",
            "                                                                 lstm[22][0]                      \n",
            "                                                                 lstm[22][2]                      \n",
            "                                                                 dot[24][0]                       \n",
            "                                                                 lstm[23][0]                      \n",
            "                                                                 lstm[23][2]                      \n",
            "                                                                 dot[25][0]                       \n",
            "                                                                 lstm[24][0]                      \n",
            "                                                                 lstm[24][2]                      \n",
            "                                                                 dot[26][0]                       \n",
            "                                                                 lstm[25][0]                      \n",
            "                                                                 lstm[25][2]                      \n",
            "                                                                 dot[27][0]                       \n",
            "                                                                 lstm[26][0]                      \n",
            "                                                                 lstm[26][2]                      \n",
            "                                                                 dot[28][0]                       \n",
            "                                                                 lstm[27][0]                      \n",
            "                                                                 lstm[27][2]                      \n",
            "                                                                 dot[29][0]                       \n",
            "                                                                 lstm[28][0]                      \n",
            "                                                                 lstm[28][2]                      \n",
            "                                                                 dot[30][0]                       \n",
            "                                                                 lstm[29][0]                      \n",
            "                                                                 lstm[29][2]                      \n",
            "                                                                 dot[31][0]                       \n",
            "                                                                 lstm[30][0]                      \n",
            "                                                                 lstm[30][2]                      \n",
            "                                                                 dot[32][0]                       \n",
            "                                                                 lstm[31][0]                      \n",
            "                                                                 lstm[31][2]                      \n",
            "                                                                 dot[33][0]                       \n",
            "                                                                 lstm[32][0]                      \n",
            "                                                                 lstm[32][2]                      \n",
            "                                                                 dot[34][0]                       \n",
            "                                                                 lstm[33][0]                      \n",
            "                                                                 lstm[33][2]                      \n",
            "                                                                 dot[35][0]                       \n",
            "                                                                 lstm[34][0]                      \n",
            "                                                                 lstm[34][2]                      \n",
            "                                                                 dot[36][0]                       \n",
            "                                                                 lstm[35][0]                      \n",
            "                                                                 lstm[35][2]                      \n",
            "                                                                 dot[37][0]                       \n",
            "                                                                 lstm[36][0]                      \n",
            "                                                                 lstm[36][2]                      \n",
            "                                                                 dot[38][0]                       \n",
            "                                                                 lstm[37][0]                      \n",
            "                                                                 lstm[37][2]                      \n",
            "                                                                 dot[39][0]                       \n",
            "                                                                 lstm[38][0]                      \n",
            "                                                                 lstm[38][2]                      \n",
            "                                                                 dot[40][0]                       \n",
            "                                                                 lstm[39][0]                      \n",
            "                                                                 lstm[39][2]                      \n",
            "                                                                 dot[41][0]                       \n",
            "                                                                 lstm[40][0]                      \n",
            "                                                                 lstm[40][2]                      \n",
            "                                                                 dot[42][0]                       \n",
            "                                                                 lstm[41][0]                      \n",
            "                                                                 lstm[41][2]                      \n",
            "                                                                 dot[43][0]                       \n",
            "                                                                 lstm[42][0]                      \n",
            "                                                                 lstm[42][2]                      \n",
            "                                                                 dot[44][0]                       \n",
            "                                                                 lstm[43][0]                      \n",
            "                                                                 lstm[43][2]                      \n",
            "                                                                 dot[45][0]                       \n",
            "                                                                 lstm[44][0]                      \n",
            "                                                                 lstm[44][2]                      \n",
            "                                                                 dot[46][0]                       \n",
            "                                                                 lstm[45][0]                      \n",
            "                                                                 lstm[45][2]                      \n",
            "                                                                 dot[47][0]                       \n",
            "                                                                 lstm[46][0]                      \n",
            "                                                                 lstm[46][2]                      \n",
            "                                                                 dot[48][0]                       \n",
            "                                                                 lstm[47][0]                      \n",
            "                                                                 lstm[47][2]                      \n",
            "                                                                 dot[49][0]                       \n",
            "                                                                 lstm[48][0]                      \n",
            "                                                                 lstm[48][2]                      \n",
            "__________________________________________________________________________________________________\n",
            "dense_2 (Dense)                 (None, 3)            195         lstm[0][0]                       \n",
            "                                                                 lstm[1][0]                       \n",
            "                                                                 lstm[2][0]                       \n",
            "                                                                 lstm[3][0]                       \n",
            "                                                                 lstm[4][0]                       \n",
            "                                                                 lstm[5][0]                       \n",
            "                                                                 lstm[6][0]                       \n",
            "                                                                 lstm[7][0]                       \n",
            "                                                                 lstm[8][0]                       \n",
            "                                                                 lstm[9][0]                       \n",
            "                                                                 lstm[10][0]                      \n",
            "                                                                 lstm[11][0]                      \n",
            "                                                                 lstm[12][0]                      \n",
            "                                                                 lstm[13][0]                      \n",
            "                                                                 lstm[14][0]                      \n",
            "                                                                 lstm[15][0]                      \n",
            "                                                                 lstm[16][0]                      \n",
            "                                                                 lstm[17][0]                      \n",
            "                                                                 lstm[18][0]                      \n",
            "                                                                 lstm[19][0]                      \n",
            "                                                                 lstm[20][0]                      \n",
            "                                                                 lstm[21][0]                      \n",
            "                                                                 lstm[22][0]                      \n",
            "                                                                 lstm[23][0]                      \n",
            "                                                                 lstm[24][0]                      \n",
            "                                                                 lstm[25][0]                      \n",
            "                                                                 lstm[26][0]                      \n",
            "                                                                 lstm[27][0]                      \n",
            "                                                                 lstm[28][0]                      \n",
            "                                                                 lstm[29][0]                      \n",
            "                                                                 lstm[30][0]                      \n",
            "                                                                 lstm[31][0]                      \n",
            "                                                                 lstm[32][0]                      \n",
            "                                                                 lstm[33][0]                      \n",
            "                                                                 lstm[34][0]                      \n",
            "                                                                 lstm[35][0]                      \n",
            "                                                                 lstm[36][0]                      \n",
            "                                                                 lstm[37][0]                      \n",
            "                                                                 lstm[38][0]                      \n",
            "                                                                 lstm[39][0]                      \n",
            "                                                                 lstm[40][0]                      \n",
            "                                                                 lstm[41][0]                      \n",
            "                                                                 lstm[42][0]                      \n",
            "                                                                 lstm[43][0]                      \n",
            "                                                                 lstm[44][0]                      \n",
            "                                                                 lstm[45][0]                      \n",
            "                                                                 lstm[46][0]                      \n",
            "                                                                 lstm[47][0]                      \n",
            "                                                                 lstm[48][0]                      \n",
            "                                                                 lstm[49][0]                      \n",
            "==================================================================================================\n",
            "Total params: 4,187,352\n",
            "Trainable params: 4,184,920\n",
            "Non-trainable params: 2,432\n",
            "__________________________________________________________________________________________________\n"
          ],
          "name": "stdout"
        }
      ]
    },
    {
      "cell_type": "markdown",
      "metadata": {
        "id": "3kbNKcqp16t1"
      },
      "source": [
        "##3.3 Training"
      ]
    },
    {
      "cell_type": "code",
      "metadata": {
        "id": "RPhi6yWq-QSc"
      },
      "source": [
        "class CustomizedLoss(tf.keras.losses.Loss):\r\n",
        "    def compute_loss(self, logits, positions):\r\n",
        "        one_hot_positions = tf.one_hot(\r\n",
        "            int(positions), depth=3)\r\n",
        "        log_probs = tf.nn.log_softmax(logits, axis=-1)\r\n",
        "        weight = tf.constant([1.,4.,1.])\r\n",
        "        loss = -tf.reduce_mean(\r\n",
        "            tf.reduce_sum(one_hot_positions * log_probs * weight, axis=-1))\r\n",
        "        return loss\r\n",
        "    \r\n",
        "    def call(self, y_true, y_pred):\r\n",
        "        loss = self.compute_loss(y_pred, y_true)\r\n",
        "        return loss"
      ],
      "execution_count": null,
      "outputs": []
    },
    {
      "cell_type": "markdown",
      "metadata": {
        "id": "ZFQivnnfhnfd"
      },
      "source": [
        "###3.3.1 Train with distributed TPUs/GPUs"
      ]
    },
    {
      "cell_type": "code",
      "metadata": {
        "id": "NyM3gkryf8bg"
      },
      "source": [
        "with mirrored_strategy.scope(): # creating the model in the TPUStrategy scope means we will train the model on the TPU\r\n",
        "    \r\n",
        "    batch_size = 16\r\n",
        "    repeator = RepeatVector(Tx) \r\n",
        "    concatenator = Concatenate(axis=-1) \r\n",
        "    densor1 = Dense(10, activation = \"tanh\") \r\n",
        "    densor2 = Dense(1, activation = \"relu\")\r\n",
        "    activator = Softmax(axis=1, name='attention_weights') \r\n",
        "    dotor = Dot(axes = 1)\r\n",
        "\r\n",
        "    post_activation_LSTM_cell = LSTM(n_s, return_state = True)\r\n",
        "    output_layer = Dense(3)\r\n",
        "\r\n",
        "    model = cnn_attention(Tx, Ty, n_a, n_s, 3840, 3)\r\n",
        "    \r\n",
        "    ## tensorboard callback\r\n",
        "    logdir = os.path.join(\"logs\", datetime.datetime.now().strftime(\"%Y%m%d-%H%M%S\"))\r\n",
        "    tensorboard_callback = tf.keras.callbacks.TensorBoard(logdir, histogram_freq=1)\r\n",
        "    %tensorboard --logdir logs\r\n",
        "    ## early stop\r\n",
        "    def decay(epoch):\r\n",
        "        if epoch < 50:\r\n",
        "            return 1e-4\r\n",
        "        elif 50 <= epoch < 150:\r\n",
        "            return 1e-5\r\n",
        "        else:\r\n",
        "            return 1e-6\r\n",
        "\r\n",
        "    early_stop = tf.keras.callbacks.EarlyStopping(monitor='val_loss', patience=20, restore_best_weights=False)\r\n",
        "\r\n",
        "    ## learning rate decay callback\r\n",
        "    lr_schedule = tf.keras.callbacks.LearningRateScheduler(decay)\r\n",
        "\r\n",
        "    callbacks_list = [tensorboard_callback, early_stop, lr_schedule]\r\n",
        "\r\n",
        "    model.compile(optimizer=tf.keras.optimizers.Adam(),\r\n",
        "                  loss=tf.keras.losses.SparseCategoricalCrossentropy(from_logits=True),\r\n",
        "                  metrics=['accuracy'])\r\n",
        "    \r\n",
        "    history = model.fit(x=[os_train_signal, t_s0, t_c0],\r\n",
        "                        y=list(os_train_label.swapaxes(0,1)),\r\n",
        "                        epochs=100,\r\n",
        "                        batch_size=16,\r\n",
        "                        steps_per_epoch=len(os_train_signal)//batch_size,\r\n",
        "                        verbose=1,\r\n",
        "                        validation_data=([os_val_signal, v_s0, v_c0], \r\n",
        "                                         list(os_val_label.swapaxes(0,1))),\r\n",
        "                        validation_batch_size=16,\r\n",
        "                        validation_steps=len(os_val_signal)//batch_size,\r\n",
        "                        callbacks=callbacks_list\r\n",
        "                        )"
      ],
      "execution_count": null,
      "outputs": []
    },
    {
      "cell_type": "code",
      "metadata": {
        "id": "h9bz4jNaH8jG"
      },
      "source": [
        "# Retrieve a list of list results on training and test data sets for each training epoch\n",
        "loss=history.history['loss']\n",
        "val_loss=history.history['val_loss']\n",
        "\n",
        "epochs=range(len(loss)) # Get number of epochs\n",
        "\n",
        "# Plot training and validation loss per epoch\n",
        "plt.plot(epochs, loss, 'r', label=\"Training Loss\")\n",
        "plt.plot(epochs, val_loss, 'b', label=\"Validation Loss\")\n",
        "plt.title('Training and validation Loss')\n",
        "plt.legend()\n",
        "plt.figure()"
      ],
      "execution_count": null,
      "outputs": []
    },
    {
      "cell_type": "markdown",
      "metadata": {
        "id": "cUee80JIhjyY"
      },
      "source": [
        "###3.3.2 Train with single TPU/GPU"
      ]
    },
    {
      "cell_type": "code",
      "metadata": {
        "id": "wr7CnSvMTqvF"
      },
      "source": [
        "## tensorboard callback\r\n",
        "logdir = os.path.join(\"logs\", datetime.datetime.now().strftime(\"%Y%m%d-%H%M%S\"))\r\n",
        "tensorboard_callback = tf.keras.callbacks.TensorBoard(logdir, histogram_freq=1)\r\n",
        "%tensorboard --logdir logs\r\n",
        "\r\n",
        "## checkpoint callback\r\n",
        "filepath = os.path.join(\"models\",  \"test-oversample-128Hz-{epoch:02d}-{loss:.4f}\")\r\n",
        "checkpoint = ModelCheckpoint(filepath, monitor='val_loss', verbose=1, \r\n",
        "                             save_best_only=True, mode='auto')\r\n",
        "\r\n",
        "## early stop\r\n",
        "def decay(epoch):\r\n",
        "    if epoch < 50:\r\n",
        "        return 1e-3\r\n",
        "    elif 50 <= epoch < 150:\r\n",
        "        return 1e-4\r\n",
        "    else:\r\n",
        "        return 1e-5\r\n",
        "\r\n",
        "early_stop = tf.keras.callbacks.EarlyStopping(monitor='val_loss', patience=20, \r\n",
        "                                              restore_best_weights=True)\r\n",
        "\r\n",
        "## learning rate decay callback\r\n",
        "lr_schedule = tf.keras.callbacks.LearningRateScheduler(decay)\r\n",
        "\r\n",
        "callbacks_list = [tensorboard_callback, checkpoint, early_stop, lr_schedule]\r\n",
        "\r\n",
        "model.compile(optimizer=tf.keras.optimizers.Adam(),\r\n",
        "              loss=tf.keras.losses.SparseCategoricalCrossentropy(from_logits=True),\r\n",
        "              metrics=['accuracy'])\r\n",
        "\r\n",
        "model.fit([os_train_signal, t_s0, t_c0],\r\n",
        "          list(os_train_label.swapaxes(0,1)),\r\n",
        "          epochs=100,\r\n",
        "          batch_size=10,\r\n",
        "          verbose=1,\r\n",
        "          callbacks=callbacks_list\r\n",
        "          )"
      ],
      "execution_count": 14,
      "outputs": []
    },
    {
      "cell_type": "markdown",
      "metadata": {
        "id": "cgz_Nsz5sCfg"
      },
      "source": [
        "#4.Evaluate Model"
      ]
    },
    {
      "cell_type": "code",
      "metadata": {
        "id": "8ASNC6pT0m-A"
      },
      "source": [
        "# make predcitions\r\n",
        "val_pred_raw = model.predict([os_val_signal, v_s0, v_c0])\r\n",
        "val_pred = np.argmax(val_pred_raw, axis=-1)"
      ],
      "execution_count": null,
      "outputs": []
    },
    {
      "cell_type": "markdown",
      "metadata": {
        "id": "38nCyuTB0BpO"
      },
      "source": [
        "##4.1 Confusion Matrix"
      ]
    },
    {
      "cell_type": "code",
      "metadata": {
        "id": "VY78rgfRsSTI"
      },
      "source": [
        "def plot_confusion_matrix(cm, class_names, normalize=False):\r\n",
        "    \"\"\"\r\n",
        "    Returns a matplotlib figure containing the plotted confusion matrix.\r\n",
        "\r\n",
        "    Args:\r\n",
        "       cm (array, shape = [n, n]): a confusion matrix of integer classes\r\n",
        "       class_names (array, shape = [n]): String names of the integer classes\r\n",
        "    \"\"\"\r\n",
        "\r\n",
        "    figure = plt.figure(figsize=(8, 8))\r\n",
        "    plt.imshow(cm, interpolation='nearest', cmap=plt.cm.Blues)\r\n",
        "    plt.title(\"Confusion matrix\")\r\n",
        "    plt.colorbar()\r\n",
        "    tick_marks = np.arange(len(class_names))\r\n",
        "    plt.xticks(tick_marks, class_names)\r\n",
        "    plt.yticks(tick_marks, class_names)\r\n",
        "    plt.ylim(bottom=-0.5, top=2.5)\r\n",
        "\r\n",
        "    if normalize:\r\n",
        "        cm = np.around(cm.astype('float') / cm.sum(axis=1)[:, np.newaxis], decimals=2)\r\n",
        "\r\n",
        "    # Use white text if squares are dark; otherwise black.\r\n",
        "    threshold = cm.max() / 1.5\r\n",
        "\r\n",
        "    for i, j in itertools.product(range(cm.shape[0]), range(cm.shape[1])):\r\n",
        "        color = \"white\" if cm[i, j] > threshold else \"black\"\r\n",
        "        plt.text(j, i, cm[i, j], horizontalalignment=\"center\", color=color)\r\n",
        "\r\n",
        "    plt.tight_layout()\r\n",
        "    plt.ylabel('True label')\r\n",
        "    plt.xlabel('Predicted label')"
      ],
      "execution_count": null,
      "outputs": []
    },
    {
      "cell_type": "code",
      "metadata": {
        "colab": {
          "base_uri": "https://localhost:8080/",
          "height": 585
        },
        "id": "Ga9jFfrBvJvk",
        "outputId": "d5d01297-ac8e-41ec-d583-5e48dcec8a91"
      },
      "source": [
        "class_names = ['Wake','REM','NREM']\r\n",
        "cm = sklearn.metrics.confusion_matrix(val_label_input_join.flatten(), val_pred.flatten())\r\n",
        "plot_confusion_matrix(cm, class_names=class_names, normalize=True)"
      ],
      "execution_count": null,
      "outputs": [
        {
          "output_type": "display_data",
          "data": {
            "image/png": "[encoded data removed]",
            "text/plain": [
              "<Figure size 576x576 with 2 Axes>"
            ]
          },
          "metadata": {
            "tags": [],
            "needs_background": "light"
          }
        }
      ]
    },
    {
      "cell_type": "markdown",
      "metadata": {
        "id": "S1U84UqH0FHd"
      },
      "source": [
        "##4.2 Cohen’s kappa coefficient"
      ]
    },
    {
      "cell_type": "code",
      "metadata": {
        "colab": {
          "base_uri": "https://localhost:8080/"
        },
        "id": "Mdcd9LD-0Wob",
        "outputId": "7c990ab4-1b2f-421a-8dee-687a529b7434"
      },
      "source": [
        "sklearn.metrics.cohen_kappa_score(val_label_input_join.flatten(), val_pred.flatten())"
      ],
      "execution_count": null,
      "outputs": [
        {
          "output_type": "execute_result",
          "data": {
            "text/plain": [
              "0.28901251808963335"
            ]
          },
          "metadata": {
            "tags": []
          },
          "execution_count": 30
        }
      ]
    },
    {
      "cell_type": "markdown",
      "metadata": {
        "id": "WsgNnBoI0338"
      },
      "source": [
        "##4.3 Clinical parameters"
      ]
    },
    {
      "cell_type": "code",
      "metadata": {
        "id": "SawPaKLS0-mD"
      },
      "source": [
        "# total sleep time\r\n",
        "# sleep efficiency\r\n",
        "# sleep stage percentage\r\n",
        "# AHI"
      ],
      "execution_count": null,
      "outputs": []
    }
  ]
}